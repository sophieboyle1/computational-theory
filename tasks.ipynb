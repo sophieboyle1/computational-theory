{
 "cells": [
  {
   "cell_type": "markdown",
   "metadata": {},
   "source": [
    "## Task One: Binary Representations\n",
    "\n",
    "This task was all about working with bits. I had to implement four functions that manipulate bits in a 32-bit unsigned integer. These kinds of operations are essential in areas like cryptography and data compression, where you need to optimize data handling at the binary level.\n",
    "\n",
    "### **Functions Implemented**\n",
    "- **`rotl(x, n)`** – Rotates bits to the left.\n",
    "- **`rotr(x, n)`** – Rotates bits to the right.\n",
    "- **`ch(x, y, z)`** – Conditional bitwise selection.\n",
    "- **`maj(x, y, z)`** – Computes the majority bit at each position.\n",
    "\n",
    "Each function is essential in bitwise manipulations, particularly in hashing algorithms (e.g., SHA-256), data encoding, and optimizing storage."
   ]
  },
  {
   "cell_type": "markdown",
   "metadata": {},
   "source": [
    "### 1. **`rotl(x, n)`**\n",
    "The rotate left (rotl) function shifts the bits of a number to the left by n positions. Bits that overflow on the left wrap around to the right. This is different from a left shift (<<), where overflowed bits are lost.\n",
    "\n",
    "##### Why This Approach?\n",
    "- Bitwise Shifting & Masking\n",
    "Python supports [bitwise operations](https://docs.python.org/3/library/stdtypes.html#bitwise-operations) for manipulating integers efficiently. Since Python integers are arbitrary precision, we use bitwise masking (& 0xFFFFFFFF) to limit the result to 32 bits, ensuring behavior similar to C-based implementations.\n",
    "\n",
    "- Why is rotl useful in cryptographic functions?\n",
    "Bitwise rotations are widely used in cryptographic hash functions like SHA-256 because they help spread input bits throughout the computation. This ensures diffusion, a property that makes it difficult for an attacker to reverse-engineer the input from the hash. Additionally, rotations preserve all bits of the input, unlike shifts (`<< or >>`), which discard bits.\n",
    "\n",
    "- Handling Overflow Correctly\n",
    "Since a [left shift](https://stackoverflow.com/questions/141525/what-are-bitwise-shift-bit-shift-operators-and-how-do-they-work) (`<<`) moves bits out of the range, I needed to reintroduce the overflowed bits using a right shift (`>>`) and a [bitwise OR](https://stackoverflow.com/questions/17484720/how-do-bitwise-or-and-bitwise-and-work-in-python) (`|`) to complete the rotation.\n",
    "\n"
   ]
  },
  {
   "cell_type": "code",
   "execution_count": 42,
   "metadata": {},
   "outputs": [],
   "source": [
    "\n",
    "def rotl(x: int, n: int = 1) -> int:\n",
    "    \"\"\"\n",
    "    Rotates the bits of a 32-bit unsigned integer to the left by n positions.\n",
    "\n",
    "    Parameters:\n",
    "        x (int): The 32-bit unsigned integer to rotate.\n",
    "        n (int): The number of positions to rotate (default is 1).\n",
    "\n",
    "    Returns:\n",
    "        int: The rotated 32-bit unsigned integer.\n",
    "    \"\"\"\n",
    "    n = n % 32  # Ensure n is within the valid range (0-31)\n",
    "    return ((x << n) | (x >> (32 - n))) & 0xFFFFFFFF  # Perform bitwise rotation\n"
   ]
  },
  {
   "cell_type": "markdown",
   "metadata": {},
   "source": [
    "- Example Usage Of Rotl\n",
    "- This example rotates the bits of a number to the left by 4 positions and shows the result, including a case where all bits are set.\n"
   ]
  },
  {
   "cell_type": "code",
   "execution_count": 43,
   "metadata": {},
   "outputs": [
    {
     "name": "stdout",
     "output_type": "stream",
     "text": [
      "Original value (bin): 0b1\n",
      "Rotated left by 4 (bin): 0b10000\n",
      "Rotated left (all bits set): 0b11111111111111111111111111111111\n"
     ]
    }
   ],
   "source": [
    "# Example usage of rotl\n",
    "x = 0b00000000000000000000000000000001  # Binary representation of 1\n",
    "rotated_value = rotl(x, 4)\n",
    "\n",
    "# Output the original and rotated values\n",
    "print(f\"Original value (bin): {bin(x)}\")\n",
    "print(f\"Rotated left by 4 (bin): {bin(rotated_value)}\")\n",
    "\n",
    "# Example with all bits set\n",
    "x_all_set = 0xFFFFFFFF  # All 32 bits set to 1\n",
    "rotated_all_set = rotl(x_all_set, 5)\n",
    "print(f\"Rotated left (all bits set): {bin(rotated_all_set)}\") \n"
   ]
  },
  {
   "cell_type": "markdown",
   "metadata": {},
   "source": [
    "#### Test Case For Rotate Left Function\n",
    "##### The tests ensure the rotl function correctly rotates bits in a 32-bit unsigned integer:\n",
    "\n",
    "- Basic Rotation: Checks if a simple left rotation shifts bits correctly.\n",
    "- Wraparound Behavior: Verifies that overflowed bits wrap around to the right.\n",
    "- Zero Rotation: Ensures rotating by 0 positions returns the original value.\n"
   ]
  },
  {
   "cell_type": "code",
   "execution_count": 44,
   "metadata": {},
   "outputs": [
    {
     "name": "stderr",
     "output_type": "stream",
     "text": [
      "test_ch_all_ones_selector (__main__.TestChooseFunction.test_ch_all_ones_selector)\n",
      "Test when the selector is all 1s (should return y). ... ok\n",
      "test_ch_all_zeros_selector (__main__.TestChooseFunction.test_ch_all_zeros_selector)\n",
      "Test when the selector is all 0s (should return z). ... ok\n",
      "test_ch_alternating_pattern (__main__.TestChooseFunction.test_ch_alternating_pattern)\n",
      "Test with alternating selector bits. ... ok\n",
      "test_ch_basic (__main__.TestChooseFunction.test_ch_basic)\n",
      "Test basic choose function with a mix of 1s and 0s in the selector. ... ok\n",
      "test_basic_words (__main__.TestHashFunction.test_basic_words)\n",
      "Test common words to ensure correct hash values. ... ok\n",
      "test_collisions (__main__.TestHashFunction.test_collisions)\n",
      "Ensure that different inputs do not produce the same hash (minimize collisions). ... ok\n",
      "test_empty_string (__main__.TestHashFunction.test_empty_string)\n",
      "Test hashing an empty string should return 0. ... ok\n",
      "test_long_string (__main__.TestHashFunction.test_long_string)\n",
      "Test a long string to check consistency and stability. ... ok\n",
      "test_single_character (__main__.TestHashFunction.test_single_character)\n",
      "Test hashing single-character strings. ... ok\n",
      "test_maj_all_ones (__main__.TestMajorityFunction.test_maj_all_ones)\n",
      "Test when all inputs are ones (result should be all ones). ... ok\n",
      "test_maj_all_zeros (__main__.TestMajorityFunction.test_maj_all_zeros)\n",
      "Test when all inputs are zeros (result should be all zeros). ... ok\n",
      "test_maj_basic (__main__.TestMajorityFunction.test_maj_basic)\n",
      "Test majority function with mixed input bits. ... ok\n",
      "test_maj_pattern_mixed_bits (__main__.TestMajorityFunction.test_maj_pattern_mixed_bits)\n",
      "Test a case with a mix of majority and minority bits. ... ok\n",
      "test_maj_two_majority_bits (__main__.TestMajorityFunction.test_maj_two_majority_bits)\n",
      "Test when two inputs agree on bits and the third differs. ... ok\n",
      "test_rotl_basic (__main__.TestRotateLeft.test_rotl_basic)\n",
      "Test case 1: Basic left rotation. ... ok\n",
      "test_rotl_wraparound (__main__.TestRotateLeft.test_rotl_wraparound)\n",
      "Test case 2: Check bit wraparound behavior. ... ok\n",
      "test_rotl_zero_rotation (__main__.TestRotateLeft.test_rotl_zero_rotation)\n",
      "Test case 3: Zero rotation (no changes). ... ok\n",
      "test_rotr_basic (__main__.TestRotateRight.test_rotr_basic)\n",
      "Test basic right rotation by 1 position. ... ok\n",
      "test_rotr_wraparound (__main__.TestRotateRight.test_rotr_wraparound)\n",
      "Test wrap-around where the least significant bit moves to the most significant bit. ... ok\n",
      "test_rotr_zero_rotation (__main__.TestRotateRight.test_rotr_zero_rotation)\n",
      "Test rotation by 0 positions (should return the original value). ... ok\n",
      "\n",
      "----------------------------------------------------------------------\n",
      "Ran 20 tests in 0.006s\n",
      "\n",
      "OK\n"
     ]
    },
    {
     "data": {
      "text/plain": [
       "<unittest.main.TestProgram at 0x104b19e50>"
      ]
     },
     "execution_count": 44,
     "metadata": {},
     "output_type": "execute_result"
    }
   ],
   "source": [
    "import unittest \n",
    "\n",
    "class TestRotateLeft(unittest.TestCase):\n",
    "    \"\"\"\n",
    "    Unit test class for testing the rotl (rotate left) function.\n",
    "    \"\"\"\n",
    "\n",
    "    def test_rotl_basic(self):\n",
    "        \"\"\"\n",
    "        Test case 1: Basic left rotation.\n",
    "        - Input: `0b0001` (binary 1)\n",
    "        - Rotating left by 4 positions\n",
    "        - Expected Output: `0b10000` (binary 16)\n",
    "        \"\"\"\n",
    "        self.assertEqual(rotl(0b0001, 4), 0b10000)\n",
    "\n",
    "    def test_rotl_wraparound(self):\n",
    "        \"\"\"\n",
    "        Test case 2: Check bit wraparound behavior.\n",
    "        - Input: `0b10000000000000000000000000000000` (binary, MSB set)\n",
    "        - Rotating left by 1 position\n",
    "        - Expected Output: `0b00000000000000000000000000000001` (binary, LSB set)\n",
    "        \"\"\"\n",
    "        self.assertEqual(rotl(0b10000000000000000000000000000000, 1), \n",
    "                         0b00000000000000000000000000000001)\n",
    "\n",
    "    def test_rotl_zero_rotation(self):\n",
    "        \"\"\"\n",
    "        Test case 3: Zero rotation (no changes).\n",
    "        - Input: `0b1010` (binary 10)\n",
    "        - Rotating left by 0 positions\n",
    "        - Expected Output: `0b1010` (unchanged)\n",
    "        \"\"\"\n",
    "        self.assertEqual(rotl(0b1010, 0), 0b1010)\n",
    "\n",
    "# Run the tests\n",
    "unittest.main(argv=[''], verbosity=2, exit=False)\n"
   ]
  },
  {
   "cell_type": "markdown",
   "metadata": {},
   "source": [
    "### 2. **`rotr(x, n)`** \n",
    "The rotate right function shifts bits to the right by n positions. Bits that overflow on the right wrap around to the left.This ensures the integrity of data, unlike a right shift (>>), which discards shifted bits.\n",
    "\n",
    "##### Why This Approach?\n",
    "- Bitwise Shifting & Masking\n",
    "Python supports [bitwise operations](https://docs.python.org/3/library/stdtypes.html#bitwise-operations) for manipulating integers efficiently. Since Python integers are arbitrary precision, we use bitwise masking (& 0xFFFFFFFF) to limit the result to 32 bits, ensuring behavior similar to C-based implementations.\n",
    "\n",
    "- Handling Overflow Correctly\n",
    "Since a [right shift](https://docs.python.org/3/library/stdtypes.html#bitwise-operations) (`>>`) moves bits out of range, I needed to reintroduce the overflowed bits using a [left shift](https://en.wikipedia.org/wiki/Circular_shift) (`<<`) and a [bitwise](https://en.wikipedia.org/wiki/Bitwise_operation#OR) OR (`|`) to complete the rotation and maintain proper circular shifting.\n"
   ]
  },
  {
   "cell_type": "code",
   "execution_count": 45,
   "metadata": {},
   "outputs": [],
   "source": [
    "def rotr(x: int, n: int = 1) -> int:\n",
    "    \"\"\"\n",
    "    Rotates the bits of a 32-bit unsigned integer to the right by n positions.\n",
    "\n",
    "    Parameters:\n",
    "        x (int): The 32-bit unsigned integer to rotate.\n",
    "        n (int): The number of positions to rotate (default is 1).\n",
    "\n",
    "    Returns:\n",
    "        int: The rotated 32-bit unsigned integer.\n",
    "    \"\"\"\n",
    "    n = n % 32  # Ensure n is within the valid range (0-31)\n",
    "    return ((x >> n) | (x << (32 - n))) & 0xFFFFFFFF  # Perform bitwise rotation\n"
   ]
  },
  {
   "cell_type": "markdown",
   "metadata": {},
   "source": [
    "##### Example Usage Of Rotr \n",
    "This example demonstrates rotating a number's bits to the right by 1 and 2 positions, including a case with a repeating bit pattern.\n"
   ]
  },
  {
   "cell_type": "code",
   "execution_count": 46,
   "metadata": {},
   "outputs": [
    {
     "name": "stdout",
     "output_type": "stream",
     "text": [
      "Original value (bin): 0b10000000000000000000000000000000\n",
      "Rotated right by 1 (bin): 0b1000000000000000000000000000000\n",
      "Original value (bin): 0b11001100110011001100110011001100\n",
      "Rotated right by 2 (bin): 0b110011001100110011001100110011\n"
     ]
    }
   ],
   "source": [
    "# Example usage of rotr\n",
    "x = 0b10000000000000000000000000000000  # Binary representation with only the most significant bit set\n",
    "rotated_value = rotr(x, 1)\n",
    "\n",
    "# Output the original and rotated values\n",
    "print(f\"Original value (bin): {bin(x)}\")\n",
    "print(f\"Rotated right by 1 (bin): {bin(rotated_value)}\")\n",
    "\n",
    "# Example with a pattern\n",
    "x_pattern = 0b11001100110011001100110011001100\n",
    "rotated_pattern = rotr(x_pattern, 2)\n",
    "print(f\"Original value (bin): {bin(x_pattern)}\") \n",
    "print(f\"Rotated right by 2 (bin): {bin(rotated_pattern)}\")\n"
   ]
  },
  {
   "cell_type": "markdown",
   "metadata": {},
   "source": [
    "#### Test Case For Rotate Right Function\n",
    "##### The tests ensure the rotr function correctly rotates bits in a 32-bit unsigned integer:\n",
    "\n",
    "- Basic Rotation: Checks if a simple right rotation shifts bits correctly.\n",
    "- Wraparound Behavior: Verifies that overflowed bits wrap around to the left.\n",
    "- Zero Rotation: Ensures rotating by 0 positions returns the original value"
   ]
  },
  {
   "cell_type": "code",
   "execution_count": 47,
   "metadata": {},
   "outputs": [
    {
     "name": "stderr",
     "output_type": "stream",
     "text": [
      "test_ch_all_ones_selector (__main__.TestChooseFunction.test_ch_all_ones_selector)\n",
      "Test when the selector is all 1s (should return y). ... ok\n",
      "test_ch_all_zeros_selector (__main__.TestChooseFunction.test_ch_all_zeros_selector)\n",
      "Test when the selector is all 0s (should return z). ... ok\n",
      "test_ch_alternating_pattern (__main__.TestChooseFunction.test_ch_alternating_pattern)\n",
      "Test with alternating selector bits. ... ok\n",
      "test_ch_basic (__main__.TestChooseFunction.test_ch_basic)\n",
      "Test basic choose function with a mix of 1s and 0s in the selector. ... ok\n",
      "test_basic_words (__main__.TestHashFunction.test_basic_words)\n",
      "Test common words to ensure correct hash values. ... ok\n",
      "test_collisions (__main__.TestHashFunction.test_collisions)\n",
      "Ensure that different inputs do not produce the same hash (minimize collisions). ... ok\n",
      "test_empty_string (__main__.TestHashFunction.test_empty_string)\n",
      "Test hashing an empty string should return 0. ... ok\n",
      "test_long_string (__main__.TestHashFunction.test_long_string)\n",
      "Test a long string to check consistency and stability. ... ok\n",
      "test_single_character (__main__.TestHashFunction.test_single_character)\n",
      "Test hashing single-character strings. ... ok\n",
      "test_maj_all_ones (__main__.TestMajorityFunction.test_maj_all_ones)\n",
      "Test when all inputs are ones (result should be all ones). ... ok\n",
      "test_maj_all_zeros (__main__.TestMajorityFunction.test_maj_all_zeros)\n",
      "Test when all inputs are zeros (result should be all zeros). ... ok\n",
      "test_maj_basic (__main__.TestMajorityFunction.test_maj_basic)\n",
      "Test majority function with mixed input bits. ... ok\n",
      "test_maj_pattern_mixed_bits (__main__.TestMajorityFunction.test_maj_pattern_mixed_bits)\n",
      "Test a case with a mix of majority and minority bits. ... ok\n",
      "test_maj_two_majority_bits (__main__.TestMajorityFunction.test_maj_two_majority_bits)\n",
      "Test when two inputs agree on bits and the third differs. ... ok\n",
      "test_rotl_basic (__main__.TestRotateLeft.test_rotl_basic)\n",
      "Test case 1: Basic left rotation. ... ok\n",
      "test_rotl_wraparound (__main__.TestRotateLeft.test_rotl_wraparound)\n",
      "Test case 2: Check bit wraparound behavior. ... ok\n",
      "test_rotl_zero_rotation (__main__.TestRotateLeft.test_rotl_zero_rotation)\n",
      "Test case 3: Zero rotation (no changes). ... ok\n",
      "test_rotr_basic (__main__.TestRotateRight.test_rotr_basic)\n",
      "Test basic right rotation by 1 position. ... ok\n",
      "test_rotr_wraparound (__main__.TestRotateRight.test_rotr_wraparound)\n",
      "Test wrap-around where the least significant bit moves to the most significant bit. ... ok\n",
      "test_rotr_zero_rotation (__main__.TestRotateRight.test_rotr_zero_rotation)\n",
      "Test rotation by 0 positions (should return the original value). ... ok\n",
      "\n",
      "----------------------------------------------------------------------\n",
      "Ran 20 tests in 0.005s\n",
      "\n",
      "OK\n"
     ]
    },
    {
     "data": {
      "text/plain": [
       "<unittest.main.TestProgram at 0x104b18a50>"
      ]
     },
     "execution_count": 47,
     "metadata": {},
     "output_type": "execute_result"
    }
   ],
   "source": [
    "import unittest\n",
    "\n",
    "class TestRotateRight(unittest.TestCase):\n",
    "\n",
    "    def test_rotr_basic(self):\n",
    "        \"\"\"Test basic right rotation by 1 position.\"\"\"\n",
    "        self.assertEqual(rotr(0b1000, 1), 0b0100)\n",
    "\n",
    "    def test_rotr_wraparound(self):\n",
    "        \"\"\"Test wrap-around where the least significant bit moves to the most significant bit.\"\"\"\n",
    "        self.assertEqual(rotr(0b00000000000000000000000000000001, 1), \n",
    "                         0b10000000000000000000000000000000)\n",
    "\n",
    "    def test_rotr_zero_rotation(self):\n",
    "        \"\"\"Test rotation by 0 positions (should return the original value).\"\"\"\n",
    "        self.assertEqual(rotr(0b1010, 0), 0b1010)\n",
    "\n",
    "unittest.main(argv=[''], verbosity=2, exit=False)\n"
   ]
  },
  {
   "cell_type": "markdown",
   "metadata": {},
   "source": [
    "\n",
    "## 3. `ch(x, y, z)`  \n",
    "The choose function (`ch`) is commonly used in cryptographic hashing (SHA-256). It selects bits from `y` or `z` based on `x`:  \n",
    "\n",
    "- **If `x` has a `1`**, take the bit from `y`.  \n",
    "- **If `x` has a `0`**, take the bit from `z`.  \n",
    "\n",
    "### Why This Approach?  \n",
    "\n",
    "- Cryptographic Reference\n",
    "  The `ch` function follows the definition given in [FIPS PUB 180-4](https://csrc.nist.gov/publications/detail/fips/180/4/final), which specifies its use in secure hashing algorithms like SHA-256.  \n",
    "\n",
    "- **Why is the choose function (ch) important for SHA-256?**\n",
    "In SHA-256, `ch` helps introduce non-linearity by selecting bits from different registers based on the value of another register. This prevents the hash function from being predictable and helps maintain avalanche effect, where small input changes cause large output differences.\n",
    "\n",
    "- Bitwise Selection Logic \n",
    "  In Python, bitwise operations allowed me to efficiently select values based on a mask. The function uses [bitwise AND/OR](https://docs.python.org/3/library/stdtypes.html#bitwise-operations) to implement this logic:  \n",
    "\n",
    "  - `x & y`: Selects bits from `y` where `x` is `1`.  \n",
    "  - `~x & z`: Selects bits from `z` where `x` is `0`.  \n",
    "  - Combining them with `|` (**bitwise OR**) ensures the correct selection of bits.  \n",
    "\n"
   ]
  },
  {
   "cell_type": "code",
   "execution_count": 48,
   "metadata": {},
   "outputs": [],
   "source": [
    "def ch(x: int, y: int, z: int) -> int:\n",
    "    \"\"\"\n",
    "    Chooses bits from y where x has 1s, and from z where x has 0s.\n",
    "\n",
    "    Parameters:\n",
    "        x (int): Selector bits.\n",
    "        y (int): Bits selected when x is 1.\n",
    "        z (int): Bits selected when x is 0.\n",
    "\n",
    "    Returns:\n",
    "        int: The resulting integer after selection.\n",
    "    \"\"\"\n",
    "    return (x & y) | (~x & z) & 0xFFFFFFFF  # Perform bitwise selection\n"
   ]
  },
  {
   "cell_type": "markdown",
   "metadata": {},
   "source": [
    "\n",
    "#### Example Usage Of CH\n",
    "This example demonstrates the ch function, which selects bits from y where x has 1s and from z where x has 0s, producing a result based on the selector bits in x.\n"
   ]
  },
  {
   "cell_type": "code",
   "execution_count": 49,
   "metadata": {},
   "outputs": [
    {
     "name": "stdout",
     "output_type": "stream",
     "text": [
      "Selector (x):   0b10101010\n",
      "Option 1 (y):   0b11111111\n",
      "Option 2 (z):   0b0\n",
      "Chosen result:  0b10101010\n"
     ]
    }
   ],
   "source": [
    "# Example usage of ch\n",
    "x = 0b10101010  # Selector bits\n",
    "y = 0b11111111  # Bits to choose when x has 1s\n",
    "z = 0b00000000  # Bits to choose when x has 0s\n",
    "\n",
    "chosen_bits = ch(x, y, z)\n",
    "\n",
    "# Output the result of the choose function\n",
    "print(f\"Selector (x):   {bin(x)}\") \n",
    "print(f\"Option 1 (y):   {bin(y)}\")\n",
    "print(f\"Option 2 (z):   {bin(z)}\")\n",
    "print(f\"Chosen result:  {bin(chosen_bits)}\")"
   ]
  },
  {
   "cell_type": "markdown",
   "metadata": {},
   "source": [
    "### Test Case for CH Function\n",
    "These tests ensure that the ch function correctly selects bits from y or z based on the values in x, following the logic used in cryptographic hashing algorithms like SHA-256.\n",
    "\n",
    "- Basic Selection: Verifies that bits from y are selected when x has 1s and bits from z are selected when x has 0s.\n",
    "- All 1s in Selector (x): Ensures that when x is all 1s, the output is exactly y.\n",
    "- All 0s in Selector (x): Ensures that when x is all 0s, the output is exactly z.\n",
    "- Alternating Bit Pattern: Tests mixed bit patterns to check if the function properly selects bits from both y and z."
   ]
  },
  {
   "cell_type": "code",
   "execution_count": 50,
   "metadata": {},
   "outputs": [
    {
     "name": "stderr",
     "output_type": "stream",
     "text": [
      "test_ch_all_ones_selector (__main__.TestChooseFunction.test_ch_all_ones_selector)\n",
      "Test when the selector is all 1s (should return y). ... ok\n",
      "test_ch_all_zeros_selector (__main__.TestChooseFunction.test_ch_all_zeros_selector)\n",
      "Test when the selector is all 0s (should return z). ... ok\n",
      "test_ch_alternating_pattern (__main__.TestChooseFunction.test_ch_alternating_pattern)\n",
      "Test with alternating selector bits. ... ok\n",
      "test_ch_basic (__main__.TestChooseFunction.test_ch_basic)\n",
      "Test basic choose function with a mix of 1s and 0s in the selector. ... ok\n",
      "test_basic_words (__main__.TestHashFunction.test_basic_words)\n",
      "Test common words to ensure correct hash values. ... ok\n",
      "test_collisions (__main__.TestHashFunction.test_collisions)\n",
      "Ensure that different inputs do not produce the same hash (minimize collisions). ... ok\n",
      "test_empty_string (__main__.TestHashFunction.test_empty_string)\n",
      "Test hashing an empty string should return 0. ... ok\n",
      "test_long_string (__main__.TestHashFunction.test_long_string)\n",
      "Test a long string to check consistency and stability. ... ok\n",
      "test_single_character (__main__.TestHashFunction.test_single_character)\n",
      "Test hashing single-character strings. ... ok\n",
      "test_maj_all_ones (__main__.TestMajorityFunction.test_maj_all_ones)\n",
      "Test when all inputs are ones (result should be all ones). ... ok\n",
      "test_maj_all_zeros (__main__.TestMajorityFunction.test_maj_all_zeros)\n",
      "Test when all inputs are zeros (result should be all zeros). ... ok\n",
      "test_maj_basic (__main__.TestMajorityFunction.test_maj_basic)\n",
      "Test majority function with mixed input bits. ... ok\n",
      "test_maj_pattern_mixed_bits (__main__.TestMajorityFunction.test_maj_pattern_mixed_bits)\n",
      "Test a case with a mix of majority and minority bits. ... ok\n",
      "test_maj_two_majority_bits (__main__.TestMajorityFunction.test_maj_two_majority_bits)\n",
      "Test when two inputs agree on bits and the third differs. ... ok\n",
      "test_rotl_basic (__main__.TestRotateLeft.test_rotl_basic)\n",
      "Test case 1: Basic left rotation. ... ok\n",
      "test_rotl_wraparound (__main__.TestRotateLeft.test_rotl_wraparound)\n",
      "Test case 2: Check bit wraparound behavior. ... ok\n",
      "test_rotl_zero_rotation (__main__.TestRotateLeft.test_rotl_zero_rotation)\n",
      "Test case 3: Zero rotation (no changes). ... ok\n",
      "test_rotr_basic (__main__.TestRotateRight.test_rotr_basic)\n",
      "Test basic right rotation by 1 position. ... ok\n",
      "test_rotr_wraparound (__main__.TestRotateRight.test_rotr_wraparound)\n",
      "Test wrap-around where the least significant bit moves to the most significant bit. ... ok\n",
      "test_rotr_zero_rotation (__main__.TestRotateRight.test_rotr_zero_rotation)\n",
      "Test rotation by 0 positions (should return the original value). ... ok\n",
      "\n",
      "----------------------------------------------------------------------\n",
      "Ran 20 tests in 0.005s\n",
      "\n",
      "OK\n"
     ]
    },
    {
     "data": {
      "text/plain": [
       "<unittest.main.TestProgram at 0x104b19f50>"
      ]
     },
     "execution_count": 50,
     "metadata": {},
     "output_type": "execute_result"
    }
   ],
   "source": [
    "import unittest\n",
    "\n",
    "class TestChooseFunction(unittest.TestCase):\n",
    "\n",
    "    def test_ch_basic(self):\n",
    "        \"\"\"Test basic choose function with a mix of 1s and 0s in the selector.\"\"\"\n",
    "        self.assertEqual(ch(0b10101010, 0b11111111, 0b00000000), 0b10101010)\n",
    "\n",
    "    def test_ch_all_ones_selector(self):\n",
    "        \"\"\"Test when the selector is all 1s (should return y).\"\"\"\n",
    "        self.assertEqual(ch(0b11111111, 0b10101010, 0b01010101), 0b10101010)\n",
    "\n",
    "    def test_ch_all_zeros_selector(self):\n",
    "        \"\"\"Test when the selector is all 0s (should return z).\"\"\"\n",
    "        self.assertEqual(ch(0b00000000, 0b10101010, 0b01010101), 0b01010101)\n",
    "\n",
    "    def test_ch_alternating_pattern(self):\n",
    "        \"\"\"Test with alternating selector bits.\"\"\"\n",
    "        self.assertEqual(ch(0b11001100, 0b11110000, 0b00001111), 0b11000011)\n",
    "\n",
    "unittest.main(argv=[''], verbosity=2, exit=False)\n"
   ]
  },
  {
   "cell_type": "markdown",
   "metadata": {},
   "source": [
    "\n",
    "### 4. **`maj(x, y, z)`** \n",
    "The majority function (`maj`) is widely used in cryptography and error correction:\n",
    "\n",
    "- If at least two of x, y, z have a 1 at a bit position, the result is 1.\n",
    "- Otherwise, the result is 0.\n",
    "\n",
    "### **Why This Approach?**  \n",
    "\n",
    "- Cryptographic Reference\n",
    "The **majority (`maj`) function** is defined in [FIPS PUB 180-4]((https://csrc.nist.gov/publications/detail/fips/180/4/final)), which specifies its use in **SHA-256** and other secure hashing functions. It is a crucial component in cryptographic operations where bitwise majority logic helps strengthen message integrity.  \n",
    "\n",
    "- Bitwise Logic in Python  \n",
    "Python provides built-in [bitwise operations]((https://docs.python.org/3/library/stdtypes.html#bitwise-operations)) for efficient data manipulation. The `maj` function determines the majority bit at each position by computing:  \n",
    "- `x & y`: Keeps bits set where **both `x` and `y` are 1**.  \n",
    "- `x & z`: Keeps bits set where **both `x` and `z` are 1**.  \n",
    "- `y & z`: Keeps bits set where **both `y` and `z` are 1**.  \n",
    "\n",
    "By combining these with [`|` (bitwise OR)](https://docs.python.org/3/library/stdtypes.html#bitwise-or), the function ensures that **at least two of the three inputs contribute to a `1` at each bit position**, accurately computing the majority bitwise.  \n",
    "\n"
   ]
  },
  {
   "cell_type": "code",
   "execution_count": 51,
   "metadata": {},
   "outputs": [],
   "source": [
    "def maj(x: int, y: int, z: int) -> int:\n",
    "    \"\"\"\n",
    "    Computes the majority function at each bit position.\n",
    "\n",
    "    Parameters:\n",
    "        x (int): First input.\n",
    "        y (int): Second input.\n",
    "        z (int): Third input.\n",
    "\n",
    "    Returns:\n",
    "        int: The majority result.\n",
    "    \"\"\"\n",
    "    return (x & y) | (x & z) | (y & z) & 0xFFFFFFFF  # Compute majority bitwise\n"
   ]
  },
  {
   "cell_type": "markdown",
   "metadata": {},
   "source": [
    "### Example Usage Of MAJ\n",
    "This example demonstrates the maj function, which outputs a 1 in each bit position where at least two of the inputs have a 1, showing how the majority vote works at the bit level."
   ]
  },
  {
   "cell_type": "code",
   "execution_count": 52,
   "metadata": {},
   "outputs": [
    {
     "name": "stdout",
     "output_type": "stream",
     "text": [
      "Input 1 (x):    0b10101010\n",
      "Input 2 (y):    0b11110000\n",
      "Input 3 (z):    0b1111\n",
      "Majority result: 0b10101010\n"
     ]
    }
   ],
   "source": [
    "# Example usage of maj\n",
    "x = 0b10101010  # Input 1\n",
    "y = 0b11110000  # Input 2\n",
    "z = 0b00001111  # Input 3\n",
    "\n",
    "majority_bits = maj(x, y, z)\n",
    "\n",
    "# Output the result of the majority function\n",
    "print(f\"Input 1 (x):    {bin(x)}\") \n",
    "print(f\"Input 2 (y):    {bin(y)}\")\n",
    "print(f\"Input 3 (z):    {bin(z)}\")\n",
    "print(f\"Majority result: {bin(majority_bits)}\")\n"
   ]
  },
  {
   "cell_type": "markdown",
   "metadata": {},
   "source": [
    "### - Test Case For MAJ\n",
    "\n",
    "The following test cases validate that the **`maj` function** correctly computes the majority bit for each position in a **32-bit unsigned integer**.\n",
    "\n",
    "- Basic Majority Calculation: Ensures that when given a mix of `1s` and `0s`, the function correctly outputs the majority bits.\n",
    "- All Zeros Input: Verifies that if **all inputs** are `0b00000000`, the function correctly returns `0b00000000`.\n",
    "- All Ones Input: Ensures that when all inputs are **`1s`**, the function returns `0b11111111`.\n",
    "- Two Majority Bits Agreement: Tests a scenario where **two inputs share majority bits while the third differs**, ensuring that the majority logic still holds.\n",
    "- Mixed Bit Patterns: Checks that the function correctly computes majority bits when the inputs contain alternating patterns of `1s` and `0s`.  \n"
   ]
  },
  {
   "cell_type": "code",
   "execution_count": 53,
   "metadata": {},
   "outputs": [
    {
     "name": "stderr",
     "output_type": "stream",
     "text": [
      "test_ch_all_ones_selector (__main__.TestChooseFunction.test_ch_all_ones_selector)\n",
      "Test when the selector is all 1s (should return y). ... ok\n",
      "test_ch_all_zeros_selector (__main__.TestChooseFunction.test_ch_all_zeros_selector)\n",
      "Test when the selector is all 0s (should return z). ... ok\n",
      "test_ch_alternating_pattern (__main__.TestChooseFunction.test_ch_alternating_pattern)\n",
      "Test with alternating selector bits. ... ok\n",
      "test_ch_basic (__main__.TestChooseFunction.test_ch_basic)\n",
      "Test basic choose function with a mix of 1s and 0s in the selector. ... ok\n",
      "test_basic_words (__main__.TestHashFunction.test_basic_words)\n",
      "Test common words to ensure correct hash values. ... ok\n",
      "test_collisions (__main__.TestHashFunction.test_collisions)\n",
      "Ensure that different inputs do not produce the same hash (minimize collisions). ... ok\n",
      "test_empty_string (__main__.TestHashFunction.test_empty_string)\n",
      "Test hashing an empty string should return 0. ... ok\n",
      "test_long_string (__main__.TestHashFunction.test_long_string)\n",
      "Test a long string to check consistency and stability. ... ok\n",
      "test_single_character (__main__.TestHashFunction.test_single_character)\n",
      "Test hashing single-character strings. ... ok\n",
      "test_maj_all_ones (__main__.TestMajorityFunction.test_maj_all_ones)\n",
      "Test when all inputs are ones (result should be all ones). ... ok\n",
      "test_maj_all_zeros (__main__.TestMajorityFunction.test_maj_all_zeros)\n",
      "Test when all inputs are zeros (result should be all zeros). ... ok\n",
      "test_maj_basic (__main__.TestMajorityFunction.test_maj_basic)\n",
      "Test majority function with mixed input bits. ... ok\n",
      "test_maj_pattern_mixed_bits (__main__.TestMajorityFunction.test_maj_pattern_mixed_bits)\n",
      "Test a case with a mix of majority and minority bits. ... ok\n",
      "test_maj_two_majority_bits (__main__.TestMajorityFunction.test_maj_two_majority_bits)\n",
      "Test when two inputs agree on bits and the third differs. ... ok\n",
      "test_rotl_basic (__main__.TestRotateLeft.test_rotl_basic)\n",
      "Test case 1: Basic left rotation. ... ok\n",
      "test_rotl_wraparound (__main__.TestRotateLeft.test_rotl_wraparound)\n",
      "Test case 2: Check bit wraparound behavior. ... ok\n",
      "test_rotl_zero_rotation (__main__.TestRotateLeft.test_rotl_zero_rotation)\n",
      "Test case 3: Zero rotation (no changes). ... ok\n",
      "test_rotr_basic (__main__.TestRotateRight.test_rotr_basic)\n",
      "Test basic right rotation by 1 position. ... ok\n",
      "test_rotr_wraparound (__main__.TestRotateRight.test_rotr_wraparound)\n",
      "Test wrap-around where the least significant bit moves to the most significant bit. ... ok\n",
      "test_rotr_zero_rotation (__main__.TestRotateRight.test_rotr_zero_rotation)\n",
      "Test rotation by 0 positions (should return the original value). ... ok\n",
      "\n",
      "----------------------------------------------------------------------\n",
      "Ran 20 tests in 0.005s\n",
      "\n",
      "OK\n"
     ]
    },
    {
     "data": {
      "text/plain": [
       "<unittest.main.TestProgram at 0x104b18e50>"
      ]
     },
     "execution_count": 53,
     "metadata": {},
     "output_type": "execute_result"
    }
   ],
   "source": [
    "import unittest\n",
    "\n",
    "class TestMajorityFunction(unittest.TestCase):\n",
    "\n",
    "    def test_maj_basic(self):\n",
    "        \"\"\"Test majority function with mixed input bits.\"\"\"\n",
    "        self.assertEqual(maj(0b10101010, 0b11110000, 0b00001111), 0b10101010)\n",
    "\n",
    "    def test_maj_all_zeros(self):\n",
    "        \"\"\"Test when all inputs are zeros (result should be all zeros).\"\"\"\n",
    "        self.assertEqual(maj(0b00000000, 0b00000000, 0b00000000), 0b00000000)\n",
    "\n",
    "    def test_maj_all_ones(self):\n",
    "        \"\"\"Test when all inputs are ones (result should be all ones).\"\"\"\n",
    "        self.assertEqual(maj(0b11111111, 0b11111111, 0b11111111), 0b11111111)\n",
    "\n",
    "    def test_maj_two_majority_bits(self):\n",
    "        \"\"\"Test when two inputs agree on bits and the third differs.\"\"\"\n",
    "        self.assertEqual(maj(0b10101010, 0b10101010, 0b01010101), 0b10101010)\n",
    "\n",
    "    def test_maj_pattern_mixed_bits(self):\n",
    "        \"\"\"Test a case with a mix of majority and minority bits.\"\"\"\n",
    "        self.assertEqual(maj(0b11001100, 0b11110000, 0b00001111), 0b11001100)\n",
    "\n",
    "unittest.main(argv=[''], verbosity=2, exit=False)\n"
   ]
  },
  {
   "cell_type": "markdown",
   "metadata": {},
   "source": [
    "---\n",
    "\n",
    "## Task Two: Hash Functions\n",
    "\n",
    "### Overview\n",
    "##### This task explores hash functions, which are widely used in cryptography, data integrity, and efficient data lookup.\n",
    "\n",
    "- Convert a given C hash function to Python.\n",
    "- Test the Python implementation with different inputs.\n",
    "- Explain why the numbers 31 and 101 were chosen in the function.\n",
    "\n",
    "##### A hash function takes an input eg.a string and converts it into a fixed-size integer value. It should be:\n",
    "\n",
    "- Efficient → Quickly compute a unique hash for an input.\n",
    "- Deterministic → The same input always produces the same hash.\n",
    "- Uniform → Hash values should be well distributed to minimize collisions.\n",
    "\n",
    "### Understanding the C Function and Translation Process\n",
    "##### The provided C function computes a hash value for a given string using a weighted sum approach and a modulo operation. The goal is to convert this function into Python while maintaining its logic and efficiency\n",
    "\n",
    "\n"
   ]
  },
  {
   "cell_type": "markdown",
   "metadata": {},
   "source": [
    "```\n",
    "The original C function:\n",
    "\n",
    "unsigned hash(char *s) {\n",
    "    unsigned hashval;\n",
    "    for (hashval = 0; *s != '\\0'; s++)\n",
    "        hashval = *s + 31 * hashval;\n",
    "    return hashval % 101;\n",
    "}\n",
    "```"
   ]
  },
  {
   "cell_type": "markdown",
   "metadata": {},
   "source": [
    "### Translating to Python\n",
    "Python does not use pointers, so i needed to adapt this function accordingly:\n",
    "\n",
    "Key Adaptations:\n",
    "- Use ord(char) to get the ASCII value (since char *s in C directly accesses ASCII).\n",
    "- Iterate through the string using for char in s: instead of pointer arithmetic (*s != '\\0').\n",
    "- Keep integer calculations the same (31 * hashval + ASCII).\n",
    "- Apply modulo 101 at the end to match the behavior."
   ]
  },
  {
   "cell_type": "code",
   "execution_count": 54,
   "metadata": {},
   "outputs": [],
   "source": [
    "def hash_function(s: str) -> int:\n",
    "    \"\"\"\n",
    "    Implements the given C hash function in Python.\n",
    "\n",
    "    Parameters:\n",
    "        s (str): Input string.\n",
    "\n",
    "    Returns:\n",
    "        int: Hash value mod 101.\n",
    "    \"\"\"\n",
    "    hashval = 0  # Initialize hash value\n",
    "    for char in s:\n",
    "        hashval = ord(char) + 31 * hashval  # Apply weighted sum with ASCII value\n",
    "    return hashval % 101  # Use modulo to limit range\n"
   ]
  },
  {
   "cell_type": "markdown",
   "metadata": {},
   "source": [
    "##### Test Cases for the Hash Function\n",
    "To ensure the function works as expected, im going to test:\n",
    "\n",
    "- Basic inputs → Common words like \"hello\", \"world\", and \"python\".\n",
    "- Edge cases → Empty strings, single characters, and long inputs.\n",
    "- Consistency → The same input should always produce the same hash.\n",
    "- Collision checks → Different inputs should ideally result in different hash values."
   ]
  },
  {
   "cell_type": "code",
   "execution_count": 55,
   "metadata": {},
   "outputs": [
    {
     "name": "stderr",
     "output_type": "stream",
     "text": [
      "test_ch_all_ones_selector (__main__.TestChooseFunction.test_ch_all_ones_selector)\n",
      "Test when the selector is all 1s (should return y). ... ok\n",
      "test_ch_all_zeros_selector (__main__.TestChooseFunction.test_ch_all_zeros_selector)\n",
      "Test when the selector is all 0s (should return z). ... ok\n",
      "test_ch_alternating_pattern (__main__.TestChooseFunction.test_ch_alternating_pattern)\n",
      "Test with alternating selector bits. ... ok\n",
      "test_ch_basic (__main__.TestChooseFunction.test_ch_basic)\n",
      "Test basic choose function with a mix of 1s and 0s in the selector. ... ok\n",
      "test_basic_words (__main__.TestHashFunction.test_basic_words)\n",
      "Test common words to ensure correct hash values. ... ok\n",
      "test_collisions (__main__.TestHashFunction.test_collisions)\n",
      "Ensure that different inputs do not produce the same hash (minimize collisions). ... ok\n",
      "test_empty_string (__main__.TestHashFunction.test_empty_string)\n",
      "Test hashing an empty string should return 0. ... ok\n",
      "test_long_string (__main__.TestHashFunction.test_long_string)\n",
      "Test a long string to check consistency and stability. ... ok\n",
      "test_single_character (__main__.TestHashFunction.test_single_character)\n",
      "Test hashing single-character strings. ... ok\n",
      "test_maj_all_ones (__main__.TestMajorityFunction.test_maj_all_ones)\n",
      "Test when all inputs are ones (result should be all ones). ... ok\n",
      "test_maj_all_zeros (__main__.TestMajorityFunction.test_maj_all_zeros)\n",
      "Test when all inputs are zeros (result should be all zeros). ... ok\n",
      "test_maj_basic (__main__.TestMajorityFunction.test_maj_basic)\n",
      "Test majority function with mixed input bits. ... ok\n",
      "test_maj_pattern_mixed_bits (__main__.TestMajorityFunction.test_maj_pattern_mixed_bits)\n",
      "Test a case with a mix of majority and minority bits. ... ok\n",
      "test_maj_two_majority_bits (__main__.TestMajorityFunction.test_maj_two_majority_bits)\n",
      "Test when two inputs agree on bits and the third differs. ... ok\n",
      "test_rotl_basic (__main__.TestRotateLeft.test_rotl_basic)\n",
      "Test case 1: Basic left rotation. ... ok\n",
      "test_rotl_wraparound (__main__.TestRotateLeft.test_rotl_wraparound)\n",
      "Test case 2: Check bit wraparound behavior. ... ok\n",
      "test_rotl_zero_rotation (__main__.TestRotateLeft.test_rotl_zero_rotation)\n",
      "Test case 3: Zero rotation (no changes). ... ok\n",
      "test_rotr_basic (__main__.TestRotateRight.test_rotr_basic)\n",
      "Test basic right rotation by 1 position. ... ok\n",
      "test_rotr_wraparound (__main__.TestRotateRight.test_rotr_wraparound)\n",
      "Test wrap-around where the least significant bit moves to the most significant bit. ... ok\n",
      "test_rotr_zero_rotation (__main__.TestRotateRight.test_rotr_zero_rotation)\n",
      "Test rotation by 0 positions (should return the original value). ... ok\n",
      "\n",
      "----------------------------------------------------------------------\n",
      "Ran 20 tests in 0.005s\n",
      "\n",
      "OK\n"
     ]
    },
    {
     "data": {
      "text/plain": [
       "<unittest.main.TestProgram at 0x104b1a750>"
      ]
     },
     "execution_count": 55,
     "metadata": {},
     "output_type": "execute_result"
    }
   ],
   "source": [
    "import unittest\n",
    "\n",
    "class TestHashFunction(unittest.TestCase):\n",
    "\n",
    "    def test_basic_words(self):\n",
    "        \"\"\"Test common words to ensure correct hash values.\"\"\"\n",
    "        self.assertEqual(hash_function(\"hello\"), 17)\n",
    "        self.assertEqual(hash_function(\"world\"), 34)\n",
    "        self.assertEqual(hash_function(\"python\"), 91)\n",
    "        self.assertEqual(hash_function(\"hash\"), 15)\n",
    "\n",
    "    def test_empty_string(self):\n",
    "        \"\"\"Test hashing an empty string should return 0.\"\"\"\n",
    "        self.assertEqual(hash_function(\"\"), 0)\n",
    "\n",
    "    def test_single_character(self):\n",
    "        \"\"\"Test hashing single-character strings.\"\"\"\n",
    "        self.assertEqual(hash_function(\"a\"), ord(\"a\") % 101)\n",
    "        self.assertEqual(hash_function(\"b\"), ord(\"b\") % 101)\n",
    "\n",
    "    def test_long_string(self):\n",
    "        \"\"\"Test a long string to check consistency and stability.\"\"\"\n",
    "        self.assertEqual(hash_function(\"thisisalongstring\"), hash_function(\"thisisalongstring\"))\n",
    "\n",
    "    def test_collisions(self):\n",
    "        \"\"\"Ensure that different inputs do not produce the same hash (minimize collisions).\"\"\"\n",
    "        self.assertNotEqual(hash_function(\"apple\"), hash_function(\"orange\"))\n",
    "\n",
    "# Run the tests\n",
    "unittest.main(argv=[''], verbosity=2, exit=False)\n"
   ]
  },
  {
   "cell_type": "markdown",
   "metadata": {},
   "source": [
    "### Why **31**?\n",
    "\n",
    "The number **31** is used as a multiplier in the hash function, meaning each character’s ASCII value is multiplied by **31** before being added to the total hash value. The reason for this choice primarily lies in its **mathematical properties** and **computational efficiency**.\n",
    "\n",
    "One of the most significant reasons for using **31** is that it is a **prime number**. Prime numbers are particularly useful in hashing because they help **reduce collisions**—situations where different inputs produce the same hash value. If a non-prime number were used, certain input patterns could create **predictable cycles**, leading to **clustering in the hash table**. By using a prime number, the **distribution of hash values is more uniform**, making the function more effective.  \n",
    "📌 **Reference:** [Oracle Docs - Effective Java (Item 11: HashCode)](https://books.google.com/books?id=ka2VUBqHiWkC&pg=PA47&redir_esc=y#v=onepage&q&f=false) \n",
    "\n",
    "Another key reason is **computational efficiency**. In lower-level programming languages like **C**, multiplication by **31** can be optimized using **bitwise operations**, making it faster. Instead of performing direct multiplication, the expression:\n",
    "\n",
    "```python\n",
    "31 * hashval\n",
    "```\n",
    "\n",
    "can be rewritten using bitwise shifting:\n",
    "\n",
    "```python\n",
    "(hashval << 5) - hashval\n",
    "```\n",
    "\n",
    "This transformation works because shifting a value **left by 5 places** (`hashval << 5`) is equivalent to **multiplying it by 32**, and subtracting `hashval` effectively results in multiplying by **31**. This optimization allows compilers to replace multiplication with faster bitwise operations, improving performance.   \n",
    "\n",
    "Although this optimization is **not necessary in Python**—since Python handles integer multiplication efficiently the use of **31** remains beneficial for maintaining consistency with C implementations and ensuring predictable results across different programming languages.   \n",
    "\n",
    "Another reason **31** is useful is that it **spreads hash values more evenly** across the available range. When hashing a sequence of characters, using a small multiplier could lead to clustered hash values, meaning that similar inputs produce similar outputs. This lack of randomness increases the risk of hash collisions. Multiplying by **31** ensures that hash values are spread across a larger space, making collisions **less frequent**.  \n",
    "📌 **Reference:** [Python Docs - Hashing](https://docs.python.org/3/glossary.html#term-hash-function)  \n",
    "\n",
    "\n",
    "\n"
   ]
  },
  {
   "cell_type": "markdown",
   "metadata": {},
   "source": [
    "### Why 101?\n",
    "\n",
    "The number **101** is used as the modulus in the hash function to ensure that the final hash values remain within a **bounded range** while maintaining an **even distribution**.\n",
    "\n",
    "#### **Prime Number Properties**\n",
    "101 is a **prime number**, which is crucial in hashing because it helps **reduce collisions**. Prime numbers minimize patterns in the distribution of hash values, making it less likely for different inputs to produce the same hash.\n",
    "\n",
    "If a **non-prime number** were used, common divisors could lead to clustering, where hash values concentrate in specific areas of the range, reducing efficiency.\n",
    "\n",
    "#### **Efficient Distribution & Uniformity**\n",
    "Using 101 ensures that the hash values are evenly spread across **0 to 100**, which is ideal for creating hash tables with limited buckets. A poorly chosen modulo value could cause an*uneven spread, leading to performance bottlenecks.  \n",
    "📌 **Reference:** [Princeton - Hashing Functions](https://algs4.cs.princeton.edu/34hash/)\n",
    "\n",
    "#### **Avoiding Common Factors**\n",
    "Numbers that share **common factors** with character sets or common word patterns may cause frequent collisions. Since **101 has no small divisors**, it avoids repeated patterns in the resulting hash values, ensuring a more random-like distribution.\n",
    "\n",
    "#### **Modulo Keeps Hash Values Small**\n",
    "Without the modulo operation (`% 101`), the hash value could **grow indefinitely**, making storage and computation inefficient. By keeping values within a fixed range, it improves lookup speed in hash tables and reduces memory usage.  \n",
    "📌 **Reference:** [Python Docs - Modulo Operator](https://docs.python.org/3/library/stdtypes.html#numeric-types-int-float-complex)\n",
    "\n",
    "---\n"
   ]
  },
  {
   "cell_type": "markdown",
   "metadata": {},
   "source": [
    "## Task Three: SHA-256 Padding\n",
    "\n",
    "### Overview\n",
    "\n",
    "SHA-256 is a widely used cryptographic hash function that ensures data integrity and security. A crucial step in this hashing process is **message padding**, where the input data is adjusted to fit the SHA-256 block size of 512 bits before being processed.\n",
    "\n",
    "The [SHA-256 padding process](https://csrc.nist.gov/publications/detail/fips/180/4/final) follows a specific format:\n",
    "\n",
    "- Append a single `1` bit (`0x80`) to the message.  \n",
    "- Pad with `0`s until the message length is 64 bits short of a multiple of 512.  \n",
    "- Append the original message length as a 64-bit big-endian integer.  \n",
    "\n",
    "This ensures that the input is correctly aligned for the SHA-256 compression function.\n",
    "\n",
    "### Understanding the Padding Process\n",
    "The padding process ensures that messages fit neatly into 512-bit blocks, which is critical for cryptographic security.\n",
    "\n",
    "- Appending the 1 Bit\n",
    "The first step is to mark the end of the original message by adding a **single `1` bit (`0x80`)**, ensuring that padding is unambiguous.\n",
    "\n",
    "- Zero Padding to 448 Bits\n",
    "The next step is to **add enough `0`s** so that the total length (including the appended `1` bit) is 448 bits mod 512. This aligns the message length correctly for SHA-256 processing.\n",
    "\n",
    "- Appending the Length in Bits\n",
    "The final step is to append the 64-bit representation of the original message length, ensuring that SHA-256 correctly interprets the data.\n",
    "\n",
    "This method follows the exact structure described in the [NIST SHA-2 specification](https://nvlpubs.nist.gov/nistpubs/FIPS/NIST.FIPS.180-4.pdf), ensuring compliance with cryptographic standards.\n"
   ]
  },
  {
   "cell_type": "markdown",
   "metadata": {},
   "source": [
    "- **Step 1: Read the File Contents**\n",
    "    - I will start by opening the file and reading its contents as raw bytes"
   ]
  },
  {
   "cell_type": "code",
   "execution_count": 63,
   "metadata": {},
   "outputs": [],
   "source": [
    "import os\n",
    "\n",
    "def read_file(file_path: str):\n",
    "    \"\"\"\n",
    "    Reads the contents of a file as bytes.\n",
    "\n",
    "    Parameters:\n",
    "        file_path (str): Path to the input file.\n",
    "\n",
    "    Returns:\n",
    "        bytes: File content in bytes.\n",
    "    \"\"\"\n",
    "    with open(file_path, \"rb\") as file:\n",
    "        return file.read()\n"
   ]
  },
  {
   "cell_type": "markdown",
   "metadata": {},
   "source": [
    "- **Step 2: Compute the Original Bit Length**\n",
    "    - SHA-256 requires the original message length in bits, so i will compute this from the byte length."
   ]
  },
  {
   "cell_type": "code",
   "execution_count": 62,
   "metadata": {},
   "outputs": [],
   "source": [
    "def compute_original_bit_length(data: bytes):\n",
    "    \"\"\"\n",
    "    Computes the original message length in bits.\n",
    "\n",
    "    Parameters:\n",
    "        data (bytes): The input file content.\n",
    "\n",
    "    Returns:\n",
    "        int: Original length in bits.\n",
    "    \"\"\"\n",
    "    return len(data) * 8\n"
   ]
  },
  {
   "cell_type": "markdown",
   "metadata": {},
   "source": [
    "- **Step 3: Append the 1 Bit (0x80 in Hex)**\n",
    "    - The SHA-256 specification states that a single 1 bit must be appended, which is represented as 0x80 in hex."
   ]
  },
  {
   "cell_type": "code",
   "execution_count": 57,
   "metadata": {},
   "outputs": [],
   "source": [
    "def append_one_bit(data: bytes):\n",
    "    \"\"\"\n",
    "    Appends the 1-bit (0x80 in hex) to mark the end of the message.\n",
    "\n",
    "    Parameters:\n",
    "        data (bytes): The input file content.\n",
    "\n",
    "    Returns:\n",
    "        bytes: Data with the 1-bit appended.\n",
    "    \"\"\"\n",
    "    return data + b'\\x80'\n"
   ]
  },
  {
   "cell_type": "markdown",
   "metadata": {},
   "source": [
    "- **Step 4: Add Zero Padding**\n",
    "    - SHA-256 requires the total length (including the 1 bit) to be 448 mod 512. We compute how many zero bytes need to be added."
   ]
  },
  {
   "cell_type": "code",
   "execution_count": 58,
   "metadata": {},
   "outputs": [],
   "source": [
    "def add_zero_padding(padded_data: bytes):\n",
    "    \"\"\"\n",
    "    Computes and appends the required zero padding.\n",
    "\n",
    "    Parameters:\n",
    "        padded_data (bytes): Data with the appended 1-bit.\n",
    "\n",
    "    Returns:\n",
    "        bytes: Data with zero padding.\n",
    "    \"\"\"\n",
    "    zero_padding_length = (56 - (len(padded_data) % 64)) % 64\n",
    "    return padded_data + (b'\\x00' * zero_padding_length)\n"
   ]
  },
  {
   "cell_type": "markdown",
   "metadata": {},
   "source": [
    "- **Step 5: Append the Original Length as a 64-bit Big-Endian Integer**\n",
    "    - The final step is appending the original bit length, stored in big-endian format."
   ]
  },
  {
   "cell_type": "code",
   "execution_count": 59,
   "metadata": {},
   "outputs": [],
   "source": [
    "def append_original_length(padded_data: bytes, original_bit_length: int):\n",
    "    \"\"\"\n",
    "    Appends the original length as a 64-bit big-endian integer.\n",
    "\n",
    "    Parameters:\n",
    "        padded_data (bytes): Data with zero padding.\n",
    "        original_bit_length (int): Original message length in bits.\n",
    "\n",
    "    Returns:\n",
    "        bytes: Fully padded data.\n",
    "    \"\"\"\n",
    "    return padded_data + original_bit_length.to_bytes(8, 'big')\n"
   ]
  },
  {
   "cell_type": "markdown",
   "metadata": {},
   "source": [
    "- **Step 6: Extract the Padding**   \n",
    "    - Now, I will extract and return only the padding bytes."
   ]
  },
  {
   "cell_type": "code",
   "execution_count": 60,
   "metadata": {},
   "outputs": [],
   "source": [
    "def extract_padding(original_data: bytes, padded_data: bytes):\n",
    "    \"\"\"\n",
    "    Extracts only the padding portion from the fully padded message.\n",
    "\n",
    "    Parameters:\n",
    "        original_data (bytes): The original file content.\n",
    "        padded_data (bytes): The fully padded message.\n",
    "\n",
    "    Returns:\n",
    "        str: The SHA-256 padding as a hex string.\n",
    "    \"\"\"\n",
    "    padding_bytes = padded_data[len(original_data):]\n",
    "    return \" \".join(f\"{byte:02X}\" for byte in padding_bytes)\n"
   ]
  },
  {
   "cell_type": "markdown",
   "metadata": {},
   "source": [
    "### Test Cases for SHA-256 Padding\n",
    "##### To verify correctness, I will test:\n",
    "\n",
    "- Basic input → Padding for \"abc\" as per SHA-256 specs.\n",
    "- Edge cases → Empty strings, single characters, and near-block-size messages.\n",
    "- Padding structure → Ensuring 0x80, zero padding, and length field are correctly placed.\n",
    "- Consistency → Same input should always produce the same padding.\n",
    "These tests confirm compliance with the SHA-256 specification."
   ]
  },
  {
   "cell_type": "code",
   "execution_count": 64,
   "metadata": {},
   "outputs": [
    {
     "name": "stderr",
     "output_type": "stream",
     "text": [
      "test_ch_all_ones_selector (__main__.TestChooseFunction.test_ch_all_ones_selector)\n",
      "Test when the selector is all 1s (should return y). ... ok\n",
      "test_ch_all_zeros_selector (__main__.TestChooseFunction.test_ch_all_zeros_selector)\n",
      "Test when the selector is all 0s (should return z). ... ok\n",
      "test_ch_alternating_pattern (__main__.TestChooseFunction.test_ch_alternating_pattern)\n",
      "Test with alternating selector bits. ... ok\n",
      "test_ch_basic (__main__.TestChooseFunction.test_ch_basic)\n",
      "Test basic choose function with a mix of 1s and 0s in the selector. ... ok\n",
      "test_basic_words (__main__.TestHashFunction.test_basic_words)\n",
      "Test common words to ensure correct hash values. ... ok\n",
      "test_collisions (__main__.TestHashFunction.test_collisions)\n",
      "Ensure that different inputs do not produce the same hash (minimize collisions). ... ok\n",
      "test_empty_string (__main__.TestHashFunction.test_empty_string)\n",
      "Test hashing an empty string should return 0. ... ok\n",
      "test_long_string (__main__.TestHashFunction.test_long_string)\n",
      "Test a long string to check consistency and stability. ... ok\n",
      "test_single_character (__main__.TestHashFunction.test_single_character)\n",
      "Test hashing single-character strings. ... ok\n",
      "test_maj_all_ones (__main__.TestMajorityFunction.test_maj_all_ones)\n",
      "Test when all inputs are ones (result should be all ones). ... ok\n",
      "test_maj_all_zeros (__main__.TestMajorityFunction.test_maj_all_zeros)\n",
      "Test when all inputs are zeros (result should be all zeros). ... ok\n",
      "test_maj_basic (__main__.TestMajorityFunction.test_maj_basic)\n",
      "Test majority function with mixed input bits. ... ok\n",
      "test_maj_pattern_mixed_bits (__main__.TestMajorityFunction.test_maj_pattern_mixed_bits)\n",
      "Test a case with a mix of majority and minority bits. ... ok\n",
      "test_maj_two_majority_bits (__main__.TestMajorityFunction.test_maj_two_majority_bits)\n",
      "Test when two inputs agree on bits and the third differs. ... ok\n",
      "test_rotl_basic (__main__.TestRotateLeft.test_rotl_basic)\n",
      "Test case 1: Basic left rotation. ... ok\n",
      "test_rotl_wraparound (__main__.TestRotateLeft.test_rotl_wraparound)\n",
      "Test case 2: Check bit wraparound behavior. ... ok\n",
      "test_rotl_zero_rotation (__main__.TestRotateLeft.test_rotl_zero_rotation)\n",
      "Test case 3: Zero rotation (no changes). ... ok\n",
      "test_rotr_basic (__main__.TestRotateRight.test_rotr_basic)\n",
      "Test basic right rotation by 1 position. ... ok\n",
      "test_rotr_wraparound (__main__.TestRotateRight.test_rotr_wraparound)\n",
      "Test wrap-around where the least significant bit moves to the most significant bit. ... ok\n",
      "test_rotr_zero_rotation (__main__.TestRotateRight.test_rotr_zero_rotation)\n",
      "Test rotation by 0 positions (should return the original value). ... ok\n",
      "test_add_zero_padding (__main__.TestSHA256Padding.test_add_zero_padding)\n",
      "Test zero padding length is correct. ... ok\n",
      "test_append_one_bit (__main__.TestSHA256Padding.test_append_one_bit)\n",
      "Test appending the 1-bit to the message. ... ok\n",
      "test_append_original_length (__main__.TestSHA256Padding.test_append_original_length)\n",
      "Ensure the correct 64-bit length is appended. ... ok\n",
      "test_compute_original_bit_length (__main__.TestSHA256Padding.test_compute_original_bit_length)\n",
      "Check if the function correctly calculates bit length. ... ok\n",
      "test_extract_padding (__main__.TestSHA256Padding.test_extract_padding)\n",
      "Check if padding extraction works correctly. ... ok\n",
      "test_read_file (__main__.TestSHA256Padding.test_read_file)\n",
      "Ensure the file is read correctly. ... ok\n",
      "\n",
      "----------------------------------------------------------------------\n",
      "Ran 26 tests in 0.012s\n",
      "\n",
      "OK\n"
     ]
    },
    {
     "data": {
      "text/plain": [
       "<unittest.main.TestProgram at 0x104b1af50>"
      ]
     },
     "execution_count": 64,
     "metadata": {},
     "output_type": "execute_result"
    }
   ],
   "source": [
    "# Testing SHA-256 Padding Functions\n",
    "import unittest\n",
    "\n",
    "class TestSHA256Padding(unittest.TestCase):\n",
    "\n",
    "    def test_read_file(self):\n",
    "        \"\"\"Ensure the file is read correctly.\"\"\"\n",
    "        with open(\"test.txt\", \"wb\") as f:\n",
    "            f.write(b\"abc\")\n",
    "        self.assertEqual(read_file(\"test.txt\"), b\"abc\")\n",
    "\n",
    "    def test_compute_original_bit_length(self):\n",
    "        \"\"\"Check if the function correctly calculates bit length.\"\"\"\n",
    "        self.assertEqual(compute_original_bit_length(b\"abc\"), 24)\n",
    "\n",
    "    def test_append_one_bit(self):\n",
    "        \"\"\"Test appending the 1-bit to the message.\"\"\"\n",
    "        self.assertEqual(append_one_bit(b\"abc\"), b\"abc\\x80\")\n",
    "\n",
    "    def test_add_zero_padding(self):\n",
    "        \"\"\"Test zero padding length is correct.\"\"\"\n",
    "        padded_data = append_one_bit(b\"abc\")\n",
    "        zero_padded_data = add_zero_padding(padded_data)\n",
    "        self.assertEqual(len(zero_padded_data) % 64, 56)\n",
    "\n",
    "    def test_append_original_length(self):\n",
    "        \"\"\"Ensure the correct 64-bit length is appended.\"\"\"\n",
    "        padded_data = append_one_bit(b\"abc\")\n",
    "        padded_data = add_zero_padding(padded_data)\n",
    "        final_data = append_original_length(padded_data, 24)\n",
    "        self.assertEqual(final_data[-8:], (24).to_bytes(8, 'big'))\n",
    "\n",
    "    def test_extract_padding(self):\n",
    "        \"\"\"Check if padding extraction works correctly.\"\"\"\n",
    "        original_data = b\"abc\"\n",
    "        padded_data = append_one_bit(original_data)\n",
    "        padded_data = add_zero_padding(padded_data)\n",
    "        padded_data = append_original_length(padded_data, 24)\n",
    "        padding_hex = extract_padding(original_data, padded_data)\n",
    "        expected_padding = \"80 00 00 00 00 00 00 00 00 00 00 00 00 00 00 00 00 00 00 00 00 00 00 00 00 00 00 00 00 00 00 00 00 00 00 00 00 00 00 00 00 00 00 00 00 00 00 00 00 00 00 00 00 00 00 00 00 00 00 00 18\"\n",
    "        self.assertEqual(padding_hex, expected_padding)\n",
    "\n",
    "# Run tests\n",
    "unittest.main(argv=[''], verbosity=2, exit=False)\n"
   ]
  },
  {
   "cell_type": "markdown",
   "metadata": {},
   "source": [
    "---\n",
    "\n",
    "## Task 4: Prime Numbers\n",
    "### Overview\n",
    "Prime numbers play a crucial role in number theory and cryptography. Every integer greater than 1 can be uniquely expressed as a product of prime numbers, a property known as the **Fundamental Theorem of Arithmetic.**\n",
    "\n",
    "In this task, I will compute the first 100 prime numbers using two well-known and efficient algorithms:\n",
    "\n",
    "- Trial Division Algorithm – A basic but reliable method for checking primality.\n",
    "- Sieve of Eratosthenes – A highly efficient algorithm for generating multiple prime numbers.\n",
    "\n",
    "Both algorithms have different use cases. The **Trial Division Algorithm** is simple and useful for checking if a number is prime, whereas the **Sieve of Eratosthenes** is significantly faster when generating a large list of prime numbers. "
   ]
  },
  {
   "cell_type": "markdown",
   "metadata": {},
   "source": [
    "### Algorithm 1: Trial Division\n",
    "\n",
    "#### How It Works  \n",
    "The **Trial Division Algorithm** checks whether a given number \\( n \\) is prime by testing its divisibility from **2** up to **\\( \\sqrt{n} \\)**. If no divisors are found within this range, the number is prime.\n",
    "\n",
    "#### Steps:\n",
    "1. If \\( n \\leq 1 \\), return **False** (since 1 is not prime).\n",
    "2. Check divisibility by **2**:\n",
    "   - If \\( n \\) is **even** and greater than 2, return **False**.\n",
    "3. Check **odd divisors** up to \\( \\sqrt{n} \\):\n",
    "   - If \\( n \\) is divisible by any of these numbers, return **False**.\n",
    "4. If no divisors are found, return **True** (the number is prime).\n",
    "\n",
    "#### Why This Approach?\n",
    "- Simple and easy to understand.\n",
    "- Works well for **small numbers** but becomes inefficient for **very large numbers**.\n",
    "- Optimized by **checking only odd numbers** after 2, significantly reducing the number of divisions.\n"
   ]
  },
  {
   "cell_type": "markdown",
   "metadata": {},
   "source": [
    "#### Trial Division: A straightforward method that checks divisibility up to √n."
   ]
  },
  {
   "cell_type": "code",
   "execution_count": 2,
   "metadata": {},
   "outputs": [],
   "source": [
    "import math\n",
    "\n",
    "# Check if a number is prime using the Trial Division method\n",
    "def is_prime_trial(n):\n",
    "    \"\"\"Returns True if 'n' is prime using the Trial Division method.\"\"\"\n",
    "    \n",
    "    if n <= 1:\n",
    "        return False\n",
    "    if n == 2:  # 2 is the only even prime\n",
    "        return True\n",
    "    if n % 2 == 0:\n",
    "        return False  # Exclude even numbers\n",
    "\n",
    "    # Check divisibility for odd numbers up to √n\n",
    "    for i in range(3, int(math.sqrt(n)) + 1, 2):\n",
    "        if n % i == 0:\n",
    "            return False\n",
    "\n",
    "    return True"
   ]
  },
  {
   "cell_type": "markdown",
   "metadata": {},
   "source": [
    "#### Generate the first 'n' prime numbers using Trial Division"
   ]
  },
  {
   "cell_type": "code",
   "execution_count": 3,
   "metadata": {},
   "outputs": [
    {
     "name": "stdout",
     "output_type": "stream",
     "text": [
      "[2, 3, 5, 7, 11, 13, 17, 19, 23, 29, 31, 37, 41, 43, 47, 53, 59, 61, 67, 71, 73, 79, 83, 89, 97, 101, 103, 107, 109, 113, 127, 131, 137, 139, 149, 151, 157, 163, 167, 173, 179, 181, 191, 193, 197, 199, 211, 223, 227, 229, 233, 239, 241, 251, 257, 263, 269, 271, 277, 281, 283, 293, 307, 311, 313, 317, 331, 337, 347, 349, 353, 359, 367, 373, 379, 383, 389, 397, 401, 409, 419, 421, 431, 433, 439, 443, 449, 457, 461, 463, 467, 479, 487, 491, 499, 503, 509, 521, 523, 541]\n"
     ]
    }
   ],
   "source": [
    "# Generate the first 'n' prime numbers using Trial Division\n",
    "def first_n_primes_trial(n):\n",
    "    \"\"\"Generates the first 'n' prime numbers.\"\"\"\n",
    "    \n",
    "    primes = []\n",
    "    num = 2  # Start checking from 2\n",
    "\n",
    "    while len(primes) < n:\n",
    "        if is_prime_trial(num):\n",
    "            primes.append(num)\n",
    "        num += 1  # Move to the next number\n",
    "\n",
    "    return primes\n",
    "\n",
    "\n",
    "# Example: Find the first 100 prime numbers\n",
    "primes_trial = first_n_primes_trial(100)\n",
    "print(primes_trial)"
   ]
  }
 ],
 "metadata": {
  "kernelspec": {
   "display_name": "Python 3",
   "language": "python",
   "name": "python3"
  },
  "language_info": {
   "codemirror_mode": {
    "name": "ipython",
    "version": 3
   },
   "file_extension": ".py",
   "mimetype": "text/x-python",
   "name": "python",
   "nbconvert_exporter": "python",
   "pygments_lexer": "ipython3",
   "version": "3.13.0"
  }
 },
 "nbformat": 4,
 "nbformat_minor": 2
}
