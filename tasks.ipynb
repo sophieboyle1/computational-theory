{
 "cells": [
  {
   "cell_type": "markdown",
   "metadata": {},
   "source": [
    "## Task One: Binary Representations\n",
    "\n",
    "##### This task was all about working with bits. I had to implement four functions that manipulate bits in a 32-bit unsigned integer. These kinds of operations are essential in areas like cryptography and data compression, where you need to optimize data handling at the binary level.\n",
    "\n",
    "### **Functions Implemented**\n",
    "- **`rotl(x, n)`** – Rotates bits to the left.\n",
    "- **`rotr(x, n)`** – Rotates bits to the right.\n",
    "- **`ch(x, y, z)`** – Conditional bitwise selection.\n",
    "- **`maj(x, y, z)`** – Computes the majority bit at each position.\n",
    "##### Each function is essential in bitwise manipulations, particularly in hashing algorithms (e.g., SHA-256), data encoding, and optimizing storage."
   ]
  },
  {
   "cell_type": "markdown",
   "metadata": {},
   "source": [
    "### 1. **`rotl(x, n)`**\n",
    "The rotate left (rotl) function shifts the bits of a number to the left by n positions. Bits that overflow on the left wrap around to the right. This is different from a left shift (<<), where overflowed bits are lost.\n",
    "\n",
    "##### Why This Approach?\n",
    "- Bitwise Shifting & Masking\n",
    "Python supports [bitwise operations](https://docs.python.org/3/library/stdtypes.html#bitwise-operations) for manipulating integers efficiently. Since Python integers are arbitrary precision, we use bitwise masking (& 0xFFFFFFFF) to limit the result to 32 bits, ensuring behavior similar to C-based implementations.\n",
    "\n",
    "- Handling Overflow Correctly\n",
    "Since a [left shift](https://stackoverflow.com/questions/141525/what-are-bitwise-shift-bit-shift-operators-and-how-do-they-work) (`<<`) moves bits out of the range, I needed to reintroduce the overflowed bits using a right shift (`>>`) and a [bitwise OR](https://stackoverflow.com/questions/17484720/how-do-bitwise-or-and-bitwise-and-work-in-python) (`|`) to complete the rotation.\n",
    "\n",
    "\n"
   ]
  },
  {
   "cell_type": "code",
   "execution_count": 99,
   "metadata": {},
   "outputs": [],
   "source": [
    "\n",
    "def rotl(x: int, n: int = 1) -> int:\n",
    "    \"\"\"\n",
    "    Rotates the bits of a 32-bit unsigned integer to the left by n positions.\n",
    "\n",
    "    Parameters:\n",
    "        x (int): The 32-bit unsigned integer to rotate.\n",
    "        n (int): The number of positions to rotate (default is 1).\n",
    "\n",
    "    Returns:\n",
    "        int: The rotated 32-bit unsigned integer.\n",
    "    \"\"\"\n",
    "    n = n % 32  # Ensure n is within the valid range (0-31)\n",
    "    return ((x << n) | (x >> (32 - n))) & 0xFFFFFFFF  # Perform bitwise rotation\n"
   ]
  },
  {
   "cell_type": "markdown",
   "metadata": {},
   "source": [
    "- Example Usage Of Rotl\n",
    "- This example rotates the bits of a number to the left by 4 positions and shows the result, including a case where all bits are set.\n"
   ]
  },
  {
   "cell_type": "code",
   "execution_count": 100,
   "metadata": {},
   "outputs": [
    {
     "name": "stdout",
     "output_type": "stream",
     "text": [
      "Original value (bin): 0b1\n",
      "Rotated left by 4 (bin): 0b10000\n",
      "Rotated left (all bits set): 0b11111111111111111111111111111111\n"
     ]
    }
   ],
   "source": [
    "# Example usage of rotl\n",
    "x = 0b00000000000000000000000000000001  # Binary representation of 1\n",
    "rotated_value = rotl(x, 4)\n",
    "\n",
    "# Output the original and rotated values\n",
    "print(f\"Original value (bin): {bin(x)}\")\n",
    "print(f\"Rotated left by 4 (bin): {bin(rotated_value)}\")\n",
    "\n",
    "# Example with all bits set\n",
    "x_all_set = 0xFFFFFFFF  # All 32 bits set to 1\n",
    "rotated_all_set = rotl(x_all_set, 5)\n",
    "print(f\"Rotated left (all bits set): {bin(rotated_all_set)}\") \n"
   ]
  },
  {
   "cell_type": "markdown",
   "metadata": {},
   "source": [
    "#### Test Case For Rotate Left Function\n",
    "##### The tests ensure the rotl function correctly rotates bits in a 32-bit unsigned integer:\n",
    "\n",
    "- Basic Rotation: Checks if a simple left rotation shifts bits correctly.\n",
    "- Wraparound Behavior: Verifies that overflowed bits wrap around to the right.\n",
    "- Zero Rotation: Ensures rotating by 0 positions returns the original value.\n"
   ]
  },
  {
   "cell_type": "code",
   "execution_count": null,
   "metadata": {},
   "outputs": [],
   "source": [
    "import unittest \n",
    "\n",
    "class TestRotateLeft(unittest.TestCase):\n",
    "    \"\"\"\n",
    "    Unit test class for testing the rotl (rotate left) function.\n",
    "    \"\"\"\n",
    "\n",
    "    def test_rotl_basic(self):\n",
    "        \"\"\"\n",
    "        Test case 1: Basic left rotation.\n",
    "        - Input: `0b0001` (binary 1)\n",
    "        - Rotating left by 4 positions\n",
    "        - Expected Output: `0b10000` (binary 16)\n",
    "        \"\"\"\n",
    "        self.assertEqual(rotl(0b0001, 4), 0b10000)\n",
    "\n",
    "    def test_rotl_wraparound(self):\n",
    "        \"\"\"\n",
    "        Test case 2: Check bit wraparound behavior.\n",
    "        - Input: `0b10000000000000000000000000000000` (binary, MSB set)\n",
    "        - Rotating left by 1 position\n",
    "        - Expected Output: `0b00000000000000000000000000000001` (binary, LSB set)\n",
    "        \"\"\"\n",
    "        self.assertEqual(rotl(0b10000000000000000000000000000000, 1), \n",
    "                         0b00000000000000000000000000000001)\n",
    "\n",
    "    def test_rotl_zero_rotation(self):\n",
    "        \"\"\"\n",
    "        Test case 3: Zero rotation (no changes).\n",
    "        - Input: `0b1010` (binary 10)\n",
    "        - Rotating left by 0 positions\n",
    "        - Expected Output: `0b1010` (unchanged)\n",
    "        \"\"\"\n",
    "        self.assertEqual(rotl(0b1010, 0), 0b1010)\n",
    "\n",
    "# Run the tests\n",
    "unittest.main(argv=[''], verbosity=2, exit=False)\n"
   ]
  },
  {
   "cell_type": "markdown",
   "metadata": {},
   "source": [
    "### 2. **`rotr(x, n)`** \n",
    "The rotate right function shifts bits to the right by n positions. Bits that overflow on the right wrap around to the left.This ensures the integrity of data, unlike a right shift (>>), which discards shifted bits.\n",
    "\n",
    "##### Why This Approach?\n",
    "- Bitwise Shifting & Masking\n",
    "Python supports [bitwise operations](https://docs.python.org/3/library/stdtypes.html#bitwise-operations) for manipulating integers efficiently. Since Python integers are arbitrary precision, we use bitwise masking (& 0xFFFFFFFF) to limit the result to 32 bits, ensuring behavior similar to C-based implementations.\n",
    "\n",
    "- Handling Overflow Correctly\n",
    "Since a [right shift](https://docs.python.org/3/library/stdtypes.html#bitwise-operations) (`>>`) moves bits out of range, I needed to reintroduce the overflowed bits using a [left shift](https://en.wikipedia.org/wiki/Circular_shift) (`<<`) and a [bitwise](https://en.wikipedia.org/wiki/Bitwise_operation#OR) OR (`|`) to complete the rotation and maintain proper circular shifting.\n"
   ]
  },
  {
   "cell_type": "code",
   "execution_count": 102,
   "metadata": {},
   "outputs": [],
   "source": [
    "def rotr(x: int, n: int = 1) -> int:\n",
    "    \"\"\"\n",
    "    Rotates the bits of a 32-bit unsigned integer to the right by n positions.\n",
    "\n",
    "    Parameters:\n",
    "        x (int): The 32-bit unsigned integer to rotate.\n",
    "        n (int): The number of positions to rotate (default is 1).\n",
    "\n",
    "    Returns:\n",
    "        int: The rotated 32-bit unsigned integer.\n",
    "    \"\"\"\n",
    "    n = n % 32  # Ensure n is within the valid range (0-31)\n",
    "    return ((x >> n) | (x << (32 - n))) & 0xFFFFFFFF  # Perform bitwise rotation\n"
   ]
  },
  {
   "cell_type": "markdown",
   "metadata": {},
   "source": [
    "##### Example Usage Of Rotr \n",
    "This example demonstrates rotating a number's bits to the right by 1 and 2 positions, including a case with a repeating bit pattern.\n"
   ]
  },
  {
   "cell_type": "code",
   "execution_count": 103,
   "metadata": {},
   "outputs": [
    {
     "name": "stdout",
     "output_type": "stream",
     "text": [
      "Original value (bin): 0b10000000000000000000000000000000\n",
      "Rotated right by 1 (bin): 0b1000000000000000000000000000000\n",
      "Original value (bin): 0b11001100110011001100110011001100\n",
      "Rotated right by 2 (bin): 0b110011001100110011001100110011\n"
     ]
    }
   ],
   "source": [
    "# Example usage of rotr\n",
    "x = 0b10000000000000000000000000000000  # Binary representation with only the most significant bit set\n",
    "rotated_value = rotr(x, 1)\n",
    "\n",
    "# Output the original and rotated values\n",
    "print(f\"Original value (bin): {bin(x)}\")\n",
    "print(f\"Rotated right by 1 (bin): {bin(rotated_value)}\")\n",
    "\n",
    "# Example with a pattern\n",
    "x_pattern = 0b11001100110011001100110011001100\n",
    "rotated_pattern = rotr(x_pattern, 2)\n",
    "print(f\"Original value (bin): {bin(x_pattern)}\") \n",
    "print(f\"Rotated right by 2 (bin): {bin(rotated_pattern)}\")\n"
   ]
  },
  {
   "cell_type": "markdown",
   "metadata": {},
   "source": [
    "#### Test Case For Rotate Right Function\n",
    "##### The tests ensure the rotr function correctly rotates bits in a 32-bit unsigned integer:\n",
    "\n",
    "- Basic Rotation: Checks if a simple right rotation shifts bits correctly.\n",
    "- Wraparound Behavior: Verifies that overflowed bits wrap around to the left.\n",
    "- Zero Rotation: Ensures rotating by 0 positions returns the original value"
   ]
  },
  {
   "cell_type": "code",
   "execution_count": null,
   "metadata": {},
   "outputs": [],
   "source": [
    "import unittest\n",
    "\n",
    "class TestRotateRight(unittest.TestCase):\n",
    "\n",
    "    def test_rotr_basic(self):\n",
    "        \"\"\"Test basic right rotation by 1 position.\"\"\"\n",
    "        self.assertEqual(rotr(0b1000, 1), 0b0100)\n",
    "\n",
    "    def test_rotr_wraparound(self):\n",
    "        \"\"\"Test wrap-around where the least significant bit moves to the most significant bit.\"\"\"\n",
    "        self.assertEqual(rotr(0b00000000000000000000000000000001, 1), \n",
    "                         0b10000000000000000000000000000000)\n",
    "\n",
    "    def test_rotr_zero_rotation(self):\n",
    "        \"\"\"Test rotation by 0 positions (should return the original value).\"\"\"\n",
    "        self.assertEqual(rotr(0b1010, 0), 0b1010)\n",
    "\n",
    "unittest.main(argv=[''], verbosity=2, exit=False)\n"
   ]
  },
  {
   "cell_type": "markdown",
   "metadata": {},
   "source": [
    "\n",
    "### 3. **`ch(x, y, z)`** \n",
    "##### The choose function (ch) is commonly used in cryptographic hashing (SHA-256). It selects bits from y or z based on x:\n",
    "\n",
    "##### - If x has a 1, take the bit from y.\n",
    "##### - If x has a 0, take the bit from z.\n"
   ]
  },
  {
   "cell_type": "code",
   "execution_count": 105,
   "metadata": {},
   "outputs": [],
   "source": [
    "def ch(x: int, y: int, z: int) -> int:\n",
    "    \"\"\"\n",
    "    Chooses bits from y where x has 1s, and from z where x has 0s.\n",
    "\n",
    "    Parameters:\n",
    "        x (int): Selector bits.\n",
    "        y (int): Bits selected when x is 1.\n",
    "        z (int): Bits selected when x is 0.\n",
    "\n",
    "    Returns:\n",
    "        int: The resulting integer after selection.\n",
    "    \"\"\"\n",
    "    return (x & y) | (~x & z) & 0xFFFFFFFF  # Perform bitwise selection\n"
   ]
  },
  {
   "cell_type": "markdown",
   "metadata": {},
   "source": [
    "\n",
    "### Example Usage Of CH\n",
    "##### This example demonstrates the ch function, which selects bits from y where x has 1s and from z where x has 0s, producing a result based on the selector bits in x.\n"
   ]
  },
  {
   "cell_type": "code",
   "execution_count": 106,
   "metadata": {},
   "outputs": [
    {
     "name": "stdout",
     "output_type": "stream",
     "text": [
      "Selector (x):   0b10101010\n",
      "Option 1 (y):   0b11111111\n",
      "Option 2 (z):   0b0\n",
      "Chosen result:  0b10101010\n"
     ]
    }
   ],
   "source": [
    "# Example usage of ch\n",
    "x = 0b10101010  # Selector bits\n",
    "y = 0b11111111  # Bits to choose when x has 1s\n",
    "z = 0b00000000  # Bits to choose when x has 0s\n",
    "\n",
    "chosen_bits = ch(x, y, z)\n",
    "\n",
    "# Output the result of the choose function\n",
    "print(f\"Selector (x):   {bin(x)}\") \n",
    "print(f\"Option 1 (y):   {bin(y)}\")\n",
    "print(f\"Option 2 (z):   {bin(z)}\")\n",
    "print(f\"Chosen result:  {bin(chosen_bits)}\")"
   ]
  },
  {
   "cell_type": "markdown",
   "metadata": {},
   "source": [
    "### - Test Case for CH Function\n"
   ]
  },
  {
   "cell_type": "code",
   "execution_count": null,
   "metadata": {},
   "outputs": [],
   "source": [
    "import unittest\n",
    "\n",
    "class TestChooseFunction(unittest.TestCase):\n",
    "\n",
    "    def test_ch_basic(self):\n",
    "        \"\"\"Test basic choose function with a mix of 1s and 0s in the selector.\"\"\"\n",
    "        self.assertEqual(ch(0b10101010, 0b11111111, 0b00000000), 0b10101010)\n",
    "\n",
    "    def test_ch_all_ones_selector(self):\n",
    "        \"\"\"Test when the selector is all 1s (should return y).\"\"\"\n",
    "        self.assertEqual(ch(0b11111111, 0b10101010, 0b01010101), 0b10101010)\n",
    "\n",
    "    def test_ch_all_zeros_selector(self):\n",
    "        \"\"\"Test when the selector is all 0s (should return z).\"\"\"\n",
    "        self.assertEqual(ch(0b00000000, 0b10101010, 0b01010101), 0b01010101)\n",
    "\n",
    "    def test_ch_alternating_pattern(self):\n",
    "        \"\"\"Test with alternating selector bits.\"\"\"\n",
    "        self.assertEqual(ch(0b11001100, 0b11110000, 0b00001111), 0b11000011)\n",
    "\n",
    "unittest.main(argv=[''], verbosity=2, exit=False)\n"
   ]
  },
  {
   "cell_type": "markdown",
   "metadata": {},
   "source": [
    "\n",
    "### 4. **`maj(x, y, z)`** \n",
    "##### The majority function (maj) is widely used in cryptography and error correction:\n",
    "\n",
    "##### - If at least two of x, y, z have a 1 at a bit position, the result is 1.\n",
    "##### - Otherwise, the result is 0.\n"
   ]
  },
  {
   "cell_type": "code",
   "execution_count": 108,
   "metadata": {},
   "outputs": [],
   "source": [
    "def maj(x: int, y: int, z: int) -> int:\n",
    "    \"\"\"\n",
    "    Computes the majority function at each bit position.\n",
    "\n",
    "    Parameters:\n",
    "        x (int): First input.\n",
    "        y (int): Second input.\n",
    "        z (int): Third input.\n",
    "\n",
    "    Returns:\n",
    "        int: The majority result.\n",
    "    \"\"\"\n",
    "    return (x & y) | (x & z) | (y & z) & 0xFFFFFFFF  # Compute majority bitwise\n"
   ]
  },
  {
   "cell_type": "markdown",
   "metadata": {},
   "source": [
    "### Example Usage Of MAJ\n",
    "##### This example demonstrates the maj function, which outputs a 1 in each bit position where at least two of the inputs have a 1, showing how the majority vote works at the bit level."
   ]
  },
  {
   "cell_type": "code",
   "execution_count": 109,
   "metadata": {},
   "outputs": [
    {
     "name": "stdout",
     "output_type": "stream",
     "text": [
      "Input 1 (x):    0b10101010\n",
      "Input 2 (y):    0b11110000\n",
      "Input 3 (z):    0b1111\n",
      "Majority result: 0b10101010\n"
     ]
    }
   ],
   "source": [
    "# Example usage of maj\n",
    "x = 0b10101010  # Input 1\n",
    "y = 0b11110000  # Input 2\n",
    "z = 0b00001111  # Input 3\n",
    "\n",
    "majority_bits = maj(x, y, z)\n",
    "\n",
    "# Output the result of the majority function\n",
    "print(f\"Input 1 (x):    {bin(x)}\") \n",
    "print(f\"Input 2 (y):    {bin(y)}\")\n",
    "print(f\"Input 3 (z):    {bin(z)}\")\n",
    "print(f\"Majority result: {bin(majority_bits)}\")\n"
   ]
  },
  {
   "cell_type": "markdown",
   "metadata": {},
   "source": [
    "### - Test Case For MAJ"
   ]
  },
  {
   "cell_type": "code",
   "execution_count": null,
   "metadata": {},
   "outputs": [],
   "source": [
    "import unittest\n",
    "\n",
    "class TestMajorityFunction(unittest.TestCase):\n",
    "\n",
    "    def test_maj_basic(self):\n",
    "        \"\"\"Test majority function with mixed input bits.\"\"\"\n",
    "        self.assertEqual(maj(0b10101010, 0b11110000, 0b00001111), 0b10101010)\n",
    "\n",
    "    def test_maj_all_zeros(self):\n",
    "        \"\"\"Test when all inputs are zeros (result should be all zeros).\"\"\"\n",
    "        self.assertEqual(maj(0b00000000, 0b00000000, 0b00000000), 0b00000000)\n",
    "\n",
    "    def test_maj_all_ones(self):\n",
    "        \"\"\"Test when all inputs are ones (result should be all ones).\"\"\"\n",
    "        self.assertEqual(maj(0b11111111, 0b11111111, 0b11111111), 0b11111111)\n",
    "\n",
    "    def test_maj_two_majority_bits(self):\n",
    "        \"\"\"Test when two inputs agree on bits and the third differs.\"\"\"\n",
    "        self.assertEqual(maj(0b10101010, 0b10101010, 0b01010101), 0b10101010)\n",
    "\n",
    "    def test_maj_pattern_mixed_bits(self):\n",
    "        \"\"\"Test a case with a mix of majority and minority bits.\"\"\"\n",
    "        self.assertEqual(maj(0b11001100, 0b11110000, 0b00001111), 0b11001100)\n",
    "\n",
    "unittest.main(argv=[''], verbosity=2, exit=False)\n"
   ]
  },
  {
   "cell_type": "markdown",
   "metadata": {},
   "source": [
    "## Task Two: Hash Functions\n",
    "\n",
    "### Overview\n",
    "##### This task explores hash functions, which are widely used in cryptography, data integrity, and efficient data lookup.\n",
    "\n",
    "- Convert a given C hash function to Python.\n",
    "- Test the Python implementation with different inputs.\n",
    "- Explain why the numbers 31 and 101 were chosen in the function.\n",
    "\n",
    "##### A hash function takes an input eg.a string and converts it into a fixed-size integer value. It should be:\n",
    "\n",
    "- Efficient → Quickly compute a unique hash for an input.\n",
    "- Deterministic → The same input always produces the same hash.\n",
    "- Uniform → Hash values should be well distributed to minimize collisions.\n",
    "\n",
    "### Understanding the C Function and Translation Process\n",
    "##### The provided C function computes a hash value for a given string using a weighted sum approach and a modulo operation. The goal is to convert this function into Python while maintaining its logic and efficiency\n",
    "\n",
    "\n"
   ]
  },
  {
   "cell_type": "markdown",
   "metadata": {},
   "source": [
    "```\n",
    "The original C function:\n",
    "\n",
    "unsigned hash(char *s) {\n",
    "    unsigned hashval;\n",
    "    for (hashval = 0; *s != '\\0'; s++)\n",
    "        hashval = *s + 31 * hashval;\n",
    "    return hashval % 101;\n",
    "}\n",
    "```"
   ]
  },
  {
   "cell_type": "markdown",
   "metadata": {},
   "source": [
    "### Translating to Python\n",
    "Python does not use pointers, so i needed to adapt this function accordingly:\n",
    "\n",
    "Key Adaptations:\n",
    "- Use ord(char) to get the ASCII value (since char *s in C directly accesses ASCII).\n",
    "- Iterate through the string using for char in s: instead of pointer arithmetic (*s != '\\0').\n",
    "- Keep integer calculations the same (31 * hashval + ASCII).\n",
    "- Apply modulo 101 at the end to match the behavior."
   ]
  },
  {
   "cell_type": "code",
   "execution_count": 113,
   "metadata": {},
   "outputs": [
    {
     "name": "stdout",
     "output_type": "stream",
     "text": [
      "Hash of 'hello': 17\n",
      "Hash of 'world': 34\n",
      "Hash of 'python': 91\n",
      "Hash of 'hash': 15\n"
     ]
    }
   ],
   "source": [
    "def hash_function(s: str) -> int:\n",
    "    \"\"\"\n",
    "    Implements the given C hash function in Python.\n",
    "\n",
    "    Parameters:\n",
    "        s (str): Input string.\n",
    "\n",
    "    Returns:\n",
    "        int: Hash value mod 101.\n",
    "    \"\"\"\n",
    "    hashval = 0  # Initialize hash value\n",
    "    for char in s:\n",
    "        hashval = ord(char) + 31 * hashval  # Apply weighted sum with ASCII value\n",
    "    return hashval % 101  # Use modulo to limit range\n",
    "\n",
    "# Example test cases\n",
    "test_strings = [\"hello\", \"world\", \"python\", \"hash\"]\n",
    "for s in test_strings:\n",
    "    print(f\"Hash of '{s}': {hash_function(s)}\")\n"
   ]
  },
  {
   "cell_type": "markdown",
   "metadata": {},
   "source": []
  }
 ],
 "metadata": {
  "kernelspec": {
   "display_name": "Python 3",
   "language": "python",
   "name": "python3"
  },
  "language_info": {
   "codemirror_mode": {
    "name": "ipython",
    "version": 3
   },
   "file_extension": ".py",
   "mimetype": "text/x-python",
   "name": "python",
   "nbconvert_exporter": "python",
   "pygments_lexer": "ipython3",
   "version": "3.13.0"
  }
 },
 "nbformat": 4,
 "nbformat_minor": 2
}
