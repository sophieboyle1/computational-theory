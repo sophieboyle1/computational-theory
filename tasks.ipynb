{
 "cells": [
  {
   "cell_type": "markdown",
   "metadata": {},
   "source": [
    "# Computational Theory - Cryptographic Functions & Algorithms\n",
    "# Sophie Boyle G00410444"
   ]
  },
  {
   "cell_type": "markdown",
   "metadata": {},
   "source": [
    "## Overview\n",
    "This notebook contains implementations and tests for various computational theory concepts, primarily focusing on bitwise operations, cryptographic functions, and algorithmic problem-solving. These tasks align with cryptographic principles outlined in FIPS 180-4, Secure Hash Standard (SHS) and explore fundamental topics like bitwise manipulation, hashing, prime numbers, Turing machines, and computational complexity.\n",
    "Each task is implemented in Python, with clear explanations and unit tests where applicable."
   ]
  },
  {
   "cell_type": "code",
   "execution_count": 642,
   "metadata": {},
   "outputs": [],
   "source": [
    "# imports\n",
    "import unittest\n",
    "import os\n",
    "import math \n",
    "import hashlib\n",
    "import itertools\n",
    "import matplotlib.pyplot as plt\n",
    "import numpy as np"
   ]
  },
  {
   "cell_type": "markdown",
   "metadata": {},
   "source": [
    "## Task One: Binary Representations\n",
    "\n",
    "This task was all about working with bits. I had to implement four functions that manipulate bits in a 32-bit unsigned integer. These kinds of operations are essential in areas like cryptography and data compression, where you need to optimize data handling at the binary level.\n",
    "\n",
    "### **Functions Implemented**\n",
    "- **`rotl(x, n)`** – Rotates bits to the left.\n",
    "- **`rotr(x, n)`** – Rotates bits to the right.\n",
    "- **`ch(x, y, z)`** – Conditional bitwise selection.\n",
    "- **`maj(x, y, z)`** – Computes the majority bit at each position.\n",
    "\n",
    "Each function is essential in bitwise manipulations, particularly in hashing algorithms (e.g., SHA-256), data encoding, and optimizing storage."
   ]
  },
  {
   "cell_type": "markdown",
   "metadata": {},
   "source": [
    "### 1. **`rotl(x, n)`**\n",
    "The rotate left (rotl) function shifts the bits of a number to the left by n positions. Bits that overflow on the left wrap around to the right. This is different from a left shift (<<), where overflowed bits are lost.\n",
    "\n",
    "##### Why This Approach?\n",
    "- Bitwise Shifting & Masking\n",
    "Python supports [bitwise operations](https://docs.python.org/3/library/stdtypes.html#bitwise-operations) for manipulating integers efficiently. Since Python integers are arbitrary precision, we use bitwise masking (& 0xFFFFFFFF) to limit the result to 32 bits, ensuring behavior similar to C-based implementations.\n",
    "\n",
    "- Why is rotl useful in cryptographic functions?\n",
    "Bitwise rotations are widely used in cryptographic hash functions like SHA-256 because they help spread input bits throughout the computation. This ensures diffusion, a property that makes it difficult for an attacker to reverse-engineer the input from the hash. Additionally, rotations preserve all bits of the input, unlike shifts (`<< or >>`), which discard bits.\n",
    "\n",
    "- Handling Overflow Correctly\n",
    "Since a [left shift](https://stackoverflow.com/questions/141525/what-are-bitwise-shift-bit-shift-operators-and-how-do-they-work) (`<<`) moves bits out of the range, I needed to reintroduce the overflowed bits using a right shift (`>>`) and a [bitwise OR](https://stackoverflow.com/questions/17484720/how-do-bitwise-or-and-bitwise-and-work-in-python) (`|`) to complete the rotation.\n",
    "\n"
   ]
  },
  {
   "cell_type": "code",
   "execution_count": 551,
   "metadata": {},
   "outputs": [],
   "source": [
    "def rotl(x: int, n: int = 1) -> int:\n",
    "    \"\"\"\n",
    "    Rotates the bits of a 32-bit unsigned integer to the left by n positions.\n",
    "\n",
    "    Cryptographic Importance:\n",
    "    - Used in hash functions like SHA-256 to ensure **diffusion**, where small input changes lead to large output differences.\n",
    "    - Unlike bit shifts (`<<`), **rotations preserve all bits**, which is crucial for secure bit transformations.\n",
    "\n",
    "    Parameters:\n",
    "        x (int): The 32-bit unsigned integer to rotate.\n",
    "        n (int): The number of positions to rotate (default is 1).\n",
    "\n",
    "    Returns:\n",
    "        int: The rotated 32-bit unsigned integer.\n",
    "    \"\"\"\n",
    "    n = n % 32  # Ensure n is within the valid range (0-31)\n",
    "    return ((x << n) | (x >> (32 - n))) & 0xFFFFFFFF  # Perform bitwise rotation\n"
   ]
  },
  {
   "cell_type": "markdown",
   "metadata": {},
   "source": [
    "- Example Usage Of Rotl\n",
    "- This example rotates the bits of a number to the left by 4 positions and shows the result, including a case where all bits are set.\n"
   ]
  },
  {
   "cell_type": "code",
   "execution_count": 552,
   "metadata": {},
   "outputs": [
    {
     "name": "stdout",
     "output_type": "stream",
     "text": [
      "Original value (bin): 0b1\n",
      "Rotated left by 4 (bin): 0b10000\n",
      "Rotated left (all bits set): 0b11111111111111111111111111111111\n"
     ]
    }
   ],
   "source": [
    "# Example usage of rotl\n",
    "x = 0b00000000000000000000000000000001  # Binary representation of 1\n",
    "rotated_value = rotl(x, 4)\n",
    "\n",
    "# Output the original and rotated values\n",
    "print(f\"Original value (bin): {bin(x)}\")\n",
    "print(f\"Rotated left by 4 (bin): {bin(rotated_value)}\")\n",
    "\n",
    "# Example with all bits set\n",
    "x_all_set = 0xFFFFFFFF  # All 32 bits set to 1\n",
    "rotated_all_set = rotl(x_all_set, 5)\n",
    "print(f\"Rotated left (all bits set): {bin(rotated_all_set)}\") \n"
   ]
  },
  {
   "cell_type": "markdown",
   "metadata": {},
   "source": [
    "#### Test Case For Rotate Left Function\n",
    "##### The tests ensure the rotl function correctly rotates bits in a 32-bit unsigned integer:\n",
    "\n",
    "- Basic Rotation: Checks if a simple left rotation shifts bits correctly.\n",
    "- Wraparound Behavior: Verifies that overflowed bits wrap around to the right.\n",
    "- Zero Rotation: Ensures rotating by 0 positions returns the original value.\n"
   ]
  },
  {
   "cell_type": "code",
   "execution_count": 628,
   "metadata": {},
   "outputs": [
    {
     "name": "stderr",
     "output_type": "stream",
     "text": [
      "test_rotl_all_ones (__main__.TestRotateLeft.test_rotl_all_ones)\n",
      "Rotating a number with all bits set should remain unchanged. ... ok\n",
      "test_rotl_basic (__main__.TestRotateLeft.test_rotl_basic)\n",
      "Test case 1: Basic left rotation. ... ok\n",
      "test_rotl_wraparound (__main__.TestRotateLeft.test_rotl_wraparound)\n",
      "Test case 2: Check bit wraparound behavior. ... ok\n",
      "test_rotl_zero_rotation (__main__.TestRotateLeft.test_rotl_zero_rotation)\n",
      "Test case 3: Zero rotation (no changes). ... ok\n",
      "\n",
      "----------------------------------------------------------------------\n",
      "Ran 4 tests in 0.005s\n",
      "\n",
      "OK\n"
     ]
    },
    {
     "data": {
      "text/plain": [
       "<unittest.runner.TextTestResult run=4 errors=0 failures=0>"
      ]
     },
     "execution_count": 628,
     "metadata": {},
     "output_type": "execute_result"
    }
   ],
   "source": [
    "class TestRotateLeft(unittest.TestCase):\n",
    "    \"\"\"\n",
    "    Unit test class for testing the rotl (rotate left) function.\n",
    "    \"\"\"\n",
    "\n",
    "    def test_rotl_basic(self):\n",
    "        \"\"\"\n",
    "        Test case 1: Basic left rotation.\n",
    "        - Input: `0b0001` (binary 1)\n",
    "        - Rotating left by 4 positions\n",
    "        - Expected Output: `0b10000` (binary 16)\n",
    "        \"\"\"\n",
    "        self.assertEqual(rotl(0b0001, 4), 0b10000)\n",
    "\n",
    "    def test_rotl_wraparound(self):\n",
    "        \"\"\"\n",
    "        Test case 2: Check bit wraparound behavior.\n",
    "        - Input: `0b10000000000000000000000000000000` (binary, MSB set)\n",
    "        - Rotating left by 1 position\n",
    "        - Expected Output: `0b00000000000000000000000000000001` (binary, LSB set)\n",
    "        \"\"\"\n",
    "        self.assertEqual(rotl(0b10000000000000000000000000000000, 1), \n",
    "                         0b00000000000000000000000000000001)\n",
    "\n",
    "    def test_rotl_zero_rotation(self):\n",
    "        \"\"\"\n",
    "        Test case 3: Zero rotation (no changes).\n",
    "        - Input: `0b1010` (binary 10)\n",
    "        - Rotating left by 0 positions\n",
    "        - Expected Output: `0b1010` (unchanged)\n",
    "        \"\"\"\n",
    "        self.assertEqual(rotl(0b1010, 0), 0b1010)\n",
    "    \n",
    "    def test_rotl_all_ones(self):\n",
    "        \"\"\"Rotating a number with all bits set should remain unchanged.\"\"\"\n",
    "        self.assertEqual(rotl(0xFFFFFFFF, 5), 0xFFFFFFFF)\n",
    "\n",
    "# Run the tests\n",
    "suite = unittest.TestLoader().loadTestsFromTestCase(TestRotateLeft)\n",
    "unittest.TextTestRunner(verbosity=2).run(suite)\n"
   ]
  },
  {
   "cell_type": "markdown",
   "metadata": {},
   "source": [
    "### 2. **`rotr(x, n)`** \n",
    "The rotate right function shifts bits to the right by n positions. Bits that overflow on the right wrap around to the left.This ensures the integrity of data, unlike a right shift (>>), which discards shifted bits.\n",
    "\n",
    "##### Why This Approach?\n",
    "- Bitwise Shifting & Masking\n",
    "Python supports [bitwise operations](https://docs.python.org/3/library/stdtypes.html#bitwise-operations) for manipulating integers efficiently. Since Python integers are arbitrary precision, we use bitwise masking (& 0xFFFFFFFF) to limit the result to 32 bits, ensuring behavior similar to C-based implementations.\n",
    "\n",
    "- Handling Overflow Correctly\n",
    "Since a [right shift](https://docs.python.org/3/library/stdtypes.html#bitwise-operations) (`>>`) moves bits out of range, I needed to reintroduce the overflowed bits using a [left shift](https://en.wikipedia.org/wiki/Circular_shift) (`<<`) and a [bitwise](https://en.wikipedia.org/wiki/Bitwise_operation#OR) OR (`|`) to complete the rotation and maintain proper circular shifting.\n"
   ]
  },
  {
   "cell_type": "code",
   "execution_count": 554,
   "metadata": {},
   "outputs": [],
   "source": [
    "def rotr(x: int, n: int = 1) -> int:\n",
    "    \"\"\"\n",
    "    Rotates the bits of a 32-bit unsigned integer to the right by `n` positions.\n",
    "\n",
    "    Cryptographic Importance:\n",
    "    - Used in cryptographic hash functions (e.g., SHA-256) to introduce **diffusion**.\n",
    "    - Ensures **non-linearity** in bit transformations, improving security.\n",
    "    - Unlike bit shifts (`>>`), **rotations preserve all bits**, making them ideal for cryptographic use.\n",
    "\n",
    "    Parameters:\n",
    "        x (int): The 32-bit unsigned integer to rotate.\n",
    "        n (int): The number of positions to rotate (default is 1).\n",
    "\n",
    "    Returns:\n",
    "        int: The rotated 32-bit unsigned integer.\n",
    "\n",
    "    Notes:\n",
    "    - Ensures that `n` is within a valid range (`0-31`).\n",
    "    - Uses bitwise OR (`|`) to combine the right-shifted and left-shifted portions.\n",
    "    - Applies a **32-bit mask** (`0xFFFFFFFF`) to avoid overflow.\n",
    "    \"\"\"\n",
    "    n = n % 32  # Ensure rotation is within the valid range (0-31)\n",
    "    return ((x >> n) | (x << (32 - n))) & 0xFFFFFFFF  # Apply 32-bit masking\n"
   ]
  },
  {
   "cell_type": "markdown",
   "metadata": {},
   "source": [
    "##### Example Usage Of Rotr \n",
    "This example demonstrates rotating a number's bits to the right by 1 and 2 positions, including a case with a repeating bit pattern.\n"
   ]
  },
  {
   "cell_type": "code",
   "execution_count": 555,
   "metadata": {},
   "outputs": [
    {
     "name": "stdout",
     "output_type": "stream",
     "text": [
      "Original value (bin): 0b10000000000000000000000000000000\n",
      "Rotated right by 1 (bin): 0b1000000000000000000000000000000\n",
      "Original value (bin): 0b11001100110011001100110011001100\n",
      "Rotated right by 2 (bin): 0b110011001100110011001100110011\n"
     ]
    }
   ],
   "source": [
    "# Example usage of rotr\n",
    "x = 0b10000000000000000000000000000000  # Binary representation with only the most significant bit set\n",
    "rotated_value = rotr(x, 1)\n",
    "\n",
    "# Output the original and rotated values\n",
    "print(f\"Original value (bin): {bin(x)}\")\n",
    "print(f\"Rotated right by 1 (bin): {bin(rotated_value)}\")\n",
    "\n",
    "# Example with a pattern\n",
    "x_pattern = 0b11001100110011001100110011001100\n",
    "rotated_pattern = rotr(x_pattern, 2)\n",
    "print(f\"Original value (bin): {bin(x_pattern)}\") \n",
    "print(f\"Rotated right by 2 (bin): {bin(rotated_pattern)}\")\n"
   ]
  },
  {
   "cell_type": "markdown",
   "metadata": {},
   "source": [
    "### Test Case For Rotate Right Function\n",
    "##### The tests ensure the rotr function correctly rotates bits in a 32-bit unsigned integer:\n",
    "\n",
    "- Basic Rotation: Checks if a simple right rotation shifts bits correctly.\n",
    "- Wraparound Behavior: Verifies that overflowed bits wrap around to the left.\n",
    "- Zero Rotation: Ensures rotating by 0 positions returns the original value"
   ]
  },
  {
   "cell_type": "code",
   "execution_count": 556,
   "metadata": {},
   "outputs": [
    {
     "name": "stderr",
     "output_type": "stream",
     "text": [
      "test_ch_all_ones_selector (__main__.TestChooseFunction.test_ch_all_ones_selector)\n",
      "Test when the selector is all 1s (should return y). ... ok\n",
      "test_ch_all_zeros_selector (__main__.TestChooseFunction.test_ch_all_zeros_selector)\n",
      "Test when the selector is all 0s (should return z). ... ok\n",
      "test_ch_alternating_pattern (__main__.TestChooseFunction.test_ch_alternating_pattern)\n",
      "Test with alternating selector bits. ... ok\n",
      "test_ch_basic (__main__.TestChooseFunction.test_ch_basic)\n",
      "Test basic choose function with a mix of 1s and 0s in the selector. ... ok\n",
      "test_basic_words (__main__.TestHashFunction.test_basic_words)\n",
      "Test common words to ensure correct hash values. ... ok\n",
      "test_collisions (__main__.TestHashFunction.test_collisions)\n",
      "Ensure that different inputs do not produce the same hash (minimize collisions). ... ok\n",
      "test_empty_string (__main__.TestHashFunction.test_empty_string)\n",
      "Test hashing an empty string should return 0. ... ok\n",
      "test_long_string (__main__.TestHashFunction.test_long_string)\n",
      "Test a long string to check consistency and stability. ... ok\n",
      "test_single_character (__main__.TestHashFunction.test_single_character)\n",
      "Test hashing single-character strings. ... ok\n",
      "test_maj_all_ones (__main__.TestMajorityFunction.test_maj_all_ones)\n",
      "Test when all inputs are ones (result should be all ones). ... ok\n",
      "test_maj_all_zeros (__main__.TestMajorityFunction.test_maj_all_zeros)\n",
      "Test when all inputs are zeros (result should be all zeros). ... ok\n",
      "test_maj_basic (__main__.TestMajorityFunction.test_maj_basic)\n",
      "Test majority function with mixed input bits. ... ok\n",
      "test_maj_pattern_mixed_bits (__main__.TestMajorityFunction.test_maj_pattern_mixed_bits)\n",
      "Test a case with a mix of majority and minority bits. ... ok\n",
      "test_maj_two_majority_bits (__main__.TestMajorityFunction.test_maj_two_majority_bits)\n",
      "Test when two inputs agree on bits and the third differs. ... ok\n",
      "test_rotl_all_ones (__main__.TestRotateLeft.test_rotl_all_ones)\n",
      "Rotating a number with all bits set should remain unchanged. ... ok\n",
      "test_rotl_basic (__main__.TestRotateLeft.test_rotl_basic)\n",
      "Test case 1: Basic left rotation. ... ok\n",
      "test_rotl_wraparound (__main__.TestRotateLeft.test_rotl_wraparound)\n",
      "Test case 2: Check bit wraparound behavior. ... ok\n",
      "test_rotl_zero_rotation (__main__.TestRotateLeft.test_rotl_zero_rotation)\n",
      "Test case 3: Zero rotation (no changes). ... ok\n",
      "test_rotr_all_ones (__main__.TestRotateRight.test_rotr_all_ones)\n",
      "Rotating all 1s should remain unchanged. ... ok\n",
      "test_rotr_basic (__main__.TestRotateRight.test_rotr_basic)\n",
      "Test basic right rotation by 1 position. ... ok\n",
      "test_rotr_wraparound (__main__.TestRotateRight.test_rotr_wraparound)\n",
      "Test wrap-around where the least significant bit moves to the most significant bit. ... ok\n",
      "test_rotr_zero_rotation (__main__.TestRotateRight.test_rotr_zero_rotation)\n",
      "Test rotation by 0 positions (should return the original value). ... ok\n",
      "test_add_zero_padding (__main__.TestSHA256Padding.test_add_zero_padding)\n",
      "Test zero padding length is correct. ... ok\n",
      "test_append_one_bit (__main__.TestSHA256Padding.test_append_one_bit)\n",
      "Test appending the 1-bit to the message. ... ok\n",
      "test_append_original_length (__main__.TestSHA256Padding.test_append_original_length)\n",
      "Ensure the correct 64-bit length is appended. ... ok\n",
      "test_compute_original_bit_length (__main__.TestSHA256Padding.test_compute_original_bit_length)\n",
      "Check if the function correctly calculates bit length. ... ok\n",
      "test_extract_padding (__main__.TestSHA256Padding.test_extract_padding)\n",
      "Check if padding extraction works correctly. ... ok\n",
      "test_read_file (__main__.TestSHA256Padding.test_read_file)\n",
      "Ensure the file is read correctly. ... ok\n",
      "\n",
      "----------------------------------------------------------------------\n",
      "Ran 28 tests in 0.047s\n",
      "\n",
      "OK\n"
     ]
    },
    {
     "data": {
      "text/plain": [
       "<unittest.main.TestProgram at 0x119405f50>"
      ]
     },
     "execution_count": 556,
     "metadata": {},
     "output_type": "execute_result"
    }
   ],
   "source": [
    "class TestRotateRight(unittest.TestCase):\n",
    "\n",
    "    def test_rotr_basic(self):\n",
    "        \"\"\"Test basic right rotation by 1 position.\"\"\"\n",
    "        self.assertEqual(rotr(0b1000, 1), 0b0100)\n",
    "\n",
    "    def test_rotr_wraparound(self):\n",
    "        \"\"\"Test wrap-around where the least significant bit moves to the most significant bit.\"\"\"\n",
    "        self.assertEqual(rotr(0b00000000000000000000000000000001, 1), \n",
    "                         0b10000000000000000000000000000000)\n",
    "\n",
    "    def test_rotr_zero_rotation(self):\n",
    "        \"\"\"Test rotation by 0 positions (should return the original value).\"\"\"\n",
    "        self.assertEqual(rotr(0b1010, 0), 0b1010)\n",
    "        \n",
    "    def test_rotr_all_ones(self):\n",
    "        \"\"\"Rotating all 1s should remain unchanged.\"\"\"\n",
    "        self.assertEqual(rotr(0xFFFFFFFF, 10), 0xFFFFFFFF)\n",
    "\n",
    "unittest.main(argv=[''], verbosity=2, exit=False)\n"
   ]
  },
  {
   "cell_type": "markdown",
   "metadata": {},
   "source": [
    "\n",
    "## 3. `ch(x, y, z)`  \n",
    "The choose function (`ch`) is commonly used in cryptographic hashing (SHA-256). It selects bits from `y` or `z` based on `x`:  \n",
    "\n",
    "- **If `x` has a `1`**, take the bit from `y`.  \n",
    "- **If `x` has a `0`**, take the bit from `z`.  \n",
    "\n",
    "### Why This Approach?  \n",
    "\n",
    "- Cryptographic Reference\n",
    "  The `ch` function follows the definition given in [FIPS PUB 180-4](https://csrc.nist.gov/publications/detail/fips/180/4/final), which specifies its use in secure hashing algorithms like SHA-256.  \n",
    "\n",
    "- **Why is the choose function (ch) important for SHA-256?**\n",
    "In SHA-256, `ch` helps introduce non-linearity by selecting bits from different registers based on the value of another register. This prevents the hash function from being predictable and helps maintain avalanche effect, where small input changes cause large output differences.\n",
    "\n",
    "- Bitwise Selection Logic \n",
    "  In Python, bitwise operations allowed me to efficiently select values based on a mask. The function uses [bitwise AND/OR](https://docs.python.org/3/library/stdtypes.html#bitwise-operations) to implement this logic:  \n",
    "\n",
    "  - `x & y`: Selects bits from `y` where `x` is `1`.  \n",
    "  - `~x & z`: Selects bits from `z` where `x` is `0`.  \n",
    "  - Combining them with `|` (**bitwise OR**) ensures the correct selection of bits.  \n",
    "\n"
   ]
  },
  {
   "cell_type": "code",
   "execution_count": 557,
   "metadata": {},
   "outputs": [],
   "source": [
    "def ch(x: int, y: int, z: int) -> int:\n",
    "    \"\"\"\n",
    "    Chooses bits from y where x has 1s, and from z where x has 0s.\n",
    "\n",
    "    Cryptographic Importance:\n",
    "    - Introduces **non-linearity**, which is crucial for cryptographic security.\n",
    "    - Used in SHA-256 to make hash computations **unpredictable** by selecting bits dynamically.\n",
    "    - Helps in creating an **avalanche effect**, where small input changes drastically alter the output.\n",
    "\n",
    "    Parameters:\n",
    "        x (int): Selector bits.\n",
    "        y (int): Bits selected when x is 1.\n",
    "        z (int): Bits selected when x is 0.\n",
    "\n",
    "    Returns:\n",
    "        int: The resulting integer after selection.\n",
    "    \"\"\"\n",
    "    return (x & y) | (~x & z) & 0xFFFFFFFF  # Perform bitwise selection"
   ]
  },
  {
   "cell_type": "markdown",
   "metadata": {},
   "source": [
    "\n",
    "### Example Usage Of CH\n",
    "This example demonstrates the ch function, which selects bits from y where x has 1s and from z where x has 0s, producing a result based on the selector bits in x.\n"
   ]
  },
  {
   "cell_type": "code",
   "execution_count": 558,
   "metadata": {},
   "outputs": [
    {
     "name": "stdout",
     "output_type": "stream",
     "text": [
      "Selector (x):   0b10101010\n",
      "Option 1 (y):   0b11111111\n",
      "Option 2 (z):   0b0\n",
      "Chosen result:  0b10101010\n"
     ]
    }
   ],
   "source": [
    "# Example usage of ch\n",
    "x = 0b10101010  # Selector bits\n",
    "y = 0b11111111  # Bits to choose when x has 1s\n",
    "z = 0b00000000  # Bits to choose when x has 0s\n",
    "\n",
    "chosen_bits = ch(x, y, z)\n",
    "\n",
    "# Output the result of the choose function\n",
    "print(f\"Selector (x):   {bin(x)}\") \n",
    "print(f\"Option 1 (y):   {bin(y)}\")\n",
    "print(f\"Option 2 (z):   {bin(z)}\")\n",
    "print(f\"Chosen result:  {bin(chosen_bits)}\")"
   ]
  },
  {
   "cell_type": "markdown",
   "metadata": {},
   "source": [
    "### Test Case for CH Function\n",
    "These tests ensure that the ch function correctly selects bits from y or z based on the values in x, following the logic used in cryptographic hashing algorithms like SHA-256.\n",
    "\n",
    "- Basic Selection: Verifies that bits from y are selected when x has 1s and bits from z are selected when x has 0s.\n",
    "- All 1s in Selector (x): Ensures that when x is all 1s, the output is exactly y.\n",
    "- All 0s in Selector (x): Ensures that when x is all 0s, the output is exactly z.\n",
    "- Alternating Bit Pattern: Tests mixed bit patterns to check if the function properly selects bits from both y and z."
   ]
  },
  {
   "cell_type": "code",
   "execution_count": 559,
   "metadata": {},
   "outputs": [
    {
     "name": "stderr",
     "output_type": "stream",
     "text": [
      "test_ch_all_ones_selector (__main__.TestChooseFunction.test_ch_all_ones_selector)\n",
      "Test when the selector is all 1s (should return y). ... ok\n",
      "test_ch_all_zeros_selector (__main__.TestChooseFunction.test_ch_all_zeros_selector)\n",
      "Test when the selector is all 0s (should return z). ... ok\n",
      "test_ch_alternating_pattern (__main__.TestChooseFunction.test_ch_alternating_pattern)\n",
      "Test with alternating selector bits. ... ok\n",
      "test_ch_basic (__main__.TestChooseFunction.test_ch_basic)\n",
      "Test basic choose function with a mix of 1s and 0s in the selector. ... ok\n",
      "test_basic_words (__main__.TestHashFunction.test_basic_words)\n",
      "Test common words to ensure correct hash values. ... ok\n",
      "test_collisions (__main__.TestHashFunction.test_collisions)\n",
      "Ensure that different inputs do not produce the same hash (minimize collisions). ... ok\n",
      "test_empty_string (__main__.TestHashFunction.test_empty_string)\n",
      "Test hashing an empty string should return 0. ... ok\n",
      "test_long_string (__main__.TestHashFunction.test_long_string)\n",
      "Test a long string to check consistency and stability. ... ok\n",
      "test_single_character (__main__.TestHashFunction.test_single_character)\n",
      "Test hashing single-character strings. ... ok\n",
      "test_maj_all_ones (__main__.TestMajorityFunction.test_maj_all_ones)\n",
      "Test when all inputs are ones (result should be all ones). ... ok\n",
      "test_maj_all_zeros (__main__.TestMajorityFunction.test_maj_all_zeros)\n",
      "Test when all inputs are zeros (result should be all zeros). ... ok\n",
      "test_maj_basic (__main__.TestMajorityFunction.test_maj_basic)\n",
      "Test majority function with mixed input bits. ... ok\n",
      "test_maj_pattern_mixed_bits (__main__.TestMajorityFunction.test_maj_pattern_mixed_bits)\n",
      "Test a case with a mix of majority and minority bits. ... ok\n",
      "test_maj_two_majority_bits (__main__.TestMajorityFunction.test_maj_two_majority_bits)\n",
      "Test when two inputs agree on bits and the third differs. ... ok\n",
      "test_rotl_all_ones (__main__.TestRotateLeft.test_rotl_all_ones)\n",
      "Rotating a number with all bits set should remain unchanged. ... ok\n",
      "test_rotl_basic (__main__.TestRotateLeft.test_rotl_basic)\n",
      "Test case 1: Basic left rotation. ... ok\n",
      "test_rotl_wraparound (__main__.TestRotateLeft.test_rotl_wraparound)\n",
      "Test case 2: Check bit wraparound behavior. ... ok\n",
      "test_rotl_zero_rotation (__main__.TestRotateLeft.test_rotl_zero_rotation)\n",
      "Test case 3: Zero rotation (no changes). ... ok\n",
      "test_rotr_all_ones (__main__.TestRotateRight.test_rotr_all_ones)\n",
      "Rotating all 1s should remain unchanged. ... ok\n",
      "test_rotr_basic (__main__.TestRotateRight.test_rotr_basic)\n",
      "Test basic right rotation by 1 position. ... ok\n",
      "test_rotr_wraparound (__main__.TestRotateRight.test_rotr_wraparound)\n",
      "Test wrap-around where the least significant bit moves to the most significant bit. ... ok\n",
      "test_rotr_zero_rotation (__main__.TestRotateRight.test_rotr_zero_rotation)\n",
      "Test rotation by 0 positions (should return the original value). ... ok\n",
      "test_add_zero_padding (__main__.TestSHA256Padding.test_add_zero_padding)\n",
      "Test zero padding length is correct. ... ok\n",
      "test_append_one_bit (__main__.TestSHA256Padding.test_append_one_bit)\n",
      "Test appending the 1-bit to the message. ... ok\n",
      "test_append_original_length (__main__.TestSHA256Padding.test_append_original_length)\n",
      "Ensure the correct 64-bit length is appended. ... ok\n",
      "test_compute_original_bit_length (__main__.TestSHA256Padding.test_compute_original_bit_length)\n",
      "Check if the function correctly calculates bit length. ... ok\n",
      "test_extract_padding (__main__.TestSHA256Padding.test_extract_padding)\n",
      "Check if padding extraction works correctly. ... ok\n",
      "test_read_file (__main__.TestSHA256Padding.test_read_file)\n",
      "Ensure the file is read correctly. ... ok\n",
      "\n",
      "----------------------------------------------------------------------\n",
      "Ran 28 tests in 0.010s\n",
      "\n",
      "OK\n"
     ]
    },
    {
     "data": {
      "text/plain": [
       "<unittest.main.TestProgram at 0x119406050>"
      ]
     },
     "execution_count": 559,
     "metadata": {},
     "output_type": "execute_result"
    }
   ],
   "source": [
    "class TestChooseFunction(unittest.TestCase):\n",
    "\n",
    "    def test_ch_basic(self):\n",
    "        \"\"\"Test basic choose function with a mix of 1s and 0s in the selector.\"\"\"\n",
    "        self.assertEqual(ch(0b10101010, 0b11111111, 0b00000000), 0b10101010)\n",
    "\n",
    "    def test_ch_all_ones_selector(self):\n",
    "        \"\"\"Test when the selector is all 1s (should return y).\"\"\"\n",
    "        self.assertEqual(ch(0b11111111, 0b10101010, 0b01010101), 0b10101010)\n",
    "\n",
    "    def test_ch_all_zeros_selector(self):\n",
    "        \"\"\"Test when the selector is all 0s (should return z).\"\"\"\n",
    "        self.assertEqual(ch(0b00000000, 0b10101010, 0b01010101), 0b01010101)\n",
    "\n",
    "    def test_ch_alternating_pattern(self):\n",
    "        \"\"\"Test with alternating selector bits.\"\"\"\n",
    "        self.assertEqual(ch(0b11001100, 0b11110000, 0b00001111), 0b11000011)\n",
    "\n",
    "unittest.main(argv=[''], verbosity=2, exit=False)\n"
   ]
  },
  {
   "cell_type": "markdown",
   "metadata": {},
   "source": [
    "\n",
    "### 4. **`maj(x, y, z)`** \n",
    "The majority function (`maj`) is widely used in cryptography and error correction:\n",
    "\n",
    "- If at least two of x, y, z have a 1 at a bit position, the result is 1.\n",
    "- Otherwise, the result is 0.\n",
    "\n",
    "### **Why This Approach?**  \n",
    "\n",
    "- Cryptographic Reference\n",
    "The **majority (`maj`) function** is defined in [FIPS PUB 180-4]((https://csrc.nist.gov/publications/detail/fips/180/4/final)), which specifies its use in **SHA-256** and other secure hashing functions. It is a crucial component in cryptographic operations where bitwise majority logic helps strengthen message integrity.  \n",
    "\n",
    "- Bitwise Logic in Python  \n",
    "Python provides built-in [bitwise operations]((https://docs.python.org/3/library/stdtypes.html#bitwise-operations)) for efficient data manipulation. The `maj` function determines the majority bit at each position by computing:  \n",
    "- `x & y`: Keeps bits set where **both `x` and `y` are 1**.  \n",
    "- `x & z`: Keeps bits set where **both `x` and `z` are 1**.  \n",
    "- `y & z`: Keeps bits set where **both `y` and `z` are 1**.  \n",
    "\n",
    "By combining these with [`|` (bitwise OR)](https://docs.python.org/3/library/stdtypes.html#bitwise-or), the function ensures that **at least two of the three inputs contribute to a `1` at each bit position**, accurately computing the majority bitwise.  \n",
    "\n"
   ]
  },
  {
   "cell_type": "code",
   "execution_count": 560,
   "metadata": {},
   "outputs": [],
   "source": [
    "def maj(x: int, y: int, z: int) -> int:\n",
    "    \"\"\"\n",
    "    Computes the majority function at each bit position.\n",
    "\n",
    "    Cryptographic Importance:\n",
    "    - Used in SHA-256 to reinforce **message integrity**.\n",
    "    - Helps ensure that the final output bit is **stable and resistant** to small input changes.\n",
    "    - Strengthens the security of cryptographic operations by making the bitwise logic more robust.\n",
    "\n",
    "    Parameters:\n",
    "        x (int): First input.\n",
    "        y (int): Second input.\n",
    "        z (int): Third input.\n",
    "\n",
    "    Returns:\n",
    "        int: The majority result.\n",
    "    \"\"\"\n",
    "    return (x & y) | (x & z) | (y & z) & 0xFFFFFFFF  # Compute majority bitwise\n"
   ]
  },
  {
   "cell_type": "markdown",
   "metadata": {},
   "source": [
    "### Example Usage Of MAJ\n",
    "This example demonstrates the maj function, which outputs a 1 in each bit position where at least two of the inputs have a 1, showing how the majority vote works at the bit level."
   ]
  },
  {
   "cell_type": "code",
   "execution_count": 561,
   "metadata": {},
   "outputs": [
    {
     "name": "stdout",
     "output_type": "stream",
     "text": [
      "Input 1 (x):    0b10101010\n",
      "Input 2 (y):    0b11110000\n",
      "Input 3 (z):    0b1111\n",
      "Majority result: 0b10101010\n"
     ]
    }
   ],
   "source": [
    "# Example usage of maj\n",
    "x = 0b10101010  # Input 1\n",
    "y = 0b11110000  # Input 2\n",
    "z = 0b00001111  # Input 3\n",
    "\n",
    "majority_bits = maj(x, y, z)\n",
    "\n",
    "# Output the result of the majority function\n",
    "print(f\"Input 1 (x):    {bin(x)}\") \n",
    "print(f\"Input 2 (y):    {bin(y)}\")\n",
    "print(f\"Input 3 (z):    {bin(z)}\")\n",
    "print(f\"Majority result: {bin(majority_bits)}\")\n"
   ]
  },
  {
   "cell_type": "markdown",
   "metadata": {},
   "source": [
    "### - Test Case For MAJ\n",
    "\n",
    "The following test cases validate that the **`maj` function** correctly computes the majority bit for each position in a **32-bit unsigned integer**.\n",
    "\n",
    "- Basic Majority Calculation: Ensures that when given a mix of `1s` and `0s`, the function correctly outputs the majority bits.\n",
    "- All Zeros Input: Verifies that if **all inputs** are `0b00000000`, the function correctly returns `0b00000000`.\n",
    "- All Ones Input: Ensures that when all inputs are **`1s`**, the function returns `0b11111111`.\n",
    "- Two Majority Bits Agreement: Tests a scenario where **two inputs share majority bits while the third differs**, ensuring that the majority logic still holds.\n",
    "- Mixed Bit Patterns: Checks that the function correctly computes majority bits when the inputs contain alternating patterns of `1s` and `0s`.  \n"
   ]
  },
  {
   "cell_type": "code",
   "execution_count": 562,
   "metadata": {},
   "outputs": [
    {
     "name": "stderr",
     "output_type": "stream",
     "text": [
      "test_ch_all_ones_selector (__main__.TestChooseFunction.test_ch_all_ones_selector)\n",
      "Test when the selector is all 1s (should return y). ... ok\n",
      "test_ch_all_zeros_selector (__main__.TestChooseFunction.test_ch_all_zeros_selector)\n",
      "Test when the selector is all 0s (should return z). ... ok\n",
      "test_ch_alternating_pattern (__main__.TestChooseFunction.test_ch_alternating_pattern)\n",
      "Test with alternating selector bits. ... ok\n",
      "test_ch_basic (__main__.TestChooseFunction.test_ch_basic)\n",
      "Test basic choose function with a mix of 1s and 0s in the selector. ... ok\n",
      "test_basic_words (__main__.TestHashFunction.test_basic_words)\n",
      "Test common words to ensure correct hash values. ... ok\n",
      "test_collisions (__main__.TestHashFunction.test_collisions)\n",
      "Ensure that different inputs do not produce the same hash (minimize collisions). ... ok\n",
      "test_empty_string (__main__.TestHashFunction.test_empty_string)\n",
      "Test hashing an empty string should return 0. ... ok\n",
      "test_long_string (__main__.TestHashFunction.test_long_string)\n",
      "Test a long string to check consistency and stability. ... ok\n",
      "test_single_character (__main__.TestHashFunction.test_single_character)\n",
      "Test hashing single-character strings. ... ok\n",
      "test_maj_all_ones (__main__.TestMajorityFunction.test_maj_all_ones)\n",
      "Test when all inputs are ones (result should be all ones). ... ok\n",
      "test_maj_all_zeros (__main__.TestMajorityFunction.test_maj_all_zeros)\n",
      "Test when all inputs are zeros (result should be all zeros). ... ok\n",
      "test_maj_basic (__main__.TestMajorityFunction.test_maj_basic)\n",
      "Test majority function with mixed input bits. ... ok\n",
      "test_maj_pattern_mixed_bits (__main__.TestMajorityFunction.test_maj_pattern_mixed_bits)\n",
      "Test a case with a mix of majority and minority bits. ... ok\n",
      "test_maj_two_majority_bits (__main__.TestMajorityFunction.test_maj_two_majority_bits)\n",
      "Test when two inputs agree on bits and the third differs. ... ok\n",
      "test_rotl_all_ones (__main__.TestRotateLeft.test_rotl_all_ones)\n",
      "Rotating a number with all bits set should remain unchanged. ... ok\n",
      "test_rotl_basic (__main__.TestRotateLeft.test_rotl_basic)\n",
      "Test case 1: Basic left rotation. ... ok\n",
      "test_rotl_wraparound (__main__.TestRotateLeft.test_rotl_wraparound)\n",
      "Test case 2: Check bit wraparound behavior. ... ok\n",
      "test_rotl_zero_rotation (__main__.TestRotateLeft.test_rotl_zero_rotation)\n",
      "Test case 3: Zero rotation (no changes). ... ok\n",
      "test_rotr_all_ones (__main__.TestRotateRight.test_rotr_all_ones)\n",
      "Rotating all 1s should remain unchanged. ... ok\n",
      "test_rotr_basic (__main__.TestRotateRight.test_rotr_basic)\n",
      "Test basic right rotation by 1 position. ... ok\n",
      "test_rotr_wraparound (__main__.TestRotateRight.test_rotr_wraparound)\n",
      "Test wrap-around where the least significant bit moves to the most significant bit. ... ok\n",
      "test_rotr_zero_rotation (__main__.TestRotateRight.test_rotr_zero_rotation)\n",
      "Test rotation by 0 positions (should return the original value). ... ok\n",
      "test_add_zero_padding (__main__.TestSHA256Padding.test_add_zero_padding)\n",
      "Test zero padding length is correct. ... ok\n",
      "test_append_one_bit (__main__.TestSHA256Padding.test_append_one_bit)\n",
      "Test appending the 1-bit to the message. ... ok\n",
      "test_append_original_length (__main__.TestSHA256Padding.test_append_original_length)\n",
      "Ensure the correct 64-bit length is appended. ... ok\n",
      "test_compute_original_bit_length (__main__.TestSHA256Padding.test_compute_original_bit_length)\n",
      "Check if the function correctly calculates bit length. ... ok\n",
      "test_extract_padding (__main__.TestSHA256Padding.test_extract_padding)\n",
      "Check if padding extraction works correctly. ... ok\n",
      "test_read_file (__main__.TestSHA256Padding.test_read_file)\n",
      "Ensure the file is read correctly. ... ok\n",
      "\n",
      "----------------------------------------------------------------------\n",
      "Ran 28 tests in 0.010s\n",
      "\n",
      "OK\n"
     ]
    },
    {
     "data": {
      "text/plain": [
       "<unittest.main.TestProgram at 0x119405c50>"
      ]
     },
     "execution_count": 562,
     "metadata": {},
     "output_type": "execute_result"
    }
   ],
   "source": [
    "class TestMajorityFunction(unittest.TestCase):\n",
    "\n",
    "    def test_maj_basic(self):\n",
    "        \"\"\"Test majority function with mixed input bits.\"\"\"\n",
    "        self.assertEqual(maj(0b10101010, 0b11110000, 0b00001111), 0b10101010)\n",
    "\n",
    "    def test_maj_all_zeros(self):\n",
    "        \"\"\"Test when all inputs are zeros (result should be all zeros).\"\"\"\n",
    "        self.assertEqual(maj(0b00000000, 0b00000000, 0b00000000), 0b00000000)\n",
    "\n",
    "    def test_maj_all_ones(self):\n",
    "        \"\"\"Test when all inputs are ones (result should be all ones).\"\"\"\n",
    "        self.assertEqual(maj(0b11111111, 0b11111111, 0b11111111), 0b11111111)\n",
    "\n",
    "    def test_maj_two_majority_bits(self):\n",
    "        \"\"\"Test when two inputs agree on bits and the third differs.\"\"\"\n",
    "        self.assertEqual(maj(0b10101010, 0b10101010, 0b01010101), 0b10101010)\n",
    "\n",
    "    def test_maj_pattern_mixed_bits(self):\n",
    "        \"\"\"Test a case with a mix of majority and minority bits.\"\"\"\n",
    "        self.assertEqual(maj(0b11001100, 0b11110000, 0b00001111), 0b11001100)\n",
    "\n",
    "unittest.main(argv=[''], verbosity=2, exit=False)\n"
   ]
  },
  {
   "cell_type": "markdown",
   "metadata": {},
   "source": [
    "### 🔍 Key Takeaways\n",
    "\n",
    "- **Bitwise Rotation (ROTL & ROTR):**  \n",
    "  I learned how to implement left (`rotl`) and right (`rotr`) bitwise rotations in Python. These operations are crucial in cryptographic algorithms like SHA-256 because they preserve all bits during transformation, unlike standard bit shifts which discard bits. I used bit masking (`& 0xFFFFFFFF`) to simulate 32-bit unsigned integers, ensuring consistent behavior.\n",
    "\n",
    "- **Choose Function (`ch`):**  \n",
    "  The `ch` function selects bits from two inputs (`y` and `z`) based on a selector mask (`x`). It’s a conditional bitwise operation that introduces **non-linearity** into hashing algorithms, helping ensure the output cannot be predicted from the input. This is a key concept in cryptographic design.\n",
    "\n",
    "- **Majority Function (`maj`):**  \n",
    "  The `maj` function outputs a 1 in positions where at least two of the three inputs (`x`, `y`, `z`) have a 1. This helps maintain stability and integrity in cryptographic outputs and is another standard operation in SHA-256. It reinforces consistent bit patterns even when some inputs vary slightly.\n",
    "\n",
    "- **Bitwise Operations in Python:**  \n",
    "  Python’s support for bitwise logic (`&`, `|`, `~`, `^`, `<<`, `>>`) allowed me to implement these low-level operations with high-level clarity. I also saw how to emulate fixed-width integers using masks to mimic C-style 32-bit operations.\n",
    "\n",
    "- **Importance in Cryptography:**  \n",
    "  All four functions—`rotl`, `rotr`, `ch`, and `maj`—are fundamental building blocks used in hashing, encryption, and digital signature algorithms. Understanding how these work deepened my grasp of how secure systems are built from simple logical operations.\n",
    "\n",
    "- **Testing & Edge Cases:**  \n",
    "  Through `unittest`, I validated edge cases like all-1 inputs, zero rotations, and wrap-around behavior. This was a great way to ensure robustness and helped solidify my confidence in the logic of each function.\n"
   ]
  },
  {
   "cell_type": "markdown",
   "metadata": {},
   "source": [
    "---\n",
    "\n",
    "## Task Two: Hash Functions\n",
    "\n",
    "### Overview\n",
    "This task explores hash functions, which are widely used in cryptography, data integrity, and efficient data lookup.\n",
    "\n",
    "- Convert a given C hash function to Python.\n",
    "- Test the Python implementation with different inputs.\n",
    "- Explain why the numbers 31 and 101 were chosen in the function.\n",
    "\n",
    "A hash function takes an input eg.a string and converts it into a fixed-size integer value. It should be:\n",
    "\n",
    "- Efficient → Quickly compute a unique hash for an input.\n",
    "- Deterministic → The same input always produces the same hash.\n",
    "- Uniform → Hash values should be well distributed to minimize collisions.\n",
    "\n",
    "### Why This Approach?\n",
    "\n",
    "This task adapts a classic C-style hash function into Python to demonstrate how low-level algorithms can be translated while preserving logic and efficiency.\n",
    "\n",
    "- **Practical Relevance**: The function mirrors a real-world hash technique used in C, originally from *Kernighan and Ritchie*'s approach. This allows exploration of how weighted sums and modular arithmetic apply to hash table implementations.\n",
    "\n",
    "- **Mathematical Robustness**: Using a **prime multiplier (31)** helps reduce hash collisions by improving the distribution of hash values. Prime numbers are widely used in hashing for their ability to break patterns in input data ([Effective Java – Item 11: HashCode](https://books.google.com/books/about/Effective_Java.html?id=ka2VUBqHiWkC)).\n",
    "\n",
    "- **Bounded Range via Modulo**: The hash value is reduced using `% 101`, a prime modulus. This ensures a predictable output range for better memory use and efficient table indexing ([Princeton Hashing Functions](https://introcs.cs.princeton.edu/java/61data/Hash.java.html)).\n",
    "\n",
    "- **Cross-Language Clarity**: The Python translation preserves the logic and structure of the original C implementation, using `ord(char)` to access ASCII values and applying the same formula. This promotes an understanding of how hashing logic works across different languages.\n",
    "\n",
    "This approach balances **simplicity**, **efficiency**, and **portability**, making it well-suited for learning and lightweight applications — while demonstrating how small design decisions, like choosing a prime number, can improve performance and reduce collisions.\n",
    "\n",
    "---\n",
    "\n",
    "### Understanding the C Function and Translation Process\n",
    "The provided C function computes a hash value for a given string using a weighted sum approach and a modulo operation. The goal is to convert this function into Python while maintaining its logic and efficiency\n",
    "\n",
    "\n"
   ]
  },
  {
   "cell_type": "markdown",
   "metadata": {},
   "source": [
    "```\n",
    "The original C function:\n",
    "\n",
    "unsigned hash(char *s) {\n",
    "    unsigned hashval;\n",
    "    for (hashval = 0; *s != '\\0'; s++)\n",
    "        hashval = *s + 31 * hashval;\n",
    "    return hashval % 101;\n",
    "}\n",
    "```"
   ]
  },
  {
   "cell_type": "markdown",
   "metadata": {},
   "source": [
    "### Implementation Details\n",
    "### Translating to Python\n",
    "Python does not use pointers, so i needed to adapt this function accordingly:\n",
    "\n",
    "Key Adaptations:\n",
    "- Use ord(char) to get the ASCII value (since char *s in C directly accesses ASCII).\n",
    "- Iterate through the string using for char in s: instead of pointer arithmetic (*s != '\\0').\n",
    "- Keep integer calculations the same (31 * hashval + ASCII).\n",
    "- Apply modulo 101 at the end to match the behavior."
   ]
  },
  {
   "cell_type": "code",
   "execution_count": 563,
   "metadata": {},
   "outputs": [],
   "source": [
    "def hash_function(s: str) -> int:\n",
    "    \"\"\"\n",
    "    Implements the given C hash function in Python.\n",
    "\n",
    "    Parameters:\n",
    "        s (str): Input string.\n",
    "\n",
    "    Returns:\n",
    "        int: Hash value mod 101.\n",
    "    \"\"\"\n",
    "    hashval = 0  # Initialize hash value\n",
    "    for char in s:\n",
    "        hashval = ord(char) + 31 * hashval  # Apply weighted sum with ASCII value\n",
    "    return hashval % 101  # Use modulo to limit range\n"
   ]
  },
  {
   "cell_type": "markdown",
   "metadata": {},
   "source": [
    "##### Test Cases for the Hash Function\n",
    "To ensure the function works as expected, im going to test:\n",
    "\n",
    "- Basic inputs → Common words like \"hello\", \"world\", and \"python\".\n",
    "- Edge cases → Empty strings, single characters, and long inputs.\n",
    "- Consistency → The same input should always produce the same hash.\n",
    "- Collision checks → Different inputs should ideally result in different hash values."
   ]
  },
  {
   "cell_type": "code",
   "execution_count": 646,
   "metadata": {},
   "outputs": [
    {
     "name": "stderr",
     "output_type": "stream",
     "text": [
      "test_basic_words (__main__.TestHashFunction.test_basic_words)\n",
      "Test common words to ensure correct hash values. ... ok\n",
      "test_collisions (__main__.TestHashFunction.test_collisions)\n",
      "Ensure that different inputs do not produce the same hash (minimize collisions). ... ok\n",
      "test_empty_string (__main__.TestHashFunction.test_empty_string)\n",
      "Test hashing an empty string should return 0. ... ok\n",
      "test_long_string (__main__.TestHashFunction.test_long_string)\n",
      "Test a long string to check consistency and stability. ... ok\n",
      "test_single_character (__main__.TestHashFunction.test_single_character)\n",
      "Test hashing single-character strings. ... ok\n",
      "\n",
      "----------------------------------------------------------------------\n",
      "Ran 5 tests in 0.022s\n",
      "\n",
      "OK\n"
     ]
    },
    {
     "data": {
      "text/plain": [
       "<unittest.runner.TextTestResult run=5 errors=0 failures=0>"
      ]
     },
     "execution_count": 646,
     "metadata": {},
     "output_type": "execute_result"
    }
   ],
   "source": [
    "class TestHashFunction(unittest.TestCase):\n",
    "\n",
    "    def test_basic_words(self):\n",
    "        \"\"\"Test common words to ensure correct hash values.\"\"\"\n",
    "        self.assertEqual(hash_function(\"hello\"), 17)\n",
    "        self.assertEqual(hash_function(\"world\"), 34)\n",
    "        self.assertEqual(hash_function(\"python\"), 91)\n",
    "        self.assertEqual(hash_function(\"hash\"), 15)\n",
    "\n",
    "    def test_empty_string(self):\n",
    "        \"\"\"Test hashing an empty string should return 0.\"\"\"\n",
    "        self.assertEqual(hash_function(\"\"), 0)\n",
    "\n",
    "    def test_single_character(self):\n",
    "        \"\"\"Test hashing single-character strings.\"\"\"\n",
    "        self.assertEqual(hash_function(\"a\"), ord(\"a\") % 101)\n",
    "        self.assertEqual(hash_function(\"b\"), ord(\"b\") % 101)\n",
    "\n",
    "    def test_long_string(self):\n",
    "        \"\"\"Test a long string to check consistency and stability.\"\"\"\n",
    "        self.assertEqual(hash_function(\"thisisalongstring\"), hash_function(\"thisisalongstring\"))\n",
    "\n",
    "    def test_collisions(self):\n",
    "        \"\"\"Ensure that different inputs do not produce the same hash (minimize collisions).\"\"\"\n",
    "        self.assertNotEqual(hash_function(\"apple\"), hash_function(\"orange\"))\n",
    "\n",
    "# Run the tests\n",
    "suite = unittest.TestLoader().loadTestsFromTestCase(TestHashFunction)\n",
    "unittest.TextTestRunner(verbosity=2).run(suite)\n"
   ]
  },
  {
   "cell_type": "markdown",
   "metadata": {},
   "source": [
    "### Why **31**?\n",
    "\n",
    "The number **31** is used as a multiplier in the hash function, meaning each character’s ASCII value is multiplied by **31** before being added to the total hash value. The reason for this choice primarily lies in its **mathematical properties** and **computational efficiency**.\n",
    "\n",
    "One of the most significant reasons for using **31** is that it is a **prime number**. Prime numbers are particularly useful in hashing because they help **reduce collisions**—situations where different inputs produce the same hash value. If a non-prime number were used, certain input patterns could create **predictable cycles**, leading to **clustering in the hash table**. By using a prime number, the **distribution of hash values is more uniform**, making the function more effective.  \n",
    "📌 **Reference:** [Oracle Docs - Effective Java (Item 11: HashCode)](https://books.google.com/books?id=ka2VUBqHiWkC&pg=PA47&redir_esc=y#v=onepage&q&f=false) \n",
    "\n",
    "Another key reason is **computational efficiency**. In lower-level programming languages like **C**, multiplication by **31** can be optimized using **bitwise operations**, making it faster. Instead of performing direct multiplication, the expression:\n",
    "\n",
    "```python\n",
    "31 * hashval\n",
    "```\n",
    "\n",
    "can be rewritten using bitwise shifting:\n",
    "\n",
    "```python\n",
    "(hashval << 5) - hashval\n",
    "```\n",
    "\n",
    "This transformation works because shifting a value **left by 5 places** (`hashval << 5`) is equivalent to **multiplying it by 32**, and subtracting `hashval` effectively results in multiplying by **31**. This optimization allows compilers to replace multiplication with faster bitwise operations, improving performance.   \n",
    "\n",
    "Although this optimization is **not necessary in Python**—since Python handles integer multiplication efficiently the use of **31** remains beneficial for maintaining consistency with C implementations and ensuring predictable results across different programming languages.   \n",
    "\n",
    "Another reason **31** is useful is that it **spreads hash values more evenly** across the available range. When hashing a sequence of characters, using a small multiplier could lead to clustered hash values, meaning that similar inputs produce similar outputs. This lack of randomness increases the risk of hash collisions. Multiplying by **31** ensures that hash values are spread across a larger space, making collisions **less frequent**.  \n",
    "📌 **Reference:** [Python Docs - Hashing](https://docs.python.org/3/glossary.html#term-hash-function)  \n",
    "\n",
    "\n",
    "\n"
   ]
  },
  {
   "cell_type": "markdown",
   "metadata": {},
   "source": [
    "### Why 101?\n",
    "\n",
    "The number **101** is used as the modulus in the hash function to ensure that the final hash values remain within a **bounded range** while maintaining an **even distribution**.\n",
    "\n",
    "#### **Prime Number Properties**\n",
    "101 is a **prime number**, which is crucial in hashing because it helps **reduce collisions**. Prime numbers minimize patterns in the distribution of hash values, making it less likely for different inputs to produce the same hash.\n",
    "\n",
    "If a **non-prime number** were used, common divisors could lead to clustering, where hash values concentrate in specific areas of the range, reducing efficiency.\n",
    "\n",
    "#### **Efficient Distribution & Uniformity**\n",
    "Using 101 ensures that the hash values are evenly spread across **0 to 100**, which is ideal for creating hash tables with limited buckets. A poorly chosen modulo value could cause an*uneven spread, leading to performance bottlenecks.  \n",
    "📌 **Reference:** [Princeton - Hashing Functions](https://algs4.cs.princeton.edu/34hash/)\n",
    "\n",
    "#### **Avoiding Common Factors**\n",
    "Numbers that share **common factors** with character sets or common word patterns may cause frequent collisions. Since **101 has no small divisors**, it avoids repeated patterns in the resulting hash values, ensuring a more random-like distribution.\n",
    "\n",
    "#### **Modulo Keeps Hash Values Small**\n",
    "Without the modulo operation (`% 101`), the hash value could **grow indefinitely**, making storage and computation inefficient. By keeping values within a fixed range, it improves lookup speed in hash tables and reduces memory usage.  \n",
    "📌 **Reference:** [Python Docs - Modulo Operator](https://docs.python.org/3/library/stdtypes.html#numeric-types-int-float-complex)\n",
    "\n",
    "---\n"
   ]
  },
  {
   "cell_type": "markdown",
   "metadata": {},
   "source": [
    "### 🔍 Key Takeaways\n",
    "\n",
    "- **💡 Classic Hashing Algorithm**  \n",
    "  This task implemented a traditional hash function based on Kernighan & Ritchie’s method. The formula `hash = char + 31 * hash` is simple, efficient, and widely used in early C-based systems.\n",
    "\n",
    "- **🔢 Role of Prime Numbers in Hashing**\n",
    "  - `31` (Multiplier): A small prime number that helps reduce collisions and is computationally efficient (`(x << 5) - x`).\n",
    "  - `101` (Modulus): A prime number that ensures even distribution of hash values and avoids clustering.\n",
    "\n",
    "- **🧠 Modular Arithmetic**  \n",
    "  Using `% 101` ensures the hash stays within a small range, making it ideal for hash tables and memory-efficient storage.\n",
    "\n",
    "- **⚙️ Cross-Language Translation**  \n",
    "  Converting a C-based hash function to Python highlighted core concepts like bit manipulation, ASCII encoding, and loop-driven algorithms.\n",
    "\n",
    "- **🌍 Real-World Applications**  \n",
    "  These types of hash functions are used in:\n",
    "  - Symbol tables\n",
    "  - Basic compilers/interpreters\n",
    "  - Lightweight lookup structures  \n",
    "  *(Note: Not secure enough for cryptographic use.)*\n",
    "\n",
    "- **🧪 Testing & Accuracy**  \n",
    "  Multiple tests confirmed:\n",
    "  - Determinism (same input → same output)\n",
    "  - Differentiation between similar inputs\n",
    "  - Consistency with expected values\n",
    "\n",
    "  ---\n"
   ]
  },
  {
   "cell_type": "markdown",
   "metadata": {},
   "source": [
    "## Task Three: SHA-256 Padding\n",
    "\n",
    "### Overview\n",
    "\n",
    "SHA-256 is a widely used cryptographic hash function that ensures data integrity and security. A crucial step in this hashing process is **message padding**, where the input data is adjusted to fit the SHA-256 block size of 512 bits before being processed.\n",
    "\n",
    "The [SHA-256 padding process](https://csrc.nist.gov/publications/detail/fips/180/4/final) follows a specific format:\n",
    "\n",
    "- Append a single `1` bit (`0x80`) to the message.  \n",
    "- Pad with `0`s until the message length is 64 bits short of a multiple of 512.  \n",
    "- Append the original message length as a 64-bit big-endian integer.  \n",
    "\n",
    "This ensures that the input is correctly aligned for the SHA-256 compression function.\n",
    "\n",
    "### Understanding the Padding Process\n",
    "The padding process ensures that messages fit neatly into 512-bit blocks, which is critical for cryptographic security.\n",
    "\n",
    "- Appending the 1 Bit\n",
    "The first step is to mark the end of the original message by adding a **single `1` bit (`0x80`)**, ensuring that padding is unambiguous.\n",
    "\n",
    "- Zero Padding to 448 Bits\n",
    "The next step is to **add enough `0`s** so that the total length (including the appended `1` bit) is 448 bits mod 512. This aligns the message length correctly for SHA-256 processing.\n",
    "\n",
    "- Appending the Length in Bits\n",
    "The final step is to append the 64-bit representation of the original message length, ensuring that SHA-256 correctly interprets the data.\n",
    "\n",
    "This method follows the exact structure described in the [NIST SHA-2 specification](https://nvlpubs.nist.gov/nistpubs/FIPS/NIST.FIPS.180-4.pdf), ensuring compliance with cryptographic standards.\n"
   ]
  },
  {
   "cell_type": "markdown",
   "metadata": {},
   "source": [
    "### Why This Approach\n",
    "\n",
    "My implementation takes a modular, step-by-step approach for several important reasons:\n",
    "\n",
    "1. **Cryptographic Standard Compliance**: By implementing each step exactly as specified in FIPS PUB 180-4, the solution ensures compatibility with established cryptographic systems and maintains the security properties of SHA-256.\n",
    "\n",
    "2. **Byte-Level Operations for Efficiency**: While SHA-256 conceptually operates on bits, working at the byte level in Python provides better performance and readability. Using operations like `data + b'\\x80'` and big-endian integer conversion leverages Python's efficient byte handling.\n",
    "\n",
    "3. **Function Decomposition for Clarity**: Breaking the process into six discrete functions (read file, compute length, append bits, etc.) makes the code:\n",
    "   * More maintainable (each function does one thing well)\n",
    "   * Easier to test (each step can be verified independently)\n",
    "   * More educational (the padding process is clearly illustrated)\n",
    "\n",
    "4. **Security-Focused Design**: The separate functions for each padding step highlight the security features of SHA-256, particularly how the algorithm prevents length extension attacks through its structured padding scheme.\n",
    "\n",
    "5. **Error Prevention**: The modular approach reduces the risk of implementation errors that could compromise cryptographic integrity, which is especially important in security-critical code.\n",
    "\n",
    "This approach balances adherence to cryptographic standards with code quality and educational value, ensuring both correctness and clarity.\n",
    "\n",
    "---"
   ]
  },
  {
   "cell_type": "markdown",
   "metadata": {},
   "source": [
    "### Implementation Details\n",
    "- **Step 1: Read the File Contents**\n",
    "    - I will start by opening the file and reading its contents as raw bytes"
   ]
  },
  {
   "cell_type": "code",
   "execution_count": 565,
   "metadata": {},
   "outputs": [],
   "source": [
    "def read_file(file_path: str):\n",
    "    \"\"\"\n",
    "    Reads the contents of a file as bytes.\n",
    "\n",
    "    Parameters:\n",
    "        file_path (str): Path to the input file.\n",
    "\n",
    "    Returns:\n",
    "        bytes: File content in bytes.\n",
    "    \"\"\"\n",
    "    with open(file_path, \"rb\") as file:\n",
    "        return file.read()\n"
   ]
  },
  {
   "cell_type": "markdown",
   "metadata": {},
   "source": [
    "- **Step 2: Compute the Original Bit Length**\n",
    "    - SHA-256 requires the original message length in bits, so i will compute this from the byte length."
   ]
  },
  {
   "cell_type": "code",
   "execution_count": 566,
   "metadata": {},
   "outputs": [],
   "source": [
    "def compute_original_bit_length(data: bytes):\n",
    "    \"\"\"\n",
    "    Computes the original message length in bits.\n",
    "\n",
    "    Parameters:\n",
    "        data (bytes): The input file content.\n",
    "\n",
    "    Returns:\n",
    "        int: Original length in bits.\n",
    "    \"\"\"\n",
    "    return len(data) * 8\n"
   ]
  },
  {
   "cell_type": "markdown",
   "metadata": {},
   "source": [
    "- **Step 3: Append the 1 Bit (0x80 in Hex)**\n",
    "    - The SHA-256 specification states that a single 1 bit must be appended, which is represented as 0x80 in hex."
   ]
  },
  {
   "cell_type": "code",
   "execution_count": 567,
   "metadata": {},
   "outputs": [],
   "source": [
    "def append_one_bit(data: bytes):\n",
    "    \"\"\"\n",
    "    Appends the '1' bit (0x80 in hex) to mark the end of the original message.\n",
    "\n",
    "    Why?\n",
    "    - The SHA-256 standard requires every message to end with a '1' bit.\n",
    "    - Ensures padding is correctly recognized by the SHA-256 function.\n",
    "\n",
    "    Parameters:\n",
    "        data (bytes): The input file content.\n",
    "\n",
    "    Returns:\n",
    "        bytes: Data with the 1-bit appended.\n",
    "    \"\"\"\n",
    "    return data + b'\\x80'\n"
   ]
  },
  {
   "cell_type": "markdown",
   "metadata": {},
   "source": [
    "- **Step 4: Add Zero Padding**\n",
    "    - SHA-256 requires the total length (including the 1 bit) to be 448 mod 512. We compute how many zero bytes need to be added."
   ]
  },
  {
   "cell_type": "code",
   "execution_count": 568,
   "metadata": {},
   "outputs": [],
   "source": [
    "def add_zero_padding(padded_data: bytes):\n",
    "    \"\"\"\n",
    "    Computes and appends the required zero padding.\n",
    "\n",
    "    Parameters:\n",
    "        padded_data (bytes): Data with the appended 1-bit.\n",
    "\n",
    "    Returns:\n",
    "        bytes: Data with zero padding.\n",
    "    \"\"\"\n",
    "    zero_padding_length = (56 - (len(padded_data) % 64)) % 64\n",
    "    return padded_data + (b'\\x00' * zero_padding_length)\n"
   ]
  },
  {
   "cell_type": "markdown",
   "metadata": {},
   "source": [
    "- **Step 5: Append the Original Length as a 64-bit Big-Endian Integer**\n",
    "    - The final step is appending the original bit length, stored in big-endian format."
   ]
  },
  {
   "cell_type": "code",
   "execution_count": 569,
   "metadata": {},
   "outputs": [],
   "source": [
    "def append_original_length(padded_data: bytes, original_bit_length: int):\n",
    "    \"\"\"\n",
    "    Appends the original length as a 64-bit big-endian integer.\n",
    "\n",
    "    Parameters:\n",
    "        padded_data (bytes): Data with zero padding.\n",
    "        original_bit_length (int): Original message length in bits.\n",
    "\n",
    "    Returns:\n",
    "        bytes: Fully padded data.\n",
    "    \"\"\"\n",
    "    return padded_data + original_bit_length.to_bytes(8, 'big')\n"
   ]
  },
  {
   "cell_type": "markdown",
   "metadata": {},
   "source": [
    "- **Step 6: Extract the Padding**   \n",
    "    - Now, I will extract and return only the padding bytes."
   ]
  },
  {
   "cell_type": "code",
   "execution_count": 570,
   "metadata": {},
   "outputs": [],
   "source": [
    "def extract_padding(original_data: bytes, padded_data: bytes):\n",
    "    \"\"\"\n",
    "    Extracts only the padding portion from the fully padded message.\n",
    "\n",
    "    Parameters:\n",
    "        original_data (bytes): The original file content.\n",
    "        padded_data (bytes): The fully padded message.\n",
    "\n",
    "    Returns:\n",
    "        str: The SHA-256 padding as a hex string.\n",
    "    \"\"\"\n",
    "    padding_bytes = padded_data[len(original_data):]\n",
    "    return \" \".join(f\"{byte:02X}\" for byte in padding_bytes)\n"
   ]
  },
  {
   "cell_type": "markdown",
   "metadata": {},
   "source": [
    "### Test Cases for SHA-256 Padding\n",
    "##### To verify correctness, I will test:\n",
    "\n",
    "- Basic input → Padding for \"abc\" as per SHA-256 specs.\n",
    "- Edge cases → Empty strings, single characters, and near-block-size messages.\n",
    "- Padding structure → Ensuring 0x80, zero padding, and length field are correctly placed.\n",
    "- Consistency → Same input should always produce the same padding.\n",
    "These tests confirm compliance with the SHA-256 specification."
   ]
  },
  {
   "cell_type": "code",
   "execution_count": 571,
   "metadata": {},
   "outputs": [
    {
     "name": "stderr",
     "output_type": "stream",
     "text": [
      "test_ch_all_ones_selector (__main__.TestChooseFunction.test_ch_all_ones_selector)\n",
      "Test when the selector is all 1s (should return y). ... ok\n",
      "test_ch_all_zeros_selector (__main__.TestChooseFunction.test_ch_all_zeros_selector)\n",
      "Test when the selector is all 0s (should return z). ... ok\n",
      "test_ch_alternating_pattern (__main__.TestChooseFunction.test_ch_alternating_pattern)\n",
      "Test with alternating selector bits. ... ok\n",
      "test_ch_basic (__main__.TestChooseFunction.test_ch_basic)\n",
      "Test basic choose function with a mix of 1s and 0s in the selector. ... ok\n",
      "test_basic_words (__main__.TestHashFunction.test_basic_words)\n",
      "Test common words to ensure correct hash values. ... ok\n",
      "test_collisions (__main__.TestHashFunction.test_collisions)\n",
      "Ensure that different inputs do not produce the same hash (minimize collisions). ... ok\n",
      "test_empty_string (__main__.TestHashFunction.test_empty_string)\n",
      "Test hashing an empty string should return 0. ... ok\n",
      "test_long_string (__main__.TestHashFunction.test_long_string)\n",
      "Test a long string to check consistency and stability. ... ok\n",
      "test_single_character (__main__.TestHashFunction.test_single_character)\n",
      "Test hashing single-character strings. ... ok\n",
      "test_maj_all_ones (__main__.TestMajorityFunction.test_maj_all_ones)\n",
      "Test when all inputs are ones (result should be all ones). ... ok\n",
      "test_maj_all_zeros (__main__.TestMajorityFunction.test_maj_all_zeros)\n",
      "Test when all inputs are zeros (result should be all zeros). ... ok\n",
      "test_maj_basic (__main__.TestMajorityFunction.test_maj_basic)\n",
      "Test majority function with mixed input bits. ... ok\n",
      "test_maj_pattern_mixed_bits (__main__.TestMajorityFunction.test_maj_pattern_mixed_bits)\n",
      "Test a case with a mix of majority and minority bits. ... ok\n",
      "test_maj_two_majority_bits (__main__.TestMajorityFunction.test_maj_two_majority_bits)\n",
      "Test when two inputs agree on bits and the third differs. ... ok\n",
      "test_rotl_all_ones (__main__.TestRotateLeft.test_rotl_all_ones)\n",
      "Rotating a number with all bits set should remain unchanged. ... ok\n",
      "test_rotl_basic (__main__.TestRotateLeft.test_rotl_basic)\n",
      "Test case 1: Basic left rotation. ... ok\n",
      "test_rotl_wraparound (__main__.TestRotateLeft.test_rotl_wraparound)\n",
      "Test case 2: Check bit wraparound behavior. ... ok\n",
      "test_rotl_zero_rotation (__main__.TestRotateLeft.test_rotl_zero_rotation)\n",
      "Test case 3: Zero rotation (no changes). ... ok\n",
      "test_rotr_all_ones (__main__.TestRotateRight.test_rotr_all_ones)\n",
      "Rotating all 1s should remain unchanged. ... ok\n",
      "test_rotr_basic (__main__.TestRotateRight.test_rotr_basic)\n",
      "Test basic right rotation by 1 position. ... ok\n",
      "test_rotr_wraparound (__main__.TestRotateRight.test_rotr_wraparound)\n",
      "Test wrap-around where the least significant bit moves to the most significant bit. ... ok\n",
      "test_rotr_zero_rotation (__main__.TestRotateRight.test_rotr_zero_rotation)\n",
      "Test rotation by 0 positions (should return the original value). ... ok\n",
      "test_add_zero_padding (__main__.TestSHA256Padding.test_add_zero_padding)\n",
      "Test zero padding length is correct. ... ok\n",
      "test_append_one_bit (__main__.TestSHA256Padding.test_append_one_bit)\n",
      "Test appending the 1-bit to the message. ... ok\n",
      "test_append_original_length (__main__.TestSHA256Padding.test_append_original_length)\n",
      "Ensure the correct 64-bit length is appended. ... ok\n",
      "test_compute_original_bit_length (__main__.TestSHA256Padding.test_compute_original_bit_length)\n",
      "Check if the function correctly calculates bit length. ... ok\n",
      "test_extract_padding (__main__.TestSHA256Padding.test_extract_padding)\n",
      "Check if padding extraction works correctly. ... ok\n",
      "test_read_file (__main__.TestSHA256Padding.test_read_file)\n",
      "Ensure the file is read correctly. ... ok\n",
      "\n",
      "----------------------------------------------------------------------\n",
      "Ran 28 tests in 0.010s\n",
      "\n",
      "OK\n"
     ]
    },
    {
     "data": {
      "text/plain": [
       "<unittest.main.TestProgram at 0x119404450>"
      ]
     },
     "execution_count": 571,
     "metadata": {},
     "output_type": "execute_result"
    }
   ],
   "source": [
    "# Testing SHA-256 Padding Functions\n",
    "\n",
    "class TestSHA256Padding(unittest.TestCase):\n",
    "\n",
    "    def test_read_file(self):\n",
    "        \"\"\"Ensure the file is read correctly.\"\"\"\n",
    "        with open(\"test.txt\", \"wb\") as f:\n",
    "            f.write(b\"abc\")\n",
    "        self.assertEqual(read_file(\"test.txt\"), b\"abc\")\n",
    "\n",
    "    def test_compute_original_bit_length(self):\n",
    "        \"\"\"Check if the function correctly calculates bit length.\"\"\"\n",
    "        self.assertEqual(compute_original_bit_length(b\"abc\"), 24)\n",
    "\n",
    "    def test_append_one_bit(self):\n",
    "        \"\"\"Test appending the 1-bit to the message.\"\"\"\n",
    "        self.assertEqual(append_one_bit(b\"abc\"), b\"abc\\x80\")\n",
    "\n",
    "    def test_add_zero_padding(self):\n",
    "        \"\"\"Test zero padding length is correct.\"\"\"\n",
    "        padded_data = append_one_bit(b\"abc\")\n",
    "        zero_padded_data = add_zero_padding(padded_data)\n",
    "        self.assertEqual(len(zero_padded_data) % 64, 56)\n",
    "\n",
    "    def test_append_original_length(self):\n",
    "        \"\"\"Ensure the correct 64-bit length is appended.\"\"\"\n",
    "        padded_data = append_one_bit(b\"abc\")\n",
    "        padded_data = add_zero_padding(padded_data)\n",
    "        final_data = append_original_length(padded_data, 24)\n",
    "        self.assertEqual(final_data[-8:], (24).to_bytes(8, 'big'))\n",
    "\n",
    "    def test_extract_padding(self):\n",
    "        \"\"\"Check if padding extraction works correctly.\"\"\"\n",
    "        original_data = b\"abc\"\n",
    "        padded_data = append_one_bit(original_data)\n",
    "        padded_data = add_zero_padding(padded_data)\n",
    "        padded_data = append_original_length(padded_data, 24)\n",
    "        padding_hex = extract_padding(original_data, padded_data)\n",
    "        expected_padding = \"80 00 00 00 00 00 00 00 00 00 00 00 00 00 00 00 00 00 00 00 00 00 00 00 00 00 00 00 00 00 00 00 00 00 00 00 00 00 00 00 00 00 00 00 00 00 00 00 00 00 00 00 00 00 00 00 00 00 00 00 18\"\n",
    "        self.assertEqual(padding_hex, expected_padding)\n",
    "\n",
    "# Run tests\n",
    "unittest.main(argv=[''], verbosity=2, exit=False)\n"
   ]
  },
  {
   "cell_type": "markdown",
   "metadata": {},
   "source": [
    "---\n",
    "\n",
    "### 🔍 Key Takeaways\n",
    "\n",
    "- This implementation **follows the NIST SHA-2 standard** ([FIPS PUB 180-4](https://csrc.nist.gov/publications/detail/fips/180/4/final)), ensuring that the padding logic matches what is required by real-world cryptographic systems.\n",
    "  \n",
    "- Padding is not arbitrary — it’s a **precisely structured format** that includes appending a `1` bit (0x80), followed by zero padding, and finally the message length in 64-bit big-endian form. This is **critical to prevent length extension attacks**, as discussed in [Crypto StackExchange](https://crypto.stackexchange.com/questions/39680/why-do-hash-functions-need-padding).\n",
    "\n",
    "- I learned that **bit-level operations** (like computing the exact padding to reach 448 bits modulo 512) require accuracy. Even small miscalculations could cause cryptographic algorithms to fail verification.\n",
    "\n",
    "- Through testing, I confirmed that padding behaves **predictably for edge cases** like empty strings, long messages, and exact block boundaries. This test-driven approach mirrors best practices in cryptographic software libraries like OpenSSL.\n",
    "\n",
    "- Understanding padding at this level helped me appreciate how **hash functions maintain input integrity**. As explained in the [Wikipedia SHA-2 article](https://en.wikipedia.org/wiki/SHA-2#Padding), padding ensures that each message is **uniquely and securely processed**, no matter its original length.\n",
    "\n"
   ]
  },
  {
   "cell_type": "markdown",
   "metadata": {},
   "source": [
    "---\n",
    "\n",
    "## Task 4: Prime Numbers\n",
    "### Overview\n",
    "Prime numbers play a crucial role in **number theory** and **cryptography**. Every integer greater than 1 can be uniquely expressed as a product of prime numbers, a property known as the [Fundamental Theorem of Arithmetic](https://en.wikipedia.org/wiki/Fundamental_theorem_of_arithmetic). \n",
    "\n",
    "In this task, I will compute the first 100 prime numbers using two well-known and efficient algorithms:\n",
    "\n",
    "- **Trial Division Algorithm** – A basic but reliable method for checking primality.\n",
    "- **Sieve of Eratosthenes** – A highly efficient algorithm for generating multiple prime numbers.\n",
    "\n",
    "Both algorithms serve different purposes. The **Trial Division Algorithm** is commonly used in **cryptographic key validation** and **individual prime verification**, as described in [MIT's *Introduction to Algorithms*](https://mitpress.mit.edu/9780262046305/introduction-to-algorithms/). Meanwhile, the **Sieve of Eratosthenes** is widely adopted in **computational mathematics** for efficiently finding large sets of prime numbers, a technique recommended by [Harvard’s Computational Number Theory Research](https://scholar.harvard.edu/computational-number-theory)."
   ]
  },
  {
   "cell_type": "markdown",
   "metadata": {},
   "source": [
    "### Algorithm 1: Trial Division\n",
    "\n",
    "#### How It Works\n",
    "The **Trial Division Algorithm**, often introduced in **elementary number theory**, determines whether a given number \\( n \\) is prime by testing its divisibility from **2 up to \\( \\sqrt{n} \\)**. If no divisors are found within this range, the number is considered **prime**. This method is foundational in **computer science** and is frequently used in **primality tests**, as described in [Princeton's Algorithm Design Guide](https://algs4.cs.princeton.edu/home/).\n",
    "\n",
    "#### Steps:\n",
    "1. If \\( n \\leq 1 \\), return **False** (since 1 is not prime).\n",
    "2. Check divisibility by 2:\n",
    "   - If \\( n \\) is even and greater than 2, return **False**.\n",
    "3. Check odd divisors up to \\( \\sqrt{n} \\):\n",
    "   - If \\( n \\) is divisible by any of these numbers, return **False**.\n",
    "4. If no divisors are found, return **True** (the number is prime).\n",
    "\n",
    "### Why This Approach?\n",
    "- **Simple and easy to understand**, making it ideal for **small-scale prime checks**.\n",
    "- **Efficient for individual numbers**, but as highlighted in **Harvard’s research on computational number theory**, it becomes **inefficient for large numbers**.\n",
    "- **Optimized by checking only odd numbers** after 2, significantly reducing the number of divisions."
   ]
  },
  {
   "cell_type": "markdown",
   "metadata": {},
   "source": [
    "#### Trial Division: A straightforward method that checks divisibility up to √n."
   ]
  },
  {
   "cell_type": "code",
   "execution_count": 572,
   "metadata": {},
   "outputs": [],
   "source": [
    "# Check if a number is prime using the Trial Division method\n",
    "def is_prime_trial(n):\n",
    "    \"\"\"\n",
    "    Returns True if 'n' is prime using the Trial Division method.\n",
    "    \n",
    "    Args:\n",
    "        n (int): The number to check for primality.\n",
    "        \n",
    "    Returns:\n",
    "        bool: True if 'n' is a prime number, otherwise False.\n",
    "    \"\"\"\n",
    "    # Check if the number is less than or equal to 1\n",
    "    if n <= 1:\n",
    "        return False\n",
    "    \n",
    "    # Check if the number is 2 (the only even prime number)\n",
    "    if n == 2:\n",
    "        return True\n",
    "    \n",
    "    # Check if the number is even and greater than 2\n",
    "    if n % 2 == 0:\n",
    "        return False  # Exclude even numbers\n",
    "\n",
    "    # Check divisibility for odd numbers up to the square root of n\n",
    "    for i in range(3, int(math.sqrt(n)) + 1, 2):\n",
    "        if n % i == 0:\n",
    "            return False  # If divisible, n is not a prime number\n",
    "\n",
    "    return True  # If no divisors are found, n is a prime number\n"
   ]
  },
  {
   "cell_type": "markdown",
   "metadata": {},
   "source": [
    "#### Generate the first 'n' prime numbers using Trial Division"
   ]
  },
  {
   "cell_type": "code",
   "execution_count": 573,
   "metadata": {},
   "outputs": [],
   "source": [
    "# Generate the first 'n' prime numbers using Trial Division\n",
    "def first_n_primes_trial(n):\n",
    "    \"\"\"\n",
    "    Generates the first 'n' prime numbers.\n",
    "    \n",
    "    Args:\n",
    "        n (int): The number of prime numbers to generate.\n",
    "        \n",
    "    Returns:\n",
    "        List[int]: A list containing the first 'n' prime numbers.\n",
    "    \"\"\"\n",
    "    primes = []  # List to store prime numbers\n",
    "    num = 2  # Start checking for primes from the number 2\n",
    "\n",
    "    # Continue finding primes until we have 'n' prime numbers\n",
    "    while len(primes) < n:\n",
    "        if is_prime_trial(num):  # Check if the current number is prime\n",
    "            primes.append(num)  # If prime, add to the list\n",
    "        num += 1  # Move to the next number\n",
    "\n",
    "    return primes  # Return the list of prime numbers"
   ]
  },
  {
   "cell_type": "markdown",
   "metadata": {},
   "source": [
    "Print the list of prime numbers in a tabular format"
   ]
  },
  {
   "cell_type": "code",
   "execution_count": 574,
   "metadata": {},
   "outputs": [
    {
     "name": "stdout",
     "output_type": "stream",
     "text": [
      "2\t3\t5\t7\t11\t13\t17\t19\t23\t29\n",
      "31\t37\t41\t43\t47\t53\t59\t61\t67\t71\n",
      "73\t79\t83\t89\t97\t101\t103\t107\t109\t113\n",
      "127\t131\t137\t139\t149\t151\t157\t163\t167\t173\n",
      "179\t181\t191\t193\t197\t199\t211\t223\t227\t229\n",
      "233\t239\t241\t251\t257\t263\t269\t271\t277\t281\n",
      "283\t293\t307\t311\t313\t317\t331\t337\t347\t349\n",
      "353\t359\t367\t373\t379\t383\t389\t397\t401\t409\n",
      "419\t421\t431\t433\t439\t443\t449\t457\t461\t463\n",
      "467\t479\t487\t491\t499\t503\t509\t521\t523\t541\n"
     ]
    }
   ],
   "source": [
    "# Print the list of prime numbers in a tabular format\n",
    "def print_primes_in_table(primes, columns=10):\n",
    "    \"\"\"\n",
    "    Print the list of prime numbers in a tabular format.\n",
    "    \n",
    "    Args:\n",
    "        primes (List[int]): The list of prime numbers.\n",
    "        columns (int): Number of columns to format the output.\n",
    "    \"\"\"\n",
    "    for i in range(0, len(primes), columns):\n",
    "        print(\"\\t\".join(map(str, primes[i:i + columns])))\n",
    "\n",
    "# Example: Find the first 100 prime numbers and print them in a table\n",
    "primes_trial = first_n_primes_trial(100)\n",
    "print_primes_in_table(primes_trial)"
   ]
  },
  {
   "cell_type": "markdown",
   "metadata": {},
   "source": [
    "### Efficiency\n",
    "\n",
    "- **Time Complexity**: \\( O(n) \\) per number.\n",
    "- **Space Complexity**: \\( O(1) \\) (only a few variables stored).\n",
    "- **Best Use Case**: Ideal for checking if a single number is prime but inefficient for generating large sets of prime numbers.\n"
   ]
  },
  {
   "cell_type": "markdown",
   "metadata": {},
   "source": [
    "### Algorithm 2: Sieve of Eratosthenes  \n",
    "\n",
    "#### How It Works  \n",
    "The **Sieve of Eratosthenes**, first described by the ancient Greek mathematician **Eratosthenes of Cyrene**, is one of the most efficient algorithms for finding all **prime numbers** up to a given limit \\( n \\). Instead of checking each number individually, it systematically marks multiples of each **prime** as **non-prime** (composite), significantly reducing redundant calculations. This method is widely used in **computational mathematics** and is highly recommended in [Harvard's Computational Number Theory Research](https://scholar.harvard.edu/computational-number-theory).  \n",
    "\n",
    "#### Steps  \n",
    "1. **Initialize a List**  \n",
    "   - Create a list of numbers from **2 to n**, assuming all are **prime**.  \n",
    "2. **Eliminate Multiples**  \n",
    "   - Start with **2**, the smallest prime, and mark all multiples of **2** as **non-prime**.  \n",
    "3. **Move to the Next Prime**  \n",
    "   - Find the next unmarked number (which is a prime) and mark all its multiples as **non-prime**.  \n",
    "4. **Repeat Until Reaching \\( \\sqrt{n} \\)**  \n",
    "   - Continue this process up to **\\( \\sqrt{n} \\)**, since any composite number must have a factor ≤ \\( \\sqrt{n} \\).  \n",
    "5. **Extract Remaining Primes**  \n",
    "   - The numbers that remain unmarked are **prime numbers**.  \n",
    "\n",
    "#### Why This Approach?  \n",
    "- **Extremely efficient** for generating multiple prime numbers, making it one of the fastest known **prime-finding algorithms**.  \n",
    "- **Eliminates redundant calculations** by marking multiples early, reducing unnecessary divisions, as outlined in [MIT's Introduction to Algorithms](https://mitpress.mit.edu/9780262046305/introduction-to-algorithms/).  \n",
    "- **Much faster** than **trial division**, particularly for **large \\( n \\)**, as proven in [Princeton's Algorithm Design Guide](https://algs4.cs.princeton.edu/home/).  \n",
    "- **Widely used in number theory** and **cryptographic applications**, particularly in generating large prime numbers for **RSA encryption**, as detailed in [NIST’s Cryptographic Standards](https://csrc.nist.gov/publications/fips).  \n",
    "\n",
    "This algorithm provides an **optimal way to compute prime numbers in bulk**, making it a preferred choice for many **mathematical and cryptographic computations**. It is significantly **more efficient than trial division** and is considered a fundamental method in **algorithm design** and **theoretical computer science**.\n"
   ]
  },
  {
   "cell_type": "markdown",
   "metadata": {},
   "source": [
    "In this part of the Sieve of Eratosthenes algorithm, I initialized a boolean list primes where each index represents a number. The value True indicates that the number is considered a prime candidate. I then mark the multiples of each prime as False (non-prime)."
   ]
  },
  {
   "cell_type": "code",
   "execution_count": 575,
   "metadata": {},
   "outputs": [],
   "source": [
    "def sieve_of_eratosthenes(limit):\n",
    "    \"\"\"\n",
    "    Generate prime numbers up to a given limit using the Sieve of Eratosthenes.\n",
    "    \n",
    "    Args:\n",
    "        limit (int): The upper boundary of the range to look for primes.\n",
    "        \n",
    "    Returns:\n",
    "        List[bool]: Boolean list where True indicates a prime number.\n",
    "    \"\"\"\n",
    "    # Initialize a list of boolean values representing primality of each index\n",
    "    primes = [True] * (limit + 1)\n",
    "    primes[0] = primes[1] = False  # 0 and 1 are not primes\n",
    "    \n",
    "    # Start with the first prime number, which is 2\n",
    "    for num in range(2, int(limit**0.5) + 1):\n",
    "        if primes[num]:  # If the number is still marked as prime\n",
    "            # Mark all multiples of the current prime number as non-prime\n",
    "            for multiple in range(num * num, limit + 1, num):\n",
    "                primes[multiple] = False  # Mark multiples as non-prime\n",
    "\n",
    "    return primes  # Return the boolean list indicating primality\n"
   ]
  },
  {
   "cell_type": "markdown",
   "metadata": {},
   "source": [
    "In this part, I take the boolean list generated in Part 1 and extract the indices that remain True, which correspond to prime numbers. I then return the first n prime numbers from this list. This step ensures that iI get the exact number of prime numbers required, leveraging the efficiently generated list from the Sieve of Eratosthenes algorithm."
   ]
  },
  {
   "cell_type": "code",
   "execution_count": 576,
   "metadata": {},
   "outputs": [],
   "source": [
    "# Function to generate the first n prime numbers\n",
    "def first_n_primes_sieve(n):\n",
    "    \"\"\"\n",
    "    Find the first n prime numbers using the Sieve of Eratosthenes.\n",
    "    \n",
    "    Args:\n",
    "        n (int): The number of prime numbers to generate.\n",
    "        \n",
    "    Returns:\n",
    "        List[int]: List of the first n prime numbers.\n",
    "    \"\"\"\n",
    "    limit = 10**3  # Set a limit that is large enough to get 100 primes\n",
    "    primes = sieve_of_eratosthenes(limit)  # Get the boolean prime list\n",
    "    # Extract prime numbers from the boolean list\n",
    "    prime_numbers = [i for i, is_prime in enumerate(primes) if is_prime]\n",
    "    return prime_numbers[:n]  # Return the first n prime numbers\n"
   ]
  },
  {
   "cell_type": "markdown",
   "metadata": {},
   "source": [
    "Print the list of prime numbers in a tabular format"
   ]
  },
  {
   "cell_type": "code",
   "execution_count": 577,
   "metadata": {},
   "outputs": [
    {
     "name": "stdout",
     "output_type": "stream",
     "text": [
      "2\t3\t5\t7\t11\t13\t17\t19\t23\t29\n",
      "31\t37\t41\t43\t47\t53\t59\t61\t67\t71\n",
      "73\t79\t83\t89\t97\t101\t103\t107\t109\t113\n",
      "127\t131\t137\t139\t149\t151\t157\t163\t167\t173\n",
      "179\t181\t191\t193\t197\t199\t211\t223\t227\t229\n",
      "233\t239\t241\t251\t257\t263\t269\t271\t277\t281\n",
      "283\t293\t307\t311\t313\t317\t331\t337\t347\t349\n",
      "353\t359\t367\t373\t379\t383\t389\t397\t401\t409\n",
      "419\t421\t431\t433\t439\t443\t449\t457\t461\t463\n",
      "467\t479\t487\t491\t499\t503\t509\t521\t523\t541\n"
     ]
    }
   ],
   "source": [
    "def print_primes_in_columns(primes, columns=10):\n",
    "    \"\"\"\n",
    "    Print the list of prime numbers in a tabular format.\n",
    "    \n",
    "    Args:\n",
    "        primes (List[int]): The list of prime numbers.\n",
    "        columns (int): Number of columns to format the output.\n",
    "    \"\"\"\n",
    "    for i in range(0, len(primes), columns):\n",
    "        print(\"\\t\".join(map(str, primes[i:i + columns])))\n",
    "\n",
    "# Example: Find the first 100 prime numbers and print them in columns\n",
    "primes_sieve = first_n_primes_sieve(100)\n",
    "print_primes_in_columns(primes_sieve)"
   ]
  },
  {
   "cell_type": "markdown",
   "metadata": {},
   "source": [
    "#### Sieve of Eratosthenes Efficiency\n",
    "- **Time Complexity**: \\( O(n \\log \\log n) \\), significantly faster than trial division.\n",
    "- **Space Complexity**: \\( O(n) \\) (stores an array for marking numbers).\n",
    "- **Best Use Case**: Generating large lists of prime numbers quickly.\n",
    "\n",
    "---"
   ]
  },
  {
   "cell_type": "markdown",
   "metadata": {},
   "source": [
    "## Comparing the Two Algorithms\n",
    "\n",
    "| **Feature**               | **Trial Division**                                      | **Sieve of Eratosthenes**                         |\n",
    "|---------------------------|---------------------------------------------------------|--------------------------------------------------|\n",
    "| **Best Use Case**          | Checking if a single number is prime                   | Finding multiple primes efficiently              |\n",
    "| **Time Complexity**        | \\( O(n) \\) per number                                  | \\( O(n \\log \\log n) \\)                          |\n",
    "| **Space Complexity**       | \\( O(1) \\)                                             | \\( O(n) \\)                                      |\n",
    "| **Speed**                  | Slow for large \\( n \\)                                 | Very fast for large \\( n \\)                     |\n",
    "| **Practical Use**          | Cryptography, primality tests                         | Generating prime numbers in bulk                 |\n",
    "\n",
    "---\n",
    "\n",
    "### 🔍 Key Takeaways \n",
    "\n",
    "- Prime numbers are critical in both **number theory** and **cryptography**, especially in RSA encryption and primality testing.\n",
    "- This task implemented two prime-finding algorithms and compared their efficiency:\n",
    "\n",
    "#### Trial Division\n",
    "- **How it works**: Checks divisibility of a number up to √n.\n",
    "- **Time Complexity**: O(n) per number (inefficient for large values).\n",
    "- **Space Complexity**: O(1) – very low memory usage.\n",
    "- **Best for**: Validating if a single number is prime (used in cryptographic key validation).\n",
    "- **Limitation**: Too slow for generating many primes.\n",
    "\n",
    "#### Sieve of Eratosthenes\n",
    "- **How it works**: Iteratively marks multiples of each prime as non-prime.\n",
    "- **Time Complexity**: O(n log log n) – significantly faster.\n",
    "- **Space Complexity**: O(n) – uses a boolean array.\n",
    "- **Best for**: Generating large sets of prime numbers efficiently.\n",
    "- **Use Case**: Ideal for cryptographic key generation and number theory applications.\n",
    "\n",
    "#### 🔁 Comparison Summary\n",
    "- **Trial Division** is simple and lightweight but inefficient for bulk operations.\n",
    "- **Sieve of Eratosthenes** is faster and better suited to large-scale prime generation.\n",
    "- Choosing the right algorithm depends on your goal: small checks vs. large-scale prime generation.\n",
    "\n",
    "---\n",
    "\n",
    "This task deepened my understanding of how different algorithms trade off speed, space, and simplicity — and why the **Sieve of Eratosthenes** is a foundational tool in algorithm design and cryptographic computation.\n",
    "\n"
   ]
  },
  {
   "cell_type": "markdown",
   "metadata": {},
   "source": [
    "---\n",
    "\n",
    "## Task 5 - Roots\n",
    "\n",
    "### Overview\n",
    "The goal of this task is to compute the **first 32 bits of the fractional part** of the **square roots** of the first **100 prime numbers**. This method is widely used in **cryptographic applications** such as [SHA-256](https://en.wikipedia.org/wiki/SHA-2), where these values serve as **hash initialization constants**.\n",
    "\n",
    "The process follows the formula:\n",
    "\n",
    "$$\n",
    "\\text{frac}(p) = p - \\lfloor p \\rfloor\n",
    "$$\n",
    "\n",
    "$$\n",
    "\\text{frac32} = \\lfloor \\text{frac}(p) \\times 2^{32} \\rfloor\n",
    "$$\n",
    "\n",
    "### Conceptual Background\n",
    "\n",
    "SHA-256, like all cryptographic hash functions, produces outputs with several key properties that make finding specific patterns (like leading zeros) particularly challenging:\n",
    "\n",
    "* **Deterministic Randomness**: While SHA-256 always produces the same output for a given input, the outputs appear random. The \"[avalanche effect](https://en.wikipedia.org/wiki/Avalanche_effect)\" ensures that even a tiny change in input creates a completely different hash output.\n",
    "\n",
    "* **Uniform Distribution**: SHA-256 hash outputs are designed to be uniformly distributed across the possible 256-bit space. This means that the probability of a hash beginning with a specific bit pattern (like multiple zeros) follows precise mathematical probabilities.\n",
    "\n",
    "* **Pre-image Resistance**: Finding an input that produces a specific hash output (or even a hash with specific properties like leading zeros) is computationally difficult. There's no shortcut besides trying different inputs and checking their hashes.\n",
    "\n",
    "* **Probabilistic Challenge**: For each bit position that must be zero, the probability decreases by a factor of 2. For instance:\n",
    "  * Probability of 1 leading zero bit: 1/2 (50%)\n",
    "  * Probability of 8 leading zero bits: 1/2^8 (0.39%)\n",
    "  * Probability of 16 leading zero bits: 1/2^16 (0.0015%)\n",
    "\n",
    "This mathematical challenge forms the foundation of **Proof of Work** systems in blockchain technologies. In Bitcoin mining, miners must find a hash with a specific number of leading zeros, proving they've performed computational work. This task simulates a simplified version of that challenge by searching through English words rather than adjusting a nonce value.\n",
    "\n",
    "---\n",
    "\n",
    "\n",
    "### Steps\n",
    "- Generate the first **100 prime numbers** using Sieve of Eratosthenes.\n",
    "- Compute the **square root** of each prime.\n",
    "- Extract the **fractional part** of the square root.\n",
    "- Scale it to **32 bits** using `2^32`.\n",
    "- Convert the result to a **hexadecimal representation** for better readability.\n",
    "\n",
    "### Why This Approach?\n",
    "- **Efficient Prime Generation:** The [Sieve of Eratosthenes](https://en.wikipedia.org/wiki/Sieve_of_Eratosthenes) is one of the fastest methods for generating prime numbers.\n",
    "- **Cryptographic Relevance:** These computed values align with [SHA-256 constants](https://nvlpubs.nist.gov/nistpubs/FIPS/NIST.FIPS.180-4.pdf), which are derived from the fractional parts of square roots.\n",
    "- **Bitwise Precision:** Extracting the fractional part and scaling ensures a **uniform, high-entropy distribution** of values, crucial for **secure hashing algorithms**.\n",
    "\n",
    "\n",
    "---\n",
    "\n"
   ]
  },
  {
   "cell_type": "markdown",
   "metadata": {},
   "source": [
    "## Implementation Details\n",
    "### Prime Number Generation\n",
    "To compute the first 32 bits of the fractional part of the square roots of the first 100 prime numbers, I first need to generate prime numbers. \n",
    "I will use the Sieve of Eratosthenes, an efficient algorithm that eliminates non-prime numbers up to a given limit."
   ]
  },
  {
   "cell_type": "code",
   "execution_count": 578,
   "metadata": {},
   "outputs": [],
   "source": [
    "def sieve_of_eratosthenes(limit):\n",
    "    \"\"\"\n",
    "    Generate prime numbers up to a given limit using the Sieve of Eratosthenes.\n",
    "    \"\"\"\n",
    "    # Initialize a boolean list, marking all numbers as prime candidates\n",
    "    primes = [True] * (limit + 1)\n",
    "    primes[0] = primes[1] = False  # 0 and 1 are not prime numbers\n",
    "    \n",
    "    # Iterate through numbers up to sqrt(limit) to mark multiples as non-prime\n",
    "    for num in range(2, int(limit ** 0.5) + 1):\n",
    "        if primes[num]:\n",
    "            # Mark multiples of num as non-prime\n",
    "            for multiple in range(num * num, limit + 1, num):\n",
    "                primes[multiple] = False\n",
    "    \n",
    "    # Extract prime numbers from the boolean list\n",
    "    return [i for i, is_prime in enumerate(primes) if is_prime]\n",
    "\n",
    "# Generate the first 100 prime numbers\n",
    "primes = sieve_of_eratosthenes(600)[:100]"
   ]
  },
  {
   "cell_type": "markdown",
   "metadata": {},
   "source": [
    "### Computing Fractional Bits\n",
    "Now that I have the first 100 prime numbers, I will compute the first 32 bits of the fractional part of their square roots.\n",
    "\n",
    "This involves:\n",
    "- Calculating the square root of each prime.\n",
    "- Extracting its fractional part.\n",
    "- Scaling it to 32 bits using 2^32.\n",
    "- Converting the result into a hexadecimal format."
   ]
  },
  {
   "cell_type": "markdown",
   "metadata": {},
   "source": [
    "### Test Results\n",
    "### First 8 Primes and Their SHA-256 Constants\n",
    "The SHA-256 algorithm derives its initial hash values from the first 32 bits of the fractional parts of the square roots of the first 8 prime numbers. Below is a comparison:\n",
    "\n",
    "| Prime | Square Root (approx.) | Fractional Part | 32-bit Hex |\n",
    "|-------|----------------------|----------------|------------|\n",
    "| 2     | 1.414213562373095    | 0.414213562373095 | 0x6a09e667 |\n",
    "| 3     | 1.732050807568877    | 0.732050807568877 | 0xbb67ae85 |\n",
    "| 5     | 2.236067977499790    | 0.236067977499790 | 0x3c6ef372 |\n",
    "| 7     | 2.645751311064591    | 0.645751311064591 | 0xa54ff53a |\n",
    "| 11    | 3.316624790355400    | 0.316624790355400 | 0x510e527f |\n",
    "| 13    | 3.605551275463990    | 0.605551275463990 | 0x9b05688c |\n",
    "| 17    | 4.123105625617661    | 0.123105625617661 | 0x1f83d9ab |\n",
    "| 19    | 4.358898943          | 0.358898943       | 0x5be0cd19 |"
   ]
  },
  {
   "cell_type": "code",
   "execution_count": 579,
   "metadata": {},
   "outputs": [
    {
     "name": "stdout",
     "output_type": "stream",
     "text": [
      "Prime  Fractional Part (Hex)\n",
      "------------------------------\n",
      "2                0x6a09e667\n",
      "3                0xbb67ae85\n",
      "5                0x3c6ef372\n",
      "7                0xa54ff53a\n",
      "11               0x510e527f\n",
      "13               0x9b05688c\n",
      "17               0x1f83d9ab\n",
      "19               0x5be0cd19\n",
      "23               0xcbbb9d5d\n",
      "29               0x629a292a\n",
      "31               0x9159015a\n",
      "37               0x152fecd8\n",
      "41               0x67332667\n",
      "43               0x8eb44a87\n",
      "47               0xdb0c2e0d\n",
      "53               0x47b5481d\n",
      "59               0xae5f9156\n",
      "61               0xcf6c85d3\n",
      "67               0x2f73477d\n",
      "71               0x6d1826ca\n",
      "73               0x8b43d457\n",
      "79               0xe360b596\n",
      "83               0x1c456002\n",
      "89               0x6f196331\n",
      "97               0xd94ebeb1\n",
      "101               0xcc4a611\n",
      "103              0x261dc1f2\n",
      "107              0x5815a7be\n",
      "109              0x70b7ed67\n",
      "113              0xa1513c69\n",
      "127              0x44f93635\n",
      "131              0x720dcdfd\n",
      "137              0xb467369e\n",
      "139              0xca320b75\n",
      "149              0x34e0d42e\n",
      "151              0x49c7d9bd\n",
      "157              0x87abb9f2\n",
      "163              0xc463a2fc\n",
      "167              0xec3fc3f3\n",
      "173              0x27277f6d\n",
      "179              0x610bebf2\n",
      "181              0x7420b49e\n",
      "191              0xd1fd8a33\n",
      "193              0xe4773594\n",
      "197               0x92197f6\n",
      "199              0x1b530c95\n",
      "211              0x869d6342\n",
      "223              0xeee52e4f\n",
      "227              0x11076689\n",
      "229              0x21fba37b\n",
      "233              0x43ab9fb6\n",
      "239              0x75a9f91d\n",
      "241              0x86305019\n",
      "251              0xd7cd8173\n",
      "257               0x7fe00ff\n",
      "263              0x379f513f\n",
      "269              0x66b651a8\n",
      "271              0x764ab842\n",
      "277              0xa4b06be1\n",
      "281              0xc3578c15\n",
      "283              0xd2962a53\n",
      "293              0x1e039f40\n",
      "307              0x857b7bee\n",
      "311              0xa29bf2de\n",
      "313              0xb11a32e8\n",
      "317              0xcdf34e80\n",
      "331              0x31830426\n",
      "337              0x5b89092b\n",
      "347              0xa0c06a13\n",
      "349              0xae79842f\n",
      "353              0xc9cda689\n",
      "359              0xf281f239\n",
      "367              0x28412592\n",
      "373              0x502e64db\n",
      "379              0x77c9c211\n",
      "383              0x9204cd9d\n",
      "389              0xb91bf663\n",
      "397              0xecc38c9d\n",
      "401               0x6656095\n",
      "409              0x39479381\n",
      "419              0x78307697\n",
      "421              0x84ae4b7c\n",
      "431              0xc2b2b755\n",
      "433              0xcf03d20e\n",
      "439              0xf3cbb117\n",
      "443               0xc2d3b4b\n",
      "449              0x308af161\n",
      "457              0x60a7a998\n",
      "461              0x788d9812\n",
      "463              0x84769b42\n",
      "467              0x9c34f062\n",
      "479              0xe2d564c4\n",
      "487              0x116d75fd\n",
      "491              0x2894c107\n",
      "499              0x569b58c6\n",
      "503              0x6d7b3939\n",
      "509              0x8f9f8dbb\n",
      "521              0xd34f03cd\n",
      "523              0xde8372ef\n",
      "541              0x42687a39\n"
     ]
    }
   ],
   "source": [
    "def first_32_frac_bits(n):\n",
    "    \"\"\"\n",
    "    Compute the first 32 bits of the fractional part of the square root of a number.\n",
    "    \"\"\"\n",
    "    # Extract the fractional part of sqrt(n)\n",
    "    frac = math.sqrt(n) - math.floor(math.sqrt(n))\n",
    "    # Scale to 32-bit precision\n",
    "    return int(frac * 2**32)\n",
    "\n",
    "# Compute the 32-bit fractional values\n",
    "results = {p: hex(first_32_frac_bits(p)) for p in primes}\n",
    "\n",
    "# Display results in a structured table format\n",
    "print(f\"{'Prime':<6} {'Fractional Part (Hex)':>20}\")\n",
    "print(\"-\" * 30)\n",
    "for p in primes:\n",
    "    print(f\"{p:<6} {results[p]:>20}\")\n"
   ]
  },
  {
   "cell_type": "markdown",
   "metadata": {},
   "source": [
    "### Results Analysis\n",
    "### 🔍 Key Takeaways \n",
    "\n",
    "- **Objective**: Compute the first 32 bits of the fractional part of the square roots of the first 100 prime numbers — a method used to generate SHA-256 hash initialization constants.\n",
    "\n",
    "#### My Approach:\n",
    "1. **Prime Generation**: Used the **Sieve of Eratosthenes** to efficiently generate the first 100 prime numbers.\n",
    "2. **Square Root Calculation**: Computed the square root of each prime using `math.sqrt()`.\n",
    "3. **Fractional Extraction**: Subtracted the floor value to isolate the fractional part.\n",
    "4. **Bit Scaling & Conversion**: Multiplied the fractional part by `2^32` and converted it to **hexadecimal** for readability and cryptographic format.\n",
    "\n",
    "#### 🔐 Why This Approach?\n",
    "- **Cryptographic Relevance**: These constants are directly used in algorithms like **SHA-256**, which initializes its hash values from the fractional parts of the square roots of the first 8 primes.\n",
    "- **Efficiency**: The Sieve of Eratosthenes ensures fast and scalable prime number generation — ideal for cryptographic tasks.\n",
    "\n",
    "#### Sample Output:\n",
    "| Prime | 32-bit Hex Value |\n",
    "|-------|------------------|\n",
    "| 2     | `0x6a09e667`     |\n",
    "| 3     | `0xbb67ae85`     |\n",
    "| 5     | `0x3c6ef372`     |\n",
    "| 7     | `0xa54ff53a`     |\n",
    "| 11    | `0x510e527f`     |\n",
    "\n",
    "#### 📌 Conclusion:\n",
    "By combining efficient prime generation with precise fractional extraction, I was able to replicate the cryptographic constant generation process used in SHA-256. This exercise highlights the intersection of **number theory** and **practical cryptography**, where mathematical properties are translated into secure digital systems.\n"
   ]
  },
  {
   "cell_type": "markdown",
   "metadata": {},
   "source": [
    "## Task 6: Proof of Work\n",
    "\n",
    "### **Overview**\n",
    "This task involves finding words in the **English language** that have the **highest number of leading zero bits** in their **SHA-256 hash digest**. Since **SHA-256** is a **cryptographic hash function** [NIST Documentation](https://csrc.nist.gov/publications/detail/fips/180/4/final), the presence of leading zeroes is purely **probabilistic**. The goal is to find words that **maximize** this property.\n",
    "\n",
    "### Why This Approach?\n",
    "- **[Efficient Word Filtering](https://www.nltk.org/)**: Uses an **English dictionary dataset** to ensure all tested words are **valid**.\n",
    "- **[Bitwise Operations](https://docs.python.org/3/library/stdtypes.html#bitwise-operations)**: Extracts and **counts** leading zeros directly from the **SHA-256 hash**.\n",
    "- **[Cryptographic Insights](https://en.wikipedia.org/wiki/Preimage_attack)**: Demonstrates how **pre-image resistance** applies to **SHA-256**, ensuring it remains secure against attacks"
   ]
  },
  {
   "cell_type": "markdown",
   "metadata": {},
   "source": [
    "### Understanding the Problem\n",
    "- In blockchain mining, a valid block must have a hash with a certain number of leading zeroes.\n",
    "- This task simulates that idea but applies it to English words instead of random nonce values.\n",
    "- SHA-256 pre-image resistance ensures that finding words with leading zeroes is probabilistic."
   ]
  },
  {
   "cell_type": "markdown",
   "metadata": {},
   "source": [
    "### Steps\n",
    "SHA-256 produces a 256-bit hash. My goal is to:\n",
    "\n",
    "- Convert the hash into binary format.\n",
    "- Count the number of leading zero bits.\n",
    "- Find the word(s) with the maximum leading zeroes.\n",
    "\n",
    "---"
   ]
  },
  {
   "cell_type": "markdown",
   "metadata": {},
   "source": [
    "## Implementation Details\n",
    "#### Load English Words Dataset\n",
    "\n",
    " I used `words_alpha.txt` a plain text file of English words from`dwyl/english-words.`"
   ]
  },
  {
   "cell_type": "code",
   "execution_count": 634,
   "metadata": {},
   "outputs": [
    {
     "name": "stdout",
     "output_type": "stream",
     "text": [
      "Total words loaded: 370105\n",
      "Sample words: ['a', 'aa', 'aaa', 'aah', 'aahed', 'aahing', 'aahs', 'aal', 'aalii', 'aaliis']\n"
     ]
    }
   ],
   "source": [
    "# Load English words from words_alpha.txt\n",
    "def load_words(file_path=\"words_alpha.txt\"):\n",
    "    with open(file_path, \"r\") as file:\n",
    "        words = file.read().splitlines()\n",
    "    return words\n",
    "\n",
    "# Load the words\n",
    "english_words = load_words()\n",
    "print(f\"Total words loaded: {len(english_words)}\")\n",
    "print(\"Sample words:\", english_words[:10])\n"
   ]
  },
  {
   "cell_type": "markdown",
   "metadata": {},
   "source": [
    "#### Compute SHA-256 Hash & Count Leading Zeroes\n",
    "- For each word:\n",
    "    - Compute the SHA-256 hash.\n",
    "    - Convert it to binary.\n",
    "    - ount leading zeroes"
   ]
  },
  {
   "cell_type": "code",
   "execution_count": 635,
   "metadata": {},
   "outputs": [
    {
     "name": "stdout",
     "output_type": "stream",
     "text": [
      "Word: example, Leading Zeros: 1, SHA-256: 50d858e0985ecc7f60418aaf0cc5ab587f42c2570a884095a9e8ccacd0f6545c\n"
     ]
    }
   ],
   "source": [
    "def sha256_leading_zeros(word: str) -> int:\n",
    "    \"\"\"\n",
    "    Compute the SHA-256 hash of a word and count the number of leading zero bits.\n",
    "\n",
    "    Why?\n",
    "    - In blockchain mining, finding hashes with leading zeros is essential for Proof of Work.\n",
    "    - This function finds real words that naturally produce hashes with more leading zeros.\n",
    "\n",
    "    Parameters:\n",
    "        word (str): The input word.\n",
    "\n",
    "    Returns:\n",
    "        int: The count of leading zero bits in the hash.\n",
    "    \"\"\"\n",
    "    # Compute SHA-256 hash\n",
    "    hash_hex = hashlib.sha256(word.encode()).hexdigest()\n",
    "    \n",
    "    # Convert hash to binary (256-bit padded)\n",
    "    hash_bin = bin(int(hash_hex, 16))[2:].zfill(256)\n",
    "\n",
    "    # Count leading zeroes\n",
    "    return len(hash_bin) - len(hash_bin.lstrip('0'))\n",
    "\n",
    "# Example check\n",
    "sample_word = \"example\"\n",
    "leading_zeros = sha256_leading_zeros(sample_word)\n",
    "print(f\"Word: {sample_word}, Leading Zeros: {leading_zeros}, SHA-256: {hashlib.sha256(sample_word.encode()).hexdigest()}\")\n"
   ]
  },
  {
   "cell_type": "markdown",
   "metadata": {},
   "source": [
    "#### Process All Words & Find the Best One\n",
    "Now, I will compute the leading zeroes for all words and find the ones with the **highest count.**"
   ]
  },
  {
   "cell_type": "code",
   "execution_count": 636,
   "metadata": {},
   "outputs": [
    {
     "name": "stdout",
     "output_type": "stream",
     "text": [
      "Word(s) with the most leading zeros (18 zeros):\n",
      "Word: goaltenders, Leading Zeros: 18, SHA-256: 00002e68c9d3d1fc5d3178bee91040efbeb4ac9ea7722c834fa5d71b2e3845cd\n"
     ]
    }
   ],
   "source": [
    "# Step 1: Compute leading zero bits for each word\n",
    "word_hashes = {word: sha256_leading_zeros(word) for word in english_words}\n",
    "\n",
    "# Step 2: Find the maximum number of leading zeros\n",
    "max_zeros = max(word_hashes.values())\n",
    "\n",
    "# Step 3: Identify words with the maximum leading zeroes\n",
    "best_words = [word for word, zeros in word_hashes.items() if zeros == max_zeros]\n",
    "\n",
    "# Step 4: Display results\n",
    "print(f\"Word(s) with the most leading zeros ({max_zeros} zeros):\")\n",
    "for word in best_words[:10]:  # Display first 10 results\n",
    "    print(f\"Word: {word}, Leading Zeros: {max_zeros}, SHA-256: {hashlib.sha256(word.encode()).hexdigest()}\")\n"
   ]
  },
  {
   "cell_type": "markdown",
   "metadata": {},
   "source": [
    "#### Verifying the Words Exist in an English Dictionary\n",
    "I will check if the words exist in ```words_alpha.txt``` to confirm their validity."
   ]
  },
  {
   "cell_type": "code",
   "execution_count": 637,
   "metadata": {},
   "outputs": [
    {
     "name": "stdout",
     "output_type": "stream",
     "text": [
      "Word: guilefulness, Exists in Dictionary: True\n",
      "Word: mismatchment, Exists in Dictionary: True\n",
      "Word: NotARealWord, Exists in Dictionary: False\n"
     ]
    }
   ],
   "source": [
    "def is_valid_word(word):\n",
    "    \"\"\"\n",
    "    Check if a given word exists in the English word list loaded from words_alpha.txt.\n",
    "\n",
    "    Parameters:\n",
    "        word (str): The word to verify.\n",
    "\n",
    "    Returns:\n",
    "        bool: True if the word exists in the list, False otherwise.\n",
    "    \"\"\"\n",
    "    return word.lower() in english_words\n",
    "\n",
    "\n",
    "# ✅ Example Verification\n",
    "test_words = [\"guilefulness\", \"mismatchment\", \"NotARealWord\"]\n",
    "for word in test_words:\n",
    "    print(f\"Word: {word}, Exists in Dictionary: {is_valid_word(word)}\")\n"
   ]
  },
  {
   "cell_type": "markdown",
   "metadata": {},
   "source": [
    "### 🔍 Key Takeaways\n",
    "\n",
    "- **Finding words with leading zeroes in SHA-256 is probabilistic.**  \n",
    "  - Due to the randomness of hash functions, there’s no guarantee that longer words have more leading zeros.\n",
    "\n",
    "- **Processing large datasets (like full dictionaries) takes time.**  \n",
    "  - Optimizations, such as parallelization or caching precomputed hashes, could improve performance.\n",
    "\n",
    "- **Interesting observations:**  \n",
    "  - Some longer words had more leading zeroes, which might be linked to their unique character sequences.  \n",
    "  - Certain words seemed to naturally align with SHA-256’s hashing function in a way that produced more zeroes.\n"
   ]
  },
  {
   "cell_type": "markdown",
   "metadata": {},
   "source": [
    "## **Task 7: Turing Machines**\n",
    "\n",
    "## Overview\n",
    "This task involves designing a **Turing Machine** that **increments a binary number by 1**. The machine reads a **binary number** from left to right, treating the **right-most bit as the least significant bit (LSB)**. It follows a state transition process to correctly perform the addition.\n",
    "\n",
    "For example:\n",
    "```\n",
    "Input: 100111 \n",
    "Output: 101000\n",
    "```\n",
    "\n",
    "\n",
    "The machine **starts at the left-most non-blank symbol** and follows a **step-by-step state transition process** to propagate the **carry bit** through the number.\n",
    "\n",
    "The concept of a **Turing Machine** was introduced by **Alan Turing in 1936**, laying the foundation for modern computational theory ([Stanford Encyclopedia of Philosophy](https://plato.stanford.edu/entries/turing-machine/)). In modern computing, **finite-state machines** based on Turing’s work are widely used in areas such as **compiler design, artificial intelligence, and CPU instruction processing** ([Hopcroft & Ullman, 1979](https://www.cs.cornell.edu/~kozen/Papers/hu79.pdf)).  \n",
    "\n",
    "This implementation demonstrates how a **Turing Machine** can perform **binary arithmetic**, showcasing its computational power.\n",
    "\n",
    "---\n",
    "\n",
    "### Why This Approach?\n",
    "\n",
    "This implementation uses an **object-oriented design** to simulate a Turing Machine through a structured and modular setup (`__init__`, `step`, `run`), allowing for clean separation of concerns. Each part of the computation is handled in isolation — closely aligning with how a theoretical Turing Machine operates.\n",
    "\n",
    "#### Key Reasons for This Approach:\n",
    "\n",
    "- **Turing Completeness**  \n",
    "  Demonstrates that a Turing Machine can perform arithmetic operations by simulating a simple binary increment, reinforcing the concept of universal computation.\n",
    "\n",
    "- **Encapsulation of Behavior**  \n",
    "  Wrapping the tape, head position, and state logic within a class keeps the implementation organized and easy to manage.\n",
    "\n",
    "- **Pedagogical Clarity**  \n",
    "  The logic mirrors formal definitions found in computational theory, allowing easy comparison between theory and implementation.\n",
    "\n",
    "- **Extendability**  \n",
    "  The modular structure makes it easy to modify or extend the machine (e.g., to perform subtraction or parity checks) without rewriting the core logic.\n",
    "\n",
    "This approach aligns with the project requirements by emphasizing small, testable methods and clearly demonstrating how a state-driven system can perform binary arithmetic. It also reflects best practices in both theoretical modeling and software development.\n",
    "\n",
    "\n",
    "### **Understanding the Problem**\n",
    "A **Turing Machine** consists of:  \n",
    "- A **tape** (infinite memory) holding the binary input.  \n",
    "- A **head** that reads, writes, and moves left or right.  \n",
    "- A **finite set of states** that determine transitions based on the current symbol.  \n",
    "\n",
    "#### **The Goal:**\n",
    "1. **Find the right-most `0`** and replace it with `1`.  \n",
    "2. **If a `1` is encountered**, change it to `0` and move left (**carry propagation**).  \n",
    "3. **If all bits are `1`s**, prepend a new `1` to represent **overflow** (*leveraging the infinite tape*).  \n",
    "\n",
    "---\n",
    "\n",
    "### **Steps**\n",
    "1. **Move to the right-most bit** to find the **least significant bit (LSB)**.  \n",
    "2. **Perform the binary addition**:\n",
    "   - If the bit is `0`, **replace it with `1`** and **stop**.  \n",
    "   - If the bit is `1`, **turn it into `0`** and **propagate the carry left**.  \n",
    "3. **Handle overflow** by **inserting a new `1`** if necessary, utilizing the **Turing Machine’s infinite tape** to extend the number.  \n",
    "\n",
    "---\n",
    "\n"
   ]
  },
  {
   "cell_type": "markdown",
   "metadata": {},
   "source": [
    "### **State Transition Table**\n",
    "\n",
    "| **Current State** | **Read Symbol** | **Write Symbol** | **Move Direction** | **Next State** | **Description** |\n",
    "|------------------|---------------|---------------|---------------|--------------|--------------------------|\n",
    "| `Find_LSB`      | `1`           | `0`           | Left          | `Find_LSB`   | Flip `1` to `0`, carry left |\n",
    "| `Find_LSB`      | `0`           | `1`           | None (Stop)   | `HALT`       | Replace `0` with `1`, end |\n",
    "| `Find_LSB`      | `BLANK`       | `1`           | None (Stop)   | `HALT`       | Overflow: Insert new `1` |\n",
    "\n",
    "This table defines the logic for incrementing a binary number on a **Turing Machine**:\n",
    "- The **Find_LSB** state moves **right-to-left**, flipping `1`s to `0`s as it propagates the carry.\n",
    "- If it finds a `0`, it flips it to `1` and **halts**.\n",
    "- If there are no `0`s, it inserts a new `1` at the beginning (handling **overflow**).\n",
    "\n",
    "---"
   ]
  },
  {
   "cell_type": "markdown",
   "metadata": {},
   "source": [
    "## **Implementation Details**\n",
    "### **Step 1: Initialize the Turing Machine Tape**\n",
    "A Turing Machine operates on an **infinite tape**. Since I am working with binary numbers, the tape:\n",
    "- Starts with a **binary input** (e.g., `\"100111\"`).\n",
    "- Has **blank spaces (`_`)** to represent unused memory.\n",
    "- Uses a **head pointer** to read and write symbols.\n",
    "\n",
    "I will implement this as a **list in Python**.\n"
   ]
  },
  {
   "cell_type": "code",
   "execution_count": 608,
   "metadata": {},
   "outputs": [],
   "source": [
    "# Define the Turing Machine Tape (empty class to be extended in later cells)\n",
    "class TuringMachine:\n",
    "    pass\n"
   ]
  },
  {
   "cell_type": "code",
   "execution_count": 609,
   "metadata": {},
   "outputs": [],
   "source": [
    "# Define the Turing Machine Tape\n",
    "class TuringMachine:\n",
    "    def __init__(self, input_binary):\n",
    "        \"\"\"\n",
    "        Initialize the Turing Machine with a binary number on the tape.\n",
    "        The tape is extended with blanks '_' to simulate an infinite tape.\n",
    "        \n",
    "        Args:\n",
    "            input_binary (str): The binary number to be incremented.\n",
    "        \"\"\"\n",
    "        self.tape = list(input_binary)  # Store binary as a list for mutability\n",
    "        self.tape.append(\"_\")  # Add a blank space at the end (simulating an infinite tape)\n",
    "        self.head = len(self.tape) - 2  # Start reading from the last bit (right-most bit)\n",
    "        self.state = \"Find_LSB\"  # Initial state\n",
    "\n",
    "    def __str__(self):\n",
    "        \"\"\"\n",
    "        Returns a string representation of the tape.\n",
    "        \"\"\"\n",
    "        return \"\".join(self.tape).rstrip(\"_\")  # Remove trailing blanks for display\n"
   ]
  },
  {
   "cell_type": "markdown",
   "metadata": {},
   "source": [
    "### **Step 2: Implement the State Transition Logic**\n",
    "The Turing Machine follows a **state transition model**:\n",
    "1. **Find the right-most `0`** → Change it to `1` → **HALT**.\n",
    "2. **If a `1` is encountered**, flip it to `0` and move left (carry propagation).\n",
    "3. **If no `0` is found (all bits are `1`s)**, prepend a new `1` (overflow case).\n"
   ]
  },
  {
   "cell_type": "code",
   "execution_count": 624,
   "metadata": {},
   "outputs": [],
   "source": [
    "def step(self):\n",
    "    \"\"\"\n",
    "    Perform a single step of the Turing Machine, modifying the tape according to the transition rules.\n",
    "    \"\"\"\n",
    "    if self.state == \"Find_LSB\":\n",
    "        while self.head >= 0:\n",
    "            if self.tape[self.head] == \"1\":\n",
    "                # Flip '1' to '0' and move left\n",
    "                self.tape[self.head] = \"0\"\n",
    "                self.head -= 1\n",
    "            elif self.tape[self.head] == \"0\":\n",
    "                # Change '0' to '1' and halt\n",
    "                self.tape[self.head] = \"1\"\n",
    "                self.state = \"HALT\"\n",
    "                return  # Important: end here\n",
    "        # If we exit the loop without hitting '0', it's an overflow\n",
    "        self.tape.insert(0, \"1\")\n",
    "        self.state = \"HALT\"\n",
    "        \n",
    "TuringMachine.step = step\n",
    "\n"
   ]
  },
  {
   "cell_type": "markdown",
   "metadata": {},
   "source": [
    "### **Step 3: Run the Turing Machine**\n",
    "- This function will **execute state transitions** until the machine reaches the `HALT` state.\n",
    "- After execution, it will **print the final binary output**.\n"
   ]
  },
  {
   "cell_type": "code",
   "execution_count": 625,
   "metadata": {},
   "outputs": [],
   "source": [
    "def run(self, max_steps=1000):\n",
    "    \"\"\"\n",
    "    Runs the Turing Machine until it reaches the HALT state or a step limit.\n",
    "    Ensures no unnecessary blank spaces in the final output.\n",
    "    \"\"\"\n",
    "    steps = 0\n",
    "    while self.state != \"HALT\":\n",
    "        self.step()\n",
    "        steps += 1\n",
    "        if steps > max_steps:\n",
    "            print(\"⚠️  Maximum step limit reached. Possible infinite loop.\")\n",
    "            break\n",
    "\n",
    "    return \"\".join(self.tape).rstrip(\"_\")\n",
    "\n",
    "TuringMachine.run = run\n",
    "\n"
   ]
  },
  {
   "cell_type": "markdown",
   "metadata": {},
   "source": [
    "### **Step 4: Test the Turing Machine**\n",
    "I will test the machine with:\n",
    "1. **Binary number with a `0` at the end** (`100110` → `100111`)\n",
    "2. **Binary number ending in `1s`** (`100111` → `101000`)\n",
    "3. **All `1s` (Overflow case)** (`111` → `1000`)\n"
   ]
  },
  {
   "cell_type": "code",
   "execution_count": 626,
   "metadata": {},
   "outputs": [
    {
     "name": "stdout",
     "output_type": "stream",
     "text": [
      "Input: 0 → Output: 1\n",
      "----------------------------------------\n",
      "Input: 1 → Output: 10\n",
      "----------------------------------------\n",
      "Input: 0000 → Output: 0001\n",
      "----------------------------------------\n",
      "Input: 110111100011 → Output: 110111100100\n",
      "----------------------------------------\n",
      "Input: 100110 → Output: 100111\n",
      "----------------------------------------\n",
      "Input: 100111 → Output: 101000\n",
      "----------------------------------------\n",
      "Input: 111 → Output: 1000\n",
      "----------------------------------------\n"
     ]
    }
   ],
   "source": [
    "# Extended test cases covering all edge cases\n",
    "test_numbers = [\n",
    "    \"0\",         # Single-bit zero\n",
    "    \"1\",         # Single-bit one (carry propagation)\n",
    "    \"0000\",      # Multiple zeroes\n",
    "    \"110111100011\",  # Longer binary number\n",
    "    \"100110\",    # Standard case\n",
    "    \"100111\",    # Carry propagation\n",
    "    \"111\"        # Overflow case\n",
    "]\n",
    "\n",
    "# Run each test case\n",
    "for binary in test_numbers:\n",
    "    tm = TuringMachine(binary)\n",
    "    result = tm.run()\n",
    "    print(f\"Input: {binary} → Output: {result}\")\n",
    "    print(\"-\" * 40)  # Separator for readability between test cases\n"
   ]
  },
  {
   "cell_type": "markdown",
   "metadata": {},
   "source": [
    "### Unit Testing The Turing Machine"
   ]
  },
  {
   "cell_type": "code",
   "execution_count": 627,
   "metadata": {},
   "outputs": [
    {
     "name": "stderr",
     "output_type": "stream",
     "text": [
      "test_already_sorted (__main__.TestBubbleSortComplexity.test_already_sorted)\n",
      "Test best-case scenario (already sorted list). ... ok\n",
      "test_empty_list (__main__.TestBubbleSortComplexity.test_empty_list)\n",
      "Test an empty list. ... ok\n",
      "test_random_order (__main__.TestBubbleSortComplexity.test_random_order)\n",
      "Test a random permutation. ... ok\n",
      "test_reverse_sorted (__main__.TestBubbleSortComplexity.test_reverse_sorted)\n",
      "Test worst-case scenario (reverse sorted list). ... ok\n",
      "test_single_element (__main__.TestBubbleSortComplexity.test_single_element)\n",
      "Test list with only one element. ... ok\n",
      "test_ch_all_ones_selector (__main__.TestChooseFunction.test_ch_all_ones_selector)\n",
      "Test when the selector is all 1s (should return y). ... ok\n",
      "test_ch_all_zeros_selector (__main__.TestChooseFunction.test_ch_all_zeros_selector)\n",
      "Test when the selector is all 0s (should return z). ... ok\n",
      "test_ch_alternating_pattern (__main__.TestChooseFunction.test_ch_alternating_pattern)\n",
      "Test with alternating selector bits. ... ok\n",
      "test_ch_basic (__main__.TestChooseFunction.test_ch_basic)\n",
      "Test basic choose function with a mix of 1s and 0s in the selector. ... ok\n",
      "test_basic_words (__main__.TestHashFunction.test_basic_words)\n",
      "Test common words to ensure correct hash values. ... ok\n",
      "test_collisions (__main__.TestHashFunction.test_collisions)\n",
      "Ensure that different inputs do not produce the same hash (minimize collisions). ... ok\n",
      "test_empty_string (__main__.TestHashFunction.test_empty_string)\n",
      "Test hashing an empty string should return 0. ... ok\n",
      "test_long_string (__main__.TestHashFunction.test_long_string)\n",
      "Test a long string to check consistency and stability. ... ok\n",
      "test_single_character (__main__.TestHashFunction.test_single_character)\n",
      "Test hashing single-character strings. ... ok\n",
      "test_maj_all_ones (__main__.TestMajorityFunction.test_maj_all_ones)\n",
      "Test when all inputs are ones (result should be all ones). ... ok\n",
      "test_maj_all_zeros (__main__.TestMajorityFunction.test_maj_all_zeros)\n",
      "Test when all inputs are zeros (result should be all zeros). ... ok\n",
      "test_maj_basic (__main__.TestMajorityFunction.test_maj_basic)\n",
      "Test majority function with mixed input bits. ... ok\n",
      "test_maj_pattern_mixed_bits (__main__.TestMajorityFunction.test_maj_pattern_mixed_bits)\n",
      "Test a case with a mix of majority and minority bits. ... ok\n",
      "test_maj_two_majority_bits (__main__.TestMajorityFunction.test_maj_two_majority_bits)\n",
      "Test when two inputs agree on bits and the third differs. ... ok\n",
      "test_rotl_all_ones (__main__.TestRotateLeft.test_rotl_all_ones)\n",
      "Rotating a number with all bits set should remain unchanged. ... ok\n",
      "test_rotl_basic (__main__.TestRotateLeft.test_rotl_basic)\n",
      "Test case 1: Basic left rotation. ... ok\n",
      "test_rotl_wraparound (__main__.TestRotateLeft.test_rotl_wraparound)\n",
      "Test case 2: Check bit wraparound behavior. ... ok\n",
      "test_rotl_zero_rotation (__main__.TestRotateLeft.test_rotl_zero_rotation)\n",
      "Test case 3: Zero rotation (no changes). ... ok\n",
      "test_rotr_all_ones (__main__.TestRotateRight.test_rotr_all_ones)\n",
      "Rotating all 1s should remain unchanged. ... ok\n",
      "test_rotr_basic (__main__.TestRotateRight.test_rotr_basic)\n",
      "Test basic right rotation by 1 position. ... ok\n",
      "test_rotr_wraparound (__main__.TestRotateRight.test_rotr_wraparound)\n",
      "Test wrap-around where the least significant bit moves to the most significant bit. ... ok\n",
      "test_rotr_zero_rotation (__main__.TestRotateRight.test_rotr_zero_rotation)\n",
      "Test rotation by 0 positions (should return the original value). ... ok\n",
      "test_add_zero_padding (__main__.TestSHA256Padding.test_add_zero_padding)\n",
      "Test zero padding length is correct. ... ok\n",
      "test_append_one_bit (__main__.TestSHA256Padding.test_append_one_bit)\n",
      "Test appending the 1-bit to the message. ... ok\n",
      "test_append_original_length (__main__.TestSHA256Padding.test_append_original_length)\n",
      "Ensure the correct 64-bit length is appended. ... ok\n",
      "test_compute_original_bit_length (__main__.TestSHA256Padding.test_compute_original_bit_length)\n",
      "Check if the function correctly calculates bit length. ... ok\n",
      "test_extract_padding (__main__.TestSHA256Padding.test_extract_padding)\n",
      "Check if padding extraction works correctly. ... ok\n",
      "test_read_file (__main__.TestSHA256Padding.test_read_file)\n",
      "Ensure the file is read correctly. ... ok\n",
      "test_all_ones (__main__.TestTuringMachine.test_all_ones) ... ok\n",
      "test_long_input (__main__.TestTuringMachine.test_long_input) ... ok\n",
      "test_mixed_binary (__main__.TestTuringMachine.test_mixed_binary) ... ok\n",
      "test_multiple_zeros (__main__.TestTuringMachine.test_multiple_zeros) ... ok\n",
      "test_single_one (__main__.TestTuringMachine.test_single_one) ... ok\n",
      "test_single_zero (__main__.TestTuringMachine.test_single_zero) ... ok\n",
      "\n",
      "----------------------------------------------------------------------\n",
      "Ran 39 tests in 0.060s\n",
      "\n",
      "OK\n"
     ]
    },
    {
     "data": {
      "text/plain": [
       "<unittest.main.TestProgram at 0x1196a8050>"
      ]
     },
     "execution_count": 627,
     "metadata": {},
     "output_type": "execute_result"
    }
   ],
   "source": [
    "class TestTuringMachine(unittest.TestCase):\n",
    "    def test_single_zero(self):\n",
    "        self.assertEqual(TuringMachine(\"0\").run(), \"1\")\n",
    "    \n",
    "    def test_single_one(self):\n",
    "        self.assertEqual(TuringMachine(\"1\").run(), \"10\")\n",
    "    \n",
    "    def test_multiple_zeros(self):\n",
    "        self.assertEqual(TuringMachine(\"0000\").run(), \"0001\")\n",
    "\n",
    "    def test_mixed_binary(self):\n",
    "        self.assertEqual(TuringMachine(\"100110\").run(), \"100111\")\n",
    "        self.assertEqual(TuringMachine(\"100111\").run(), \"101000\")\n",
    "\n",
    "    def test_all_ones(self):\n",
    "        self.assertEqual(TuringMachine(\"111\").run(), \"1000\")\n",
    "    \n",
    "    def test_long_input(self):\n",
    "        self.assertEqual(TuringMachine(\"110111100011\").run(), \"110111100100\")\n",
    "\n",
    "# Run the tests\n",
    "unittest.main(argv=[''], verbosity=2, exit=False)\n"
   ]
  },
  {
   "cell_type": "markdown",
   "metadata": {},
   "source": [
    "### 🔍 Key Takeaways\n",
    "\n",
    "- **State Transition Logic**: The Turing Machine follows a well-defined **state transition table** to manipulate binary numbers, demonstrating the fundamental principles of **automata theory** ([Hopcroft & Ullman, 1979](https://www.cs.cornell.edu/~kozen/Papers/hu79.pdf)).  \n",
    "- **Carry Propagation**: The machine correctly handles **carry propagation** when encountering consecutive `1`s, similar to how addition works in **binary arithmetic circuits** ([Patterson & Hennessy, 2013](https://www.elsevier.com/books/computer-organization-and-design-arm-edition/patterson/978-0-12-801733-3)).  \n",
    "- **Overflow Handling**: If the input consists of only `1`s, the machine **extends the tape** and correctly represents an **overflow**, a concept that aligns with **integer overflow handling in modern processors** ([Knuth, 1997](https://www-cs-faculty.stanford.edu/~knuth/taocp.html)).  \n",
    "\n",
    "---\n",
    "\n",
    "### **Computational Theory Insights**\n",
    "This task reinforces fundamental concepts in **computational theory**, including:\n",
    "\n",
    "- **Finite-State Machines (FSMs)** – The Turing Machine operates based on predefined **states** and **rules**, which form the foundation of **finite-state automata** in computational theory ([Hopcroft, Motwani & Ullman, 2007](https://www.pearson.com/us/higher-education/program/Hopcroft-Introduction-to-Automata-Theory-Languages-and-Computation-3rd-Edition/PGM188636.html)).  \n",
    "- **Turing Completeness** – A Turing Machine can theoretically compute anything that is **computable**, serving as the mathematical model for all modern computers ([Turing, 1936](https://plato.stanford.edu/entries/turing-machine/)).  \n",
    "- **Binary Arithmetic in Computation** – Even basic operations like addition require structured **state transitions**, a principle used in **low-level computer architecture** and **logical circuit design** ([Patterson & Hennessy, 2013](https://www.elsevier.com/books/computer-organization-and-design-arm-edition/patterson/978-0-12-801733-3)).  \n",
    "\n",
    "---"
   ]
  },
  {
   "cell_type": "markdown",
   "metadata": {},
   "source": [
    "## Task 8: Computational Complexity\n",
    "\n",
    "### Overview\n",
    "\n",
    "This task explores computational complexity by implementing the **Bubble Sort** algorithm and analyzing its performance across **all permutations** of a 5-element list:\n",
    "```\n",
    "L = [1, 2, 3, 4, 5]\n",
    "```\n",
    "\n",
    "### Objectives:\n",
    "- Implement **Bubble Sort** that counts the number of comparisons made.\n",
    "- Apply it to **every permutation** of the list.\n",
    "- Record and analyze the **number of comparisons required**.\n",
    "- Understand **best-case**, **worst-case**, and **average-case** time complexities.\n",
    "\n",
    "Bubble Sort is a simple comparison-based sorting algorithm commonly used for teaching. While it is inefficient for large datasets due to its **O(n²)** time complexity, it serves as a clear demonstration of **algorithm behavior** and **complexity analysis**.\n",
    "\n",
    "This task reinforces theoretical concepts in computational theory by using a **brute-force, empirical approach** to analyze sorting performance.\n",
    "\n",
    "### **Why This Approach?**\n",
    "\n",
    "This implementation adopts a **brute-force empirical strategy** to evaluate the behavior of the **Bubble Sort** algorithm across all possible inputs. Rather than analyzing a single best or worst-case example, it tests all **120 permutations** of the list `[1, 2, 3, 4, 5]`, allowing for a **comprehensive understanding of input-dependent complexity**.\n",
    "\n",
    "By using Python’s built-in [`itertools.permutations`](https://docs.python.org/3/library/itertools.html#itertools.permutations), the implementation ensures complete coverage of the input space in a systematic and efficient way ([van Rossum & Drake, 2001](https://www.python.org/doc/essays/blurb/)).\n",
    "\n",
    "#### Key Reasons for This Approach:\n",
    "\n",
    "- **Empirical Complexity Analysis**  \n",
    "  Testing all permutations allows us to **observe actual comparison counts** rather than relying solely on theoretical bounds. This mirrors practices in algorithm benchmarking and profiling.\n",
    "\n",
    "- **Alignment with Educational Use of Bubble Sort**  \n",
    "  Bubble Sort is commonly used to teach sorting fundamentals, particularly due to its simplicity and predictability ([Cormen et al., 2009](https://mitpress.mit.edu/9780262046305/introduction-to-algorithms/)).\n",
    "\n",
    "- **Illustration of Best, Worst, and Average Cases**  \n",
    "  This method clearly demonstrates how performance **varies depending on input ordering**, reinforcing complexity class concepts from computational theory ([Knuth, 1998](https://www-cs-faculty.stanford.edu/~knuth/taocp.html)).\n",
    "\n",
    "- **Scalability for Teaching**  \n",
    "  While impractical for large `n`, this brute-force technique is **ideal for small inputs** and educational demonstrations — making computational complexity more tangible and relatable.\n",
    "\n",
    "This approach closely aligns with the goal of **bridging theoretical analysis with practical experimentation**, which is foundational to understanding algorithm design and performance.\n",
    "\n",
    "---\n",
    "\n",
    "\n",
    "\n"
   ]
  },
  {
   "cell_type": "markdown",
   "metadata": {},
   "source": [
    "## Implementation Details\n",
    "### Step 1: Implement Bubble Sort\n",
    "Bubble Sort repeatedly compares and swaps adjacent elements until the list is sorted.\n",
    "In this version, I added a counter to track comparisons and included an early exit if no swaps occur in a pass — which helps optimize best-case performance.\n"
   ]
  },
  {
   "cell_type": "code",
   "execution_count": 588,
   "metadata": {},
   "outputs": [],
   "source": [
    "def bubble_sort_count_comparisons(arr):\n",
    "    \"\"\"  \n",
    "    Bubble sort that counts the number of comparisons\n",
    "    and stops early if the list is already sorted.\n",
    "\n",
    "    Parameters:\n",
    "    arr (list): The input list to be sorted.\n",
    "    \n",
    "    Returns:\n",
    "    tuple: Sorted list and the number of comparisons performed.  \n",
    "    \"\"\"  \n",
    "    n = len(arr)\n",
    "    comparisons = 0\n",
    "\n",
    "    for i in range(n - 1):\n",
    "        swapped = False\n",
    "        for j in range(n - i - 1):\n",
    "            comparisons += 1\n",
    "            if arr[j] > arr[j + 1]:\n",
    "                arr[j], arr[j + 1] = arr[j + 1], arr[j]\n",
    "                swapped = True\n",
    "        if not swapped:\n",
    "            break  # Early exit if already sorted\n",
    "\n",
    "    return arr, comparisons\n"
   ]
  },
  {
   "cell_type": "markdown",
   "metadata": {},
   "source": [
    "### Step 2: Generate All Permutations & Record Comparisons\n",
    "Now I'll use Python’s itertools.permutations to generate every possible ordering of `[1, 2, 3, 4, 5]` — which gives us 5! = 120 permutations.\n",
    "\n",
    "Each permutation is passed into the `bubble_sort_count_comparisons()` function to count how many comparisons are needed to sort it."
   ]
  },
  {
   "cell_type": "code",
   "execution_count": 600,
   "metadata": {},
   "outputs": [],
   "source": [
    "# Generate all permutations of the list [1, 2, 3, 4, 5]\n",
    "# There are 5! = 120 permutations to analyze\n",
    "permutations = list(itertools.permutations([1, 2, 3, 4, 5]))\n",
    "\n",
    "# Initialize a dictionary to store the number of comparisons for each permutation\n",
    "# Key: permutation (tuple), Value: number of comparisons required to sort it\n",
    "comparison_results = {}\n",
    "\n",
    "# Loop through each permutation\n",
    "for perm in permutations:\n",
    "    # Convert tuple to list before passing it to the bubble sort function\n",
    "    # _ captures the sorted list (not used), we care about the comparison count\n",
    "    _, comparisons = bubble_sort_count_comparisons(list(perm))\n",
    "    \n",
    "    # Store the result in the dictionary\n",
    "    comparison_results[perm] = comparisons\n"
   ]
  },
  {
   "cell_type": "markdown",
   "metadata": {},
   "source": [
    "### Step 3: Analyze Best, Worst, and Average Case\n",
    "Next I will calculate:\n",
    "\n",
    "- The minimum comparisons (Best Case)\n",
    "- The maximum comparisons (Worst Case)\n",
    "- The average comparisons across all permutations"
   ]
  },
  {
   "cell_type": "code",
   "execution_count": 602,
   "metadata": {},
   "outputs": [
    {
     "name": "stdout",
     "output_type": "stream",
     "text": [
      "Bubble Sort Comparison Analysis\n",
      "Best Case Comparisons: 4 (Already Sorted)\n",
      "Worst Case Comparisons: 10 (Reverse Sorted)\n",
      "Average Case Comparisons: 9.26\n"
     ]
    }
   ],
   "source": [
    "# Find the minimum number of comparisons (best-case scenario)\n",
    "best_case = min(comparison_results.values())\n",
    "\n",
    "# Find the maximum number of comparisons (worst-case scenario)\n",
    "worst_case = max(comparison_results.values())\n",
    "\n",
    "# Calculate the average number of comparisons across all permutations\n",
    "average_case = sum(comparison_results.values()) / len(comparison_results)\n",
    "\n",
    "# Display the results\n",
    "print(\"Bubble Sort Comparison Analysis\")\n",
    "print(f\"Best Case Comparisons: {best_case} (Already Sorted)\")\n",
    "print(f\"Worst Case Comparisons: {worst_case} (Reverse Sorted)\")\n",
    "print(f\"Average Case Comparisons: {average_case:.2f}\")\n"
   ]
  },
  {
   "cell_type": "markdown",
   "metadata": {},
   "source": [
    "### Example Output - First 5 Permutations\n",
    "Display a few permutations with their comparison count to illustrate the output:"
   ]
  },
  {
   "cell_type": "code",
   "execution_count": 603,
   "metadata": {},
   "outputs": [
    {
     "name": "stdout",
     "output_type": "stream",
     "text": [
      "\n",
      "🔢 Example Permutations and Comparison Counts:\n",
      "\n",
      "Permutation: (1, 2, 3, 4, 5) → Comparisons: 4\n",
      "Permutation: (1, 2, 3, 5, 4) → Comparisons: 7\n",
      "Permutation: (1, 2, 4, 3, 5) → Comparisons: 7\n",
      "Permutation: (1, 2, 4, 5, 3) → Comparisons: 9\n",
      "Permutation: (1, 2, 5, 3, 4) → Comparisons: 7\n"
     ]
    }
   ],
   "source": [
    "# Display a few sample permutations with their comparison counts\n",
    "print(\"\\n🔢 Example Permutations and Comparison Counts:\\n\")\n",
    "\n",
    "# Loop through the first 5 permutations and print their comparison totals\n",
    "for i, (perm, count) in enumerate(comparison_results.items()):\n",
    "    print(f\"Permutation: {perm} → Comparisons: {count}\")\n",
    "    \n",
    "    # Limit output to just the first 5 permutations for readability\n",
    "    if i == 4:\n",
    "        break\n"
   ]
  },
  {
   "cell_type": "markdown",
   "metadata": {},
   "source": [
    "### Unit Testing – Bubble Sort Comparison Counter"
   ]
  },
  {
   "cell_type": "code",
   "execution_count": 598,
   "metadata": {},
   "outputs": [
    {
     "name": "stderr",
     "output_type": "stream",
     "text": [
      "test_already_sorted (__main__.TestBubbleSortComplexity.test_already_sorted)\n",
      "Test best-case scenario (already sorted list). ... ok\n",
      "test_empty_list (__main__.TestBubbleSortComplexity.test_empty_list)\n",
      "Test an empty list. ... ok\n",
      "test_random_order (__main__.TestBubbleSortComplexity.test_random_order)\n",
      "Test a random permutation. ... ok\n",
      "test_reverse_sorted (__main__.TestBubbleSortComplexity.test_reverse_sorted)\n",
      "Test worst-case scenario (reverse sorted list). ... ok\n",
      "test_single_element (__main__.TestBubbleSortComplexity.test_single_element)\n",
      "Test list with only one element. ... ok\n",
      "test_ch_all_ones_selector (__main__.TestChooseFunction.test_ch_all_ones_selector)\n",
      "Test when the selector is all 1s (should return y). ... ok\n",
      "test_ch_all_zeros_selector (__main__.TestChooseFunction.test_ch_all_zeros_selector)\n",
      "Test when the selector is all 0s (should return z). ... ok\n",
      "test_ch_alternating_pattern (__main__.TestChooseFunction.test_ch_alternating_pattern)\n",
      "Test with alternating selector bits. ... ok\n",
      "test_ch_basic (__main__.TestChooseFunction.test_ch_basic)\n",
      "Test basic choose function with a mix of 1s and 0s in the selector. ... ok\n",
      "test_basic_words (__main__.TestHashFunction.test_basic_words)\n",
      "Test common words to ensure correct hash values. ... ok\n",
      "test_collisions (__main__.TestHashFunction.test_collisions)\n",
      "Ensure that different inputs do not produce the same hash (minimize collisions). ... ok\n",
      "test_empty_string (__main__.TestHashFunction.test_empty_string)\n",
      "Test hashing an empty string should return 0. ... ok\n",
      "test_long_string (__main__.TestHashFunction.test_long_string)\n",
      "Test a long string to check consistency and stability. ... ok\n",
      "test_single_character (__main__.TestHashFunction.test_single_character)\n",
      "Test hashing single-character strings. ... ok\n",
      "test_maj_all_ones (__main__.TestMajorityFunction.test_maj_all_ones)\n",
      "Test when all inputs are ones (result should be all ones). ... ok\n",
      "test_maj_all_zeros (__main__.TestMajorityFunction.test_maj_all_zeros)\n",
      "Test when all inputs are zeros (result should be all zeros). ... ok\n",
      "test_maj_basic (__main__.TestMajorityFunction.test_maj_basic)\n",
      "Test majority function with mixed input bits. ... ok\n",
      "test_maj_pattern_mixed_bits (__main__.TestMajorityFunction.test_maj_pattern_mixed_bits)\n",
      "Test a case with a mix of majority and minority bits. ... ok\n",
      "test_maj_two_majority_bits (__main__.TestMajorityFunction.test_maj_two_majority_bits)\n",
      "Test when two inputs agree on bits and the third differs. ... ok\n",
      "test_rotl_all_ones (__main__.TestRotateLeft.test_rotl_all_ones)\n",
      "Rotating a number with all bits set should remain unchanged. ... ok\n",
      "test_rotl_basic (__main__.TestRotateLeft.test_rotl_basic)\n",
      "Test case 1: Basic left rotation. ... ok\n",
      "test_rotl_wraparound (__main__.TestRotateLeft.test_rotl_wraparound)\n",
      "Test case 2: Check bit wraparound behavior. ... ok\n",
      "test_rotl_zero_rotation (__main__.TestRotateLeft.test_rotl_zero_rotation)\n",
      "Test case 3: Zero rotation (no changes). ... ok\n",
      "test_rotr_all_ones (__main__.TestRotateRight.test_rotr_all_ones)\n",
      "Rotating all 1s should remain unchanged. ... ok\n",
      "test_rotr_basic (__main__.TestRotateRight.test_rotr_basic)\n",
      "Test basic right rotation by 1 position. ... ok\n",
      "test_rotr_wraparound (__main__.TestRotateRight.test_rotr_wraparound)\n",
      "Test wrap-around where the least significant bit moves to the most significant bit. ... ok\n",
      "test_rotr_zero_rotation (__main__.TestRotateRight.test_rotr_zero_rotation)\n",
      "Test rotation by 0 positions (should return the original value). ... ok\n",
      "test_add_zero_padding (__main__.TestSHA256Padding.test_add_zero_padding)\n",
      "Test zero padding length is correct. ... ok\n",
      "test_append_one_bit (__main__.TestSHA256Padding.test_append_one_bit)\n",
      "Test appending the 1-bit to the message. ... ok\n",
      "test_append_original_length (__main__.TestSHA256Padding.test_append_original_length)\n",
      "Ensure the correct 64-bit length is appended. ... ok\n",
      "test_compute_original_bit_length (__main__.TestSHA256Padding.test_compute_original_bit_length)\n",
      "Check if the function correctly calculates bit length. ... ok\n",
      "test_extract_padding (__main__.TestSHA256Padding.test_extract_padding)\n",
      "Check if padding extraction works correctly. ... ok\n",
      "test_read_file (__main__.TestSHA256Padding.test_read_file)\n",
      "Ensure the file is read correctly. ... ok\n",
      "\n",
      "----------------------------------------------------------------------\n",
      "Ran 33 tests in 0.026s\n",
      "\n",
      "OK\n"
     ]
    },
    {
     "data": {
      "text/plain": [
       "<unittest.main.TestProgram at 0x119abf850>"
      ]
     },
     "execution_count": 598,
     "metadata": {},
     "output_type": "execute_result"
    }
   ],
   "source": [
    "class TestBubbleSortComplexity(unittest.TestCase):\n",
    "    \n",
    "    def test_already_sorted(self):\n",
    "        \"\"\"\n",
    "        Test best-case scenario (already sorted list).\n",
    "        Should perform the minimum number of comparisons.\n",
    "        \"\"\"\n",
    "        sorted_list = [1, 2, 3, 4, 5]\n",
    "        _, comparisons = bubble_sort_count_comparisons(sorted_list.copy())\n",
    "        self.assertEqual(comparisons, 4)  # Best case = n-1 comparisons\n",
    "\n",
    "    def test_reverse_sorted(self):\n",
    "        \"\"\"\n",
    "        Test worst-case scenario (reverse sorted list).\n",
    "        Should perform the maximum number of comparisons.\n",
    "        \"\"\"\n",
    "        reverse_list = [5, 4, 3, 2, 1]\n",
    "        _, comparisons = bubble_sort_count_comparisons(reverse_list.copy())\n",
    "        self.assertEqual(comparisons, 10)  # Worst case = sum of n-1 down to 1\n",
    "\n",
    "    def test_random_order(self):\n",
    "        \"\"\"\n",
    "        Test a random permutation.\n",
    "        \"\"\"\n",
    "        test_list = [3, 1, 5, 4, 2]\n",
    "        _, comparisons = bubble_sort_count_comparisons(test_list.copy())\n",
    "        self.assertTrue(comparisons >= 4 and comparisons <= 10)\n",
    "\n",
    "    def test_single_element(self):\n",
    "        \"\"\"\n",
    "        Test list with only one element.\n",
    "        Should not require any comparisons.\n",
    "        \"\"\"\n",
    "        _, comparisons = bubble_sort_count_comparisons([42])\n",
    "        self.assertEqual(comparisons, 0)\n",
    "\n",
    "    def test_empty_list(self):\n",
    "        \"\"\"\n",
    "        Test an empty list.\n",
    "        Should not require any comparisons.\n",
    "        \"\"\"\n",
    "        _, comparisons = bubble_sort_count_comparisons([])\n",
    "        self.assertEqual(comparisons, 0)\n",
    "\n",
    "# Run the tests\n",
    "unittest.main(argv=[''], verbosity=2, exit=False)\n"
   ]
  },
  {
   "cell_type": "markdown",
   "metadata": {},
   "source": [
    "### 🔍 Key Takeaways\n",
    "\n",
    "Bubble Sort is a simple comparison-based algorithm that repeatedly steps through the list, comparing adjacent elements and swapping them if they are in the wrong order.\n",
    "\n",
    "The number of comparisons varies depending on the input order:\n",
    "\n",
    "- **Best Case**: Already sorted list → early termination reduces comparisons.\n",
    "- **Worst Case**: Reverse sorted list → requires maximum number of comparisons.\n",
    "- **Average Case**: Random permutations tend to be closer to the worst case.\n",
    "\n",
    "Using `itertools.permutations`, we analyzed all **120 permutations** of the list `[1, 2, 3, 4, 5]` to quantify sorting effort.\n",
    "\n",
    "This analysis confirms that Bubble Sort has:\n",
    "\n",
    "- **Best-case time complexity**: `O(n)`\n",
    "- **Average-case and worst-case complexity**: `O(n²)`\n",
    "\n",
    "A brute-force approach like this is viable for small input sizes and is useful for understanding algorithmic behavior in practice.\n",
    "\n",
    "---\n",
    "\n",
    "### 📊 Comparisons vs. Complexity Summary\n",
    "\n",
    "| **Input Type**      | **Example Permutation** | **Number of Comparisons** | **Theoretical Complexity** |\n",
    "|---------------------|--------------------------|----------------------------|-----------------------------|\n",
    "| Already Sorted      | `(1, 2, 3, 4, 5)`        | `4`                        | Best Case → `O(n)`         |\n",
    "| Reverse Sorted      | `(5, 4, 3, 2, 1)`        | `10`                       | Worst Case → `O(n²)`       |\n",
    "| Random (shuffled)   | `(3, 1, 4, 2, 5)`        | `~7–9 (varies)`            | Average Case → `O(n²)`     |\n",
    "| Single Element List | `[1]`                    | `0`                        | `O(1)`                     |\n",
    "| Empty List          | `[]`                     | `0`                        | `O(1)`                     |\n"
   ]
  },
  {
   "cell_type": "markdown",
   "metadata": {},
   "source": [
    "### Visualization of Bubble Sort Complexity\n",
    "This visualization illustrates the comparison between best, worst, and average case scenarios for our list of `size n=5`. \n",
    "The second chart shows how these complexity classes grow as the input size increases, highlighting the difference between \n",
    "`linear growth (O(n)) and quadratic growth (O(n²)).`"
   ]
  },
  {
   "cell_type": "code",
   "execution_count": 645,
   "metadata": {},
   "outputs": [
    {
     "data": {
      "image/png": "[encoded data removed]",
      "text/plain": [
       "<Figure size 1800x600 with 2 Axes>"
      ]
     },
     "metadata": {},
     "output_type": "display_data"
    }
   ],
   "source": [
    "best_case = 4  # Already sorted list [1,2,3,4,5]\n",
    "worst_case = 10  # Reverse sorted list [5,4,3,2,1]\n",
    "average_case = 9.26  # Average from all 120 permutations\n",
    "\n",
    "# Create figure with two subplots\n",
    "fig, (ax1, ax2) = plt.subplots(1, 2, figsize=(18, 6))\n",
    "\n",
    "# Bar chart for comparison counts (first subplot)\n",
    "cases = ['Best Case', 'Average Case', 'Worst Case']\n",
    "comparisons = [best_case, average_case, worst_case]\n",
    "colors = ['#4CAF50', '#2196F3', '#F44336']  # Green, Blue, Red\n",
    "\n",
    "bars = ax1.bar(cases, comparisons, color=colors)\n",
    "ax1.set_ylabel('Number of Comparisons', fontsize=12)\n",
    "ax1.set_title('Bubble Sort Complexity Analysis for n=5', fontsize=14)\n",
    "ax1.set_ylim(0, 30)  # Setting y-axis limit\n",
    "\n",
    "# Add the exact values on top of each bar\n",
    "for bar in bars:\n",
    "    height = bar.get_height()\n",
    "    ax1.text(bar.get_x() + bar.get_width()/2., height + 0.5,\n",
    "             f'{height:.2f}' if height != int(height) else f'{int(height)}',\n",
    "             ha='center', fontsize=11)\n",
    "\n",
    "# Add a theoretical line showing O(n²) growth\n",
    "ax1.axhline(y=5**2, color='gray', linestyle='--', alpha=0.7)\n",
    "ax1.text(1.5, 5**2 + 0.5, 'Theoretical O(n²) = 25', fontsize=10)\n",
    "\n",
    "# Add annotation explaining the actual counts are lower due to optimizations\n",
    "ax1.annotate('Actual counts are lower than n² due to\\nearly termination and n-1 optimizations', \n",
    "             xy=(1, worst_case + 1), xytext=(1, 17),\n",
    "             arrowprops=dict(arrowstyle='->'), fontsize=10)\n",
    "\n",
    "# Line chart showing how complexity grows with input size (second subplot)\n",
    "sizes = np.arange(1, 11)  # List sizes from 1 to 10\n",
    "best_cases = sizes - 1  # For already sorted lists: n-1 comparisons\n",
    "best_cases[0] = 0  # Handle n=1 case\n",
    "worst_cases = (sizes * (sizes - 1)) / 2  # For reverse sorted lists: n(n-1)/2 comparisons\n",
    "average_cases = worst_cases * 0.8  # Approximate average case\n",
    "\n",
    "ax2.plot(sizes, best_cases, 'o-', label='Best Case (O(n))', color='#4CAF50', linewidth=2)\n",
    "ax2.plot(sizes, average_cases, 'o-', label='Average Case (O(n²))', color='#2196F3', linewidth=2)\n",
    "ax2.plot(sizes, worst_cases, 'o-', label='Worst Case (O(n²))', color='#F44336', linewidth=2)\n",
    "\n",
    "ax2.set_xlabel('Input Size (n)', fontsize=12)\n",
    "ax2.set_ylabel('Number of Comparisons', fontsize=12)\n",
    "ax2.set_title('Bubble Sort Complexity Growth', fontsize=14)\n",
    "ax2.legend()\n",
    "ax2.grid(alpha=0.3)\n",
    "\n",
    "# Add annotation for n=5\n",
    "ax2.axvline(x=5, color='gray', linestyle='--', alpha=0.5)\n",
    "ax2.text(5.1, 5, 'Your analysis point (n=5)', fontsize=10)\n",
    "\n",
    "# Improve visual appeal\n",
    "ax1.grid(axis='y', alpha=0.3)\n",
    "ax2.grid(alpha=0.3)\n",
    "\n",
    "plt.tight_layout()\n",
    "plt.show()"
   ]
  },
  {
   "cell_type": "markdown",
   "metadata": {},
   "source": [
    "---\n",
    "\n",
    "# Final Thoughts\n",
    "\n",
    "Completing this notebook gave me a much deeper appreciation for the building blocks of computational theory. Each task offered a chance to apply theoretical concepts in a hands-on way — from working with low-level bitwise operations to analyzing algorithm complexity using actual data.\n",
    "\n",
    "I especially enjoyed the crossover between math and programming in tasks like the SHA-256 padding and Turing Machine simulation. These exercises showed me how even the simplest functions can become powerful when used in the right context — such as cryptography or blockchain systems.\n",
    "\n",
    "By the end of this project, I’ve gained:\n",
    "\n",
    "- A stronger understanding of **how algorithms behave** under different conditions.\n",
    "- Practical skills in **debugging, testing, and optimizing** code.\n",
    "- Confidence in applying theoretical knowledge to **real-world problems**.\n",
    "\n",
    "This notebook wasn’t just about solving problems — it was about seeing how theory translates into computation.\n",
    "\n",
    "---\n"
   ]
  }
 ],
 "metadata": {
  "kernelspec": {
   "display_name": ".venvsophieboyle",
   "language": "python",
   "name": "python3"
  },
  "language_info": {
   "codemirror_mode": {
    "name": "ipython",
    "version": 3
   },
   "file_extension": ".py",
   "mimetype": "text/x-python",
   "name": "python",
   "nbconvert_exporter": "python",
   "pygments_lexer": "ipython3",
   "version": "3.13.1"
  }
 },
 "nbformat": 4,
 "nbformat_minor": 2
}
