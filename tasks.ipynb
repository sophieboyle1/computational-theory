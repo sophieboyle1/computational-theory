{
 "cells": [
  {
   "cell_type": "markdown",
   "metadata": {},
   "source": [
    "### Task One: Binary Representations\n",
    "#### This task was all about working with bits. I had to implement four functions that manipulate bits in a 32-bit unsigned integer. These kinds of operations are essential in areas like cryptography and data compression, where you need to optimize data handling at the binary level."
   ]
  },
  {
   "cell_type": "markdown",
   "metadata": {},
   "source": [
    "### 1. **`rotl(x, n)`** – Rotates the bits of `x` to the left by `n` positions. Think of it like shifting bits around in a loop."
   ]
  },
  {
   "cell_type": "code",
   "execution_count": 22,
   "metadata": {},
   "outputs": [],
   "source": [
    "# Rotate Left Function\n",
    "def rotl(x: int, n: int = 1) -> int:\n",
    "    \"\"\"\n",
    "    Rotates the bits of a 32-bit unsigned integer to the left by n positions.\n",
    "    \"\"\"\n",
    "    n = n % 32  # Keep n in the range 0-31\n",
    "    return ((x << n) | (x >> (32 - n))) & 0xFFFFFFFF"
   ]
  },
  {
   "cell_type": "markdown",
   "metadata": {},
   "source": [
    "### Example Usage Of Rotl - This example rotates the bits of a number to the left by 4 positions and shows the result, including a case where all bits are set."
   ]
  },
  {
   "cell_type": "code",
   "execution_count": 24,
   "metadata": {},
   "outputs": [
    {
     "name": "stdout",
     "output_type": "stream",
     "text": [
      "Original value (bin): 0b1\n",
      "Rotated left by 4 (bin): 0b10000\n",
      "Rotated left (all bits set): 0b11111111111111111111111111111111\n"
     ]
    }
   ],
   "source": [
    "# Example usage of rotl\n",
    "x = 0b00000000000000000000000000000001  # Binary representation of 1\n",
    "rotated_value = rotl(x, 4)\n",
    "\n",
    "# Output the original and rotated values\n",
    "print(f\"Original value (bin): {bin(x)}\")\n",
    "print(f\"Rotated left by 4 (bin): {bin(rotated_value)}\")\n",
    "\n",
    "# Example with all bits set\n",
    "x_all_set = 0xFFFFFFFF  # All 32 bits set to 1\n",
    "rotated_all_set = rotl(x_all_set, 5)\n",
    "print(f\"Rotated left (all bits set): {bin(rotated_all_set)}\") \n"
   ]
  },
  {
   "cell_type": "markdown",
   "metadata": {},
   "source": [
    "### - Test Case For Rotate Left Function"
   ]
  },
  {
   "cell_type": "code",
   "execution_count": 26,
   "metadata": {},
   "outputs": [
    {
     "name": "stderr",
     "output_type": "stream",
     "text": [
      "test_rotl_basic (__main__.TestRotateLeft.test_rotl_basic) ... ok\n",
      "test_rotl_wraparound (__main__.TestRotateLeft.test_rotl_wraparound) ... ok\n",
      "test_rotl_zero_rotation (__main__.TestRotateLeft.test_rotl_zero_rotation) ... ok\n",
      "\n",
      "----------------------------------------------------------------------\n",
      "Ran 3 tests in 0.025s\n",
      "\n",
      "OK\n"
     ]
    },
    {
     "data": {
      "text/plain": [
       "<unittest.main.TestProgram at 0x1188c6ad0>"
      ]
     },
     "execution_count": 26,
     "metadata": {},
     "output_type": "execute_result"
    }
   ],
   "source": [
    "import unittest\n",
    "\n",
    "class TestRotateLeft(unittest.TestCase):\n",
    "\n",
    "    def test_rotl_basic(self):\n",
    "        self.assertEqual(rotl(0b0001, 4), 0b10000)\n",
    "\n",
    "    def test_rotl_wraparound(self):\n",
    "        self.assertEqual(rotl(0b10000000000000000000000000000000, 1), \n",
    "                         0b00000000000000000000000000000001)\n",
    "\n",
    "    def test_rotl_zero_rotation(self):\n",
    "        self.assertEqual(rotl(0b1010, 0), 0b1010)\n",
    "\n",
    "unittest.main(argv=[''], verbosity=2, exit=False)\n"
   ]
  },
  {
   "cell_type": "markdown",
   "metadata": {},
   "source": [
    "### 2. **`rotr(x, n)`** – Same thing as `rotl`, but in the opposite direction (to the right)."
   ]
  },
  {
   "cell_type": "code",
   "execution_count": 27,
   "metadata": {},
   "outputs": [],
   "source": [
    "# Rotate Right Function\n",
    "def rotr(x: int, n: int = 1) -> int:\n",
    "    \"\"\"\n",
    "    Rotates the bits of a 32-bit unsigned integer to the right by n positions.\n",
    "    \"\"\"\n",
    "    n = n % 32  # Keep n in the range 0-31\n",
    "    return ((x >> n) | (x << (32 - n))) & 0xFFFFFFFF"
   ]
  },
  {
   "cell_type": "markdown",
   "metadata": {},
   "source": [
    "### Example Usage Of Rotr - This example demonstrates rotating a number's bits to the right by 1 and 2 positions, including a case with a repeating bit pattern."
   ]
  },
  {
   "cell_type": "code",
   "execution_count": 28,
   "metadata": {},
   "outputs": [
    {
     "name": "stdout",
     "output_type": "stream",
     "text": [
      "Original value (bin): 0b10000000000000000000000000000000\n",
      "Rotated right by 1 (bin): 0b1000000000000000000000000000000\n",
      "Original value (bin): 0b11001100110011001100110011001100\n",
      "Rotated right by 2 (bin): 0b110011001100110011001100110011\n"
     ]
    }
   ],
   "source": [
    "# Example usage of rotr\n",
    "x = 0b10000000000000000000000000000000  # Binary representation with only the most significant bit set\n",
    "rotated_value = rotr(x, 1)\n",
    "\n",
    "# Output the original and rotated values\n",
    "print(f\"Original value (bin): {bin(x)}\")\n",
    "print(f\"Rotated right by 1 (bin): {bin(rotated_value)}\")\n",
    "\n",
    "# Example with a pattern\n",
    "x_pattern = 0b11001100110011001100110011001100\n",
    "rotated_pattern = rotr(x_pattern, 2)\n",
    "print(f\"Original value (bin): {bin(x_pattern)}\") \n",
    "print(f\"Rotated right by 2 (bin): {bin(rotated_pattern)}\")\n"
   ]
  },
  {
   "cell_type": "markdown",
   "metadata": {},
   "source": [
    "### - Test Case For Rotate Right Function"
   ]
  },
  {
   "cell_type": "code",
   "execution_count": 33,
   "metadata": {},
   "outputs": [
    {
     "name": "stderr",
     "output_type": "stream",
     "text": [
      "test_rotl_basic (__main__.TestRotateLeft.test_rotl_basic) ... ok\n",
      "test_rotl_wraparound (__main__.TestRotateLeft.test_rotl_wraparound) ... ok\n",
      "test_rotl_zero_rotation (__main__.TestRotateLeft.test_rotl_zero_rotation) ... ok\n",
      "test_rotr_basic (__main__.TestRotateRight.test_rotr_basic)\n",
      "Test basic right rotation by 1 position. ... ok\n",
      "test_rotr_wraparound (__main__.TestRotateRight.test_rotr_wraparound)\n",
      "Test wrap-around where the least significant bit moves to the most significant bit. ... ok\n",
      "test_rotr_zero_rotation (__main__.TestRotateRight.test_rotr_zero_rotation)\n",
      "Test rotation by 0 positions (should return the original value). ... ok\n",
      "\n",
      "----------------------------------------------------------------------\n",
      "Ran 6 tests in 0.006s\n",
      "\n",
      "OK\n"
     ]
    },
    {
     "data": {
      "text/plain": [
       "<unittest.main.TestProgram at 0x118e091d0>"
      ]
     },
     "execution_count": 33,
     "metadata": {},
     "output_type": "execute_result"
    }
   ],
   "source": [
    "import unittest\n",
    "\n",
    "class TestRotateRight(unittest.TestCase):\n",
    "\n",
    "    def test_rotr_basic(self):\n",
    "        \"\"\"Test basic right rotation by 1 position.\"\"\"\n",
    "        self.assertEqual(rotr(0b1000, 1), 0b0100)\n",
    "\n",
    "    def test_rotr_wraparound(self):\n",
    "        \"\"\"Test wrap-around where the least significant bit moves to the most significant bit.\"\"\"\n",
    "        self.assertEqual(rotr(0b00000000000000000000000000000001, 1), \n",
    "                         0b10000000000000000000000000000000)\n",
    "\n",
    "    def test_rotr_zero_rotation(self):\n",
    "        \"\"\"Test rotation by 0 positions (should return the original value).\"\"\"\n",
    "        self.assertEqual(rotr(0b1010, 0), 0b1010)\n",
    "\n",
    "unittest.main(argv=[''], verbosity=2, exit=False)\n"
   ]
  },
  {
   "cell_type": "markdown",
   "metadata": {},
   "source": [
    "### 3. **`ch(x, y, z)`** – This function picks bits from either `y` or `z`, depending on the value of `x`. It's a conditional bit selector."
   ]
  },
  {
   "cell_type": "code",
   "execution_count": 29,
   "metadata": {},
   "outputs": [],
   "source": [
    "# Choose Function \n",
    "def ch(x: int, y: int, z: int) -> int:\n",
    "    \"\"\"\n",
    "    Chooses bits from y where x has bits set to 1, and from z where x has bits set to 0.\n",
    "    \"\"\"\n",
    "    return (x & y) | (~x & z) & 0xFFFFFFFF"
   ]
  },
  {
   "cell_type": "markdown",
   "metadata": {},
   "source": [
    "### Example Usage Of CH - This example demonstrates the ch function, which selects bits from y where x has 1s and from z where x has 0s, producing a result based on the selector bits in x."
   ]
  },
  {
   "cell_type": "code",
   "execution_count": 30,
   "metadata": {},
   "outputs": [
    {
     "name": "stdout",
     "output_type": "stream",
     "text": [
      "Selector (x):   0b10101010\n",
      "Option 1 (y):   0b11111111\n",
      "Option 2 (z):   0b0\n",
      "Chosen result:  0b10101010\n"
     ]
    }
   ],
   "source": [
    "# Example usage of ch\n",
    "x = 0b10101010  # Selector bits\n",
    "y = 0b11111111  # Bits to choose when x has 1s\n",
    "z = 0b00000000  # Bits to choose when x has 0s\n",
    "\n",
    "chosen_bits = ch(x, y, z)\n",
    "\n",
    "# Output the result of the choose function\n",
    "print(f\"Selector (x):   {bin(x)}\") \n",
    "print(f\"Option 1 (y):   {bin(y)}\")\n",
    "print(f\"Option 2 (z):   {bin(z)}\")\n",
    "print(f\"Chosen result:  {bin(chosen_bits)}\")"
   ]
  },
  {
   "cell_type": "markdown",
   "metadata": {},
   "source": [
    "##### 4. **`maj(x, y, z)`** – Calculates the majority bit for each position across `x`, `y`, and `z`. If at least two of the inputs have a `1` in a position, the result gets a `1`."
   ]
  },
  {
   "cell_type": "code",
   "execution_count": 31,
   "metadata": {},
   "outputs": [],
   "source": [
    "# Majority Function\n",
    "def maj(x: int, y: int, z: int) -> int:\n",
    "    \"\"\"\n",
    "    Computes the majority function on the bits of x, y, and z.\n",
    "    \"\"\"\n",
    "    return (x & y) | (x & z) | (y & z) & 0xFFFFFFFF"
   ]
  },
  {
   "cell_type": "code",
   "execution_count": 32,
   "metadata": {},
   "outputs": [
    {
     "name": "stdout",
     "output_type": "stream",
     "text": [
      "Input 1 (x):    0b10101010\n",
      "Input 2 (y):    0b11110000\n",
      "Input 3 (z):    0b1111\n",
      "Majority result: 0b10101010\n"
     ]
    }
   ],
   "source": [
    "# Example usage of maj\n",
    "x = 0b10101010  # Input 1\n",
    "y = 0b11110000  # Input 2\n",
    "z = 0b00001111  # Input 3\n",
    "\n",
    "majority_bits = maj(x, y, z)\n",
    "\n",
    "# Output the result of the majority function\n",
    "print(f\"Input 1 (x):    {bin(x)}\") \n",
    "print(f\"Input 2 (y):    {bin(y)}\")\n",
    "print(f\"Input 3 (z):    {bin(z)}\")\n",
    "print(f\"Majority result: {bin(majority_bits)}\")\n"
   ]
  }
 ],
 "metadata": {
  "kernelspec": {
   "display_name": "Python 3",
   "language": "python",
   "name": "python3"
  },
  "language_info": {
   "codemirror_mode": {
    "name": "ipython",
    "version": 3
   },
   "file_extension": ".py",
   "mimetype": "text/x-python",
   "name": "python",
   "nbconvert_exporter": "python",
   "pygments_lexer": "ipython3",
   "version": "3.13.0"
  }
 },
 "nbformat": 4,
 "nbformat_minor": 2
}
