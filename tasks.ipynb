{
 "cells": [
  {
   "cell_type": "markdown",
   "metadata": {},
   "source": [
    "## Task One: Binary Representations\n",
    "\n",
    "#### This task was all about working with bits. I had to implement four functions that manipulate bits in a 32-bit unsigned integer. These kinds of operations are essential in areas like cryptography and data compression, where you need to optimize data handling at the binary level."
   ]
  },
  {
   "cell_type": "markdown",
   "metadata": {},
   "source": [
    "### 1. **`rotl(x, n)`** – Rotates the bits of `x` to the left by `n` positions. Think of it like shifting bits around in a loop.\n"
   ]
  },
  {
   "cell_type": "code",
   "execution_count": 67,
   "metadata": {},
   "outputs": [],
   "source": [
    "# Rotate Left Function\n",
    "def rotl(x: int, n: int = 1) -> int:\n",
    "    \"\"\"\n",
    "    Rotates the bits of a 32-bit unsigned integer to the left by n positions.\n",
    "    \"\"\"\n",
    "    n = n % 32  # Keep n in the range 0-31\n",
    "    return ((x << n) | (x >> (32 - n))) & 0xFFFFFFFF"
   ]
  },
  {
   "cell_type": "markdown",
   "metadata": {},
   "source": [
    "### Example Usage Of Rotl - This example rotates the bits of a number to the left by 4 positions and shows the result, including a case where all bits are set.\n"
   ]
  },
  {
   "cell_type": "code",
   "execution_count": 68,
   "metadata": {},
   "outputs": [
    {
     "name": "stdout",
     "output_type": "stream",
     "text": [
      "Original value (bin): 0b1\n",
      "Rotated left by 4 (bin): 0b10000\n",
      "Rotated left (all bits set): 0b11111111111111111111111111111111\n"
     ]
    }
   ],
   "source": [
    "# Example usage of rotl\n",
    "x = 0b00000000000000000000000000000001  # Binary representation of 1\n",
    "rotated_value = rotl(x, 4)\n",
    "\n",
    "# Output the original and rotated values\n",
    "print(f\"Original value (bin): {bin(x)}\")\n",
    "print(f\"Rotated left by 4 (bin): {bin(rotated_value)}\")\n",
    "\n",
    "# Example with all bits set\n",
    "x_all_set = 0xFFFFFFFF  # All 32 bits set to 1\n",
    "rotated_all_set = rotl(x_all_set, 5)\n",
    "print(f\"Rotated left (all bits set): {bin(rotated_all_set)}\") \n"
   ]
  },
  {
   "cell_type": "markdown",
   "metadata": {},
   "source": [
    "### - Test Case For Rotate Left Function\n"
   ]
  },
  {
   "cell_type": "code",
   "execution_count": 69,
   "metadata": {},
   "outputs": [
    {
     "name": "stderr",
     "output_type": "stream",
     "text": [
      "test_ch_all_ones_selector (__main__.TestChooseFunction.test_ch_all_ones_selector)\n",
      "Test when the selector is all 1s (should return y). ... ok\n",
      "test_ch_all_zeros_selector (__main__.TestChooseFunction.test_ch_all_zeros_selector)\n",
      "Test when the selector is all 0s (should return z). ... ok\n",
      "test_ch_alternating_pattern (__main__.TestChooseFunction.test_ch_alternating_pattern)\n",
      "Test with alternating selector bits. ... ok\n",
      "test_ch_basic (__main__.TestChooseFunction.test_ch_basic)\n",
      "Test basic choose function with a mix of 1s and 0s in the selector. ... ok\n",
      "test_maj_all_ones (__main__.TestMajorityFunction.test_maj_all_ones)\n",
      "Test when all inputs are ones (result should be all ones). ... ok\n",
      "test_maj_all_zeros (__main__.TestMajorityFunction.test_maj_all_zeros)\n",
      "Test when all inputs are zeros (result should be all zeros). ... ok\n",
      "test_maj_basic (__main__.TestMajorityFunction.test_maj_basic)\n",
      "Test majority function with mixed input bits. ... ok\n",
      "test_maj_pattern_mixed_bits (__main__.TestMajorityFunction.test_maj_pattern_mixed_bits)\n",
      "Test a case with a mix of majority and minority bits. ... ok\n",
      "test_maj_two_majority_bits (__main__.TestMajorityFunction.test_maj_two_majority_bits)\n",
      "Test when two inputs agree on bits and the third differs. ... ok\n",
      "test_rotl_basic (__main__.TestRotateLeft.test_rotl_basic) ... ok\n",
      "test_rotl_wraparound (__main__.TestRotateLeft.test_rotl_wraparound) ... ok\n",
      "test_rotl_zero_rotation (__main__.TestRotateLeft.test_rotl_zero_rotation) ... ok\n",
      "test_rotr_basic (__main__.TestRotateRight.test_rotr_basic)\n",
      "Test basic right rotation by 1 position. ... ok\n",
      "test_rotr_wraparound (__main__.TestRotateRight.test_rotr_wraparound)\n",
      "Test wrap-around where the least significant bit moves to the most significant bit. ... ok\n",
      "test_rotr_zero_rotation (__main__.TestRotateRight.test_rotr_zero_rotation)\n",
      "Test rotation by 0 positions (should return the original value). ... ok\n",
      "\n",
      "----------------------------------------------------------------------\n",
      "Ran 15 tests in 0.036s\n",
      "\n",
      "OK\n"
     ]
    },
    {
     "data": {
      "text/plain": [
       "<unittest.main.TestProgram at 0x118de1d50>"
      ]
     },
     "execution_count": 69,
     "metadata": {},
     "output_type": "execute_result"
    }
   ],
   "source": [
    "import unittest\n",
    "\n",
    "class TestRotateLeft(unittest.TestCase):\n",
    "\n",
    "    def test_rotl_basic(self):\n",
    "        self.assertEqual(rotl(0b0001, 4), 0b10000)\n",
    "\n",
    "    def test_rotl_wraparound(self):\n",
    "        self.assertEqual(rotl(0b10000000000000000000000000000000, 1), \n",
    "                         0b00000000000000000000000000000001)\n",
    "\n",
    "    def test_rotl_zero_rotation(self):\n",
    "        self.assertEqual(rotl(0b1010, 0), 0b1010)\n",
    "\n",
    "unittest.main(argv=[''], verbosity=2, exit=False)\n"
   ]
  },
  {
   "cell_type": "markdown",
   "metadata": {},
   "source": [
    "### 2. **`rotr(x, n)`** – Same thing as `rotl`, but in the opposite direction (to the right).\n"
   ]
  },
  {
   "cell_type": "code",
   "execution_count": 70,
   "metadata": {},
   "outputs": [],
   "source": [
    "# Rotate Right Function\n",
    "def rotr(x: int, n: int = 1) -> int:\n",
    "    \"\"\"\n",
    "    Rotates the bits of a 32-bit unsigned integer to the right by n positions.\n",
    "    \"\"\"\n",
    "    n = n % 32  # Keep n in the range 0-31\n",
    "    return ((x >> n) | (x << (32 - n))) & 0xFFFFFFFF"
   ]
  },
  {
   "cell_type": "markdown",
   "metadata": {},
   "source": [
    "### Example Usage Of Rotr - This example demonstrates rotating a number's bits to the right by 1 and 2 positions, including a case with a repeating bit pattern.\n"
   ]
  },
  {
   "cell_type": "code",
   "execution_count": 71,
   "metadata": {},
   "outputs": [
    {
     "name": "stdout",
     "output_type": "stream",
     "text": [
      "Original value (bin): 0b10000000000000000000000000000000\n",
      "Rotated right by 1 (bin): 0b1000000000000000000000000000000\n",
      "Original value (bin): 0b11001100110011001100110011001100\n",
      "Rotated right by 2 (bin): 0b110011001100110011001100110011\n"
     ]
    }
   ],
   "source": [
    "# Example usage of rotr\n",
    "x = 0b10000000000000000000000000000000  # Binary representation with only the most significant bit set\n",
    "rotated_value = rotr(x, 1)\n",
    "\n",
    "# Output the original and rotated values\n",
    "print(f\"Original value (bin): {bin(x)}\")\n",
    "print(f\"Rotated right by 1 (bin): {bin(rotated_value)}\")\n",
    "\n",
    "# Example with a pattern\n",
    "x_pattern = 0b11001100110011001100110011001100\n",
    "rotated_pattern = rotr(x_pattern, 2)\n",
    "print(f\"Original value (bin): {bin(x_pattern)}\") \n",
    "print(f\"Rotated right by 2 (bin): {bin(rotated_pattern)}\")\n"
   ]
  },
  {
   "cell_type": "markdown",
   "metadata": {},
   "source": [
    "### - Test Case For Rotate Right Function\n"
   ]
  },
  {
   "cell_type": "code",
   "execution_count": 72,
   "metadata": {},
   "outputs": [
    {
     "name": "stderr",
     "output_type": "stream",
     "text": [
      "test_ch_all_ones_selector (__main__.TestChooseFunction.test_ch_all_ones_selector)\n",
      "Test when the selector is all 1s (should return y). ... ok\n",
      "test_ch_all_zeros_selector (__main__.TestChooseFunction.test_ch_all_zeros_selector)\n",
      "Test when the selector is all 0s (should return z). ... ok\n",
      "test_ch_alternating_pattern (__main__.TestChooseFunction.test_ch_alternating_pattern)\n",
      "Test with alternating selector bits. ... ok\n",
      "test_ch_basic (__main__.TestChooseFunction.test_ch_basic)\n",
      "Test basic choose function with a mix of 1s and 0s in the selector. ... ok\n",
      "test_maj_all_ones (__main__.TestMajorityFunction.test_maj_all_ones)\n",
      "Test when all inputs are ones (result should be all ones). ... ok\n",
      "test_maj_all_zeros (__main__.TestMajorityFunction.test_maj_all_zeros)\n",
      "Test when all inputs are zeros (result should be all zeros). ... ok\n",
      "test_maj_basic (__main__.TestMajorityFunction.test_maj_basic)\n",
      "Test majority function with mixed input bits. ... ok\n",
      "test_maj_pattern_mixed_bits (__main__.TestMajorityFunction.test_maj_pattern_mixed_bits)\n",
      "Test a case with a mix of majority and minority bits. ... ok\n",
      "test_maj_two_majority_bits (__main__.TestMajorityFunction.test_maj_two_majority_bits)\n",
      "Test when two inputs agree on bits and the third differs. ... ok\n",
      "test_rotl_basic (__main__.TestRotateLeft.test_rotl_basic) ... ok\n",
      "test_rotl_wraparound (__main__.TestRotateLeft.test_rotl_wraparound) ... ok\n",
      "test_rotl_zero_rotation (__main__.TestRotateLeft.test_rotl_zero_rotation) ... ok\n",
      "test_rotr_basic (__main__.TestRotateRight.test_rotr_basic)\n",
      "Test basic right rotation by 1 position. ... ok\n",
      "test_rotr_wraparound (__main__.TestRotateRight.test_rotr_wraparound)\n",
      "Test wrap-around where the least significant bit moves to the most significant bit. ... ok\n",
      "test_rotr_zero_rotation (__main__.TestRotateRight.test_rotr_zero_rotation)\n",
      "Test rotation by 0 positions (should return the original value). ... ok\n",
      "\n",
      "----------------------------------------------------------------------\n",
      "Ran 15 tests in 0.004s\n",
      "\n",
      "OK\n"
     ]
    },
    {
     "data": {
      "text/plain": [
       "<unittest.main.TestProgram at 0x118de1550>"
      ]
     },
     "execution_count": 72,
     "metadata": {},
     "output_type": "execute_result"
    }
   ],
   "source": [
    "import unittest\n",
    "\n",
    "class TestRotateRight(unittest.TestCase):\n",
    "\n",
    "    def test_rotr_basic(self):\n",
    "        \"\"\"Test basic right rotation by 1 position.\"\"\"\n",
    "        self.assertEqual(rotr(0b1000, 1), 0b0100)\n",
    "\n",
    "    def test_rotr_wraparound(self):\n",
    "        \"\"\"Test wrap-around where the least significant bit moves to the most significant bit.\"\"\"\n",
    "        self.assertEqual(rotr(0b00000000000000000000000000000001, 1), \n",
    "                         0b10000000000000000000000000000000)\n",
    "\n",
    "    def test_rotr_zero_rotation(self):\n",
    "        \"\"\"Test rotation by 0 positions (should return the original value).\"\"\"\n",
    "        self.assertEqual(rotr(0b1010, 0), 0b1010)\n",
    "\n",
    "unittest.main(argv=[''], verbosity=2, exit=False)\n"
   ]
  },
  {
   "cell_type": "markdown",
   "metadata": {},
   "source": [
    "\n",
    "### 3. **`ch(x, y, z)`** – This function picks bits from either `y` or `z`, depending on the value of `x`. It's a conditional bit selector.\n"
   ]
  },
  {
   "cell_type": "code",
   "execution_count": 73,
   "metadata": {},
   "outputs": [],
   "source": [
    "# Choose Function \n",
    "def ch(x: int, y: int, z: int) -> int:\n",
    "    \"\"\"\n",
    "    Chooses bits from y where x has bits set to 1, and from z where x has bits set to 0.\n",
    "    \"\"\"\n",
    "    return (x & y) | (~x & z) & 0xFFFFFFFF"
   ]
  },
  {
   "cell_type": "markdown",
   "metadata": {},
   "source": [
    "\n",
    "### Example Usage Of CH - This example demonstrates the ch function, which selects bits from y where x has 1s and from z where x has 0s, producing a result based on the selector bits in x.\n"
   ]
  },
  {
   "cell_type": "code",
   "execution_count": 74,
   "metadata": {},
   "outputs": [
    {
     "name": "stdout",
     "output_type": "stream",
     "text": [
      "Selector (x):   0b10101010\n",
      "Option 1 (y):   0b11111111\n",
      "Option 2 (z):   0b0\n",
      "Chosen result:  0b10101010\n"
     ]
    }
   ],
   "source": [
    "# Example usage of ch\n",
    "x = 0b10101010  # Selector bits\n",
    "y = 0b11111111  # Bits to choose when x has 1s\n",
    "z = 0b00000000  # Bits to choose when x has 0s\n",
    "\n",
    "chosen_bits = ch(x, y, z)\n",
    "\n",
    "# Output the result of the choose function\n",
    "print(f\"Selector (x):   {bin(x)}\") \n",
    "print(f\"Option 1 (y):   {bin(y)}\")\n",
    "print(f\"Option 2 (z):   {bin(z)}\")\n",
    "print(f\"Chosen result:  {bin(chosen_bits)}\")"
   ]
  },
  {
   "cell_type": "markdown",
   "metadata": {},
   "source": [
    "### - Test Case for CH Function\n"
   ]
  },
  {
   "cell_type": "code",
   "execution_count": 75,
   "metadata": {},
   "outputs": [
    {
     "name": "stderr",
     "output_type": "stream",
     "text": [
      "test_ch_all_ones_selector (__main__.TestChooseFunction.test_ch_all_ones_selector)\n",
      "Test when the selector is all 1s (should return y). ... ok\n",
      "test_ch_all_zeros_selector (__main__.TestChooseFunction.test_ch_all_zeros_selector)\n",
      "Test when the selector is all 0s (should return z). ... ok\n",
      "test_ch_alternating_pattern (__main__.TestChooseFunction.test_ch_alternating_pattern)\n",
      "Test with alternating selector bits. ... ok\n",
      "test_ch_basic (__main__.TestChooseFunction.test_ch_basic)\n",
      "Test basic choose function with a mix of 1s and 0s in the selector. ... ok\n",
      "test_maj_all_ones (__main__.TestMajorityFunction.test_maj_all_ones)\n",
      "Test when all inputs are ones (result should be all ones). ... ok\n",
      "test_maj_all_zeros (__main__.TestMajorityFunction.test_maj_all_zeros)\n",
      "Test when all inputs are zeros (result should be all zeros). ... ok\n",
      "test_maj_basic (__main__.TestMajorityFunction.test_maj_basic)\n",
      "Test majority function with mixed input bits. ... ok\n",
      "test_maj_pattern_mixed_bits (__main__.TestMajorityFunction.test_maj_pattern_mixed_bits)\n",
      "Test a case with a mix of majority and minority bits. ... ok\n",
      "test_maj_two_majority_bits (__main__.TestMajorityFunction.test_maj_two_majority_bits)\n",
      "Test when two inputs agree on bits and the third differs. ... ok\n",
      "test_rotl_basic (__main__.TestRotateLeft.test_rotl_basic) ... ok\n",
      "test_rotl_wraparound (__main__.TestRotateLeft.test_rotl_wraparound) ... ok\n",
      "test_rotl_zero_rotation (__main__.TestRotateLeft.test_rotl_zero_rotation) ... ok\n",
      "test_rotr_basic (__main__.TestRotateRight.test_rotr_basic)\n",
      "Test basic right rotation by 1 position. ... ok\n",
      "test_rotr_wraparound (__main__.TestRotateRight.test_rotr_wraparound)\n",
      "Test wrap-around where the least significant bit moves to the most significant bit. ... ok\n",
      "test_rotr_zero_rotation (__main__.TestRotateRight.test_rotr_zero_rotation)\n",
      "Test rotation by 0 positions (should return the original value). ... ok\n",
      "\n",
      "----------------------------------------------------------------------\n",
      "Ran 15 tests in 0.004s\n",
      "\n",
      "OK\n"
     ]
    },
    {
     "data": {
      "text/plain": [
       "<unittest.main.TestProgram at 0x118de2950>"
      ]
     },
     "execution_count": 75,
     "metadata": {},
     "output_type": "execute_result"
    }
   ],
   "source": [
    "import unittest\n",
    "\n",
    "class TestChooseFunction(unittest.TestCase):\n",
    "\n",
    "    def test_ch_basic(self):\n",
    "        \"\"\"Test basic choose function with a mix of 1s and 0s in the selector.\"\"\"\n",
    "        self.assertEqual(ch(0b10101010, 0b11111111, 0b00000000), 0b10101010)\n",
    "\n",
    "    def test_ch_all_ones_selector(self):\n",
    "        \"\"\"Test when the selector is all 1s (should return y).\"\"\"\n",
    "        self.assertEqual(ch(0b11111111, 0b10101010, 0b01010101), 0b10101010)\n",
    "\n",
    "    def test_ch_all_zeros_selector(self):\n",
    "        \"\"\"Test when the selector is all 0s (should return z).\"\"\"\n",
    "        self.assertEqual(ch(0b00000000, 0b10101010, 0b01010101), 0b01010101)\n",
    "\n",
    "    def test_ch_alternating_pattern(self):\n",
    "        \"\"\"Test with alternating selector bits.\"\"\"\n",
    "        self.assertEqual(ch(0b11001100, 0b11110000, 0b00001111), 0b11000011)\n",
    "\n",
    "unittest.main(argv=[''], verbosity=2, exit=False)\n"
   ]
  },
  {
   "cell_type": "markdown",
   "metadata": {},
   "source": [
    "\n",
    "### 4. **`maj(x, y, z)`** – Calculates the majority bit for each position across `x`, `y`, and `z`. If at least two of the inputs have a `1` in a position, the result gets a `1`.\n"
   ]
  },
  {
   "cell_type": "code",
   "execution_count": 76,
   "metadata": {},
   "outputs": [],
   "source": [
    "# Majority Function\n",
    "def maj(x: int, y: int, z: int) -> int:\n",
    "    \"\"\"\n",
    "    Computes the majority function on the bits of x, y, and z.\n",
    "    \"\"\"\n",
    "    return (x & y) | (x & z) | (y & z) & 0xFFFFFFFF"
   ]
  },
  {
   "cell_type": "markdown",
   "metadata": {},
   "source": [
    "### Example Usage Of MAJ - This example demonstrates the maj function, which outputs a 1 in each bit position where at least two of the inputs have a 1, showing how the majority vote works at the bit level."
   ]
  },
  {
   "cell_type": "code",
   "execution_count": 77,
   "metadata": {},
   "outputs": [
    {
     "name": "stdout",
     "output_type": "stream",
     "text": [
      "Input 1 (x):    0b10101010\n",
      "Input 2 (y):    0b11110000\n",
      "Input 3 (z):    0b1111\n",
      "Majority result: 0b10101010\n"
     ]
    }
   ],
   "source": [
    "# Example usage of maj\n",
    "x = 0b10101010  # Input 1\n",
    "y = 0b11110000  # Input 2\n",
    "z = 0b00001111  # Input 3\n",
    "\n",
    "majority_bits = maj(x, y, z)\n",
    "\n",
    "# Output the result of the majority function\n",
    "print(f\"Input 1 (x):    {bin(x)}\") \n",
    "print(f\"Input 2 (y):    {bin(y)}\")\n",
    "print(f\"Input 3 (z):    {bin(z)}\")\n",
    "print(f\"Majority result: {bin(majority_bits)}\")\n"
   ]
  },
  {
   "cell_type": "markdown",
   "metadata": {},
   "source": [
    "### - Test Case For MAJ"
   ]
  },
  {
   "cell_type": "code",
   "execution_count": 78,
   "metadata": {},
   "outputs": [
    {
     "name": "stderr",
     "output_type": "stream",
     "text": [
      "test_ch_all_ones_selector (__main__.TestChooseFunction.test_ch_all_ones_selector)\n",
      "Test when the selector is all 1s (should return y). ... ok\n",
      "test_ch_all_zeros_selector (__main__.TestChooseFunction.test_ch_all_zeros_selector)\n",
      "Test when the selector is all 0s (should return z). ... ok\n",
      "test_ch_alternating_pattern (__main__.TestChooseFunction.test_ch_alternating_pattern)\n",
      "Test with alternating selector bits. ... ok\n",
      "test_ch_basic (__main__.TestChooseFunction.test_ch_basic)\n",
      "Test basic choose function with a mix of 1s and 0s in the selector. ... ok\n",
      "test_maj_all_ones (__main__.TestMajorityFunction.test_maj_all_ones)\n",
      "Test when all inputs are ones (result should be all ones). ... ok\n",
      "test_maj_all_zeros (__main__.TestMajorityFunction.test_maj_all_zeros)\n",
      "Test when all inputs are zeros (result should be all zeros). ... ok\n",
      "test_maj_basic (__main__.TestMajorityFunction.test_maj_basic)\n",
      "Test majority function with mixed input bits. ... ok\n",
      "test_maj_pattern_mixed_bits (__main__.TestMajorityFunction.test_maj_pattern_mixed_bits)\n",
      "Test a case with a mix of majority and minority bits. ... ok\n",
      "test_maj_two_majority_bits (__main__.TestMajorityFunction.test_maj_two_majority_bits)\n",
      "Test when two inputs agree on bits and the third differs. ... ok\n",
      "test_rotl_basic (__main__.TestRotateLeft.test_rotl_basic) ... ok\n",
      "test_rotl_wraparound (__main__.TestRotateLeft.test_rotl_wraparound) ... ok\n",
      "test_rotl_zero_rotation (__main__.TestRotateLeft.test_rotl_zero_rotation) ... ok\n",
      "test_rotr_basic (__main__.TestRotateRight.test_rotr_basic)\n",
      "Test basic right rotation by 1 position. ... ok\n",
      "test_rotr_wraparound (__main__.TestRotateRight.test_rotr_wraparound)\n",
      "Test wrap-around where the least significant bit moves to the most significant bit. ... ok\n",
      "test_rotr_zero_rotation (__main__.TestRotateRight.test_rotr_zero_rotation)\n",
      "Test rotation by 0 positions (should return the original value). ... ok\n",
      "\n",
      "----------------------------------------------------------------------\n",
      "Ran 15 tests in 0.005s\n",
      "\n",
      "OK\n"
     ]
    },
    {
     "data": {
      "text/plain": [
       "<unittest.main.TestProgram at 0x118de2750>"
      ]
     },
     "execution_count": 78,
     "metadata": {},
     "output_type": "execute_result"
    }
   ],
   "source": [
    "import unittest\n",
    "\n",
    "class TestMajorityFunction(unittest.TestCase):\n",
    "\n",
    "    def test_maj_basic(self):\n",
    "        \"\"\"Test majority function with mixed input bits.\"\"\"\n",
    "        self.assertEqual(maj(0b10101010, 0b11110000, 0b00001111), 0b10101010)\n",
    "\n",
    "    def test_maj_all_zeros(self):\n",
    "        \"\"\"Test when all inputs are zeros (result should be all zeros).\"\"\"\n",
    "        self.assertEqual(maj(0b00000000, 0b00000000, 0b00000000), 0b00000000)\n",
    "\n",
    "    def test_maj_all_ones(self):\n",
    "        \"\"\"Test when all inputs are ones (result should be all ones).\"\"\"\n",
    "        self.assertEqual(maj(0b11111111, 0b11111111, 0b11111111), 0b11111111)\n",
    "\n",
    "    def test_maj_two_majority_bits(self):\n",
    "        \"\"\"Test when two inputs agree on bits and the third differs.\"\"\"\n",
    "        self.assertEqual(maj(0b10101010, 0b10101010, 0b01010101), 0b10101010)\n",
    "\n",
    "    def test_maj_pattern_mixed_bits(self):\n",
    "        \"\"\"Test a case with a mix of majority and minority bits.\"\"\"\n",
    "        self.assertEqual(maj(0b11001100, 0b11110000, 0b00001111), 0b11001100)\n",
    "\n",
    "unittest.main(argv=[''], verbosity=2, exit=False)\n"
   ]
  }
 ],
 "metadata": {
  "kernelspec": {
   "display_name": "Python 3",
   "language": "python",
   "name": "python3"
  },
  "language_info": {
   "codemirror_mode": {
    "name": "ipython",
    "version": 3
   },
   "file_extension": ".py",
   "mimetype": "text/x-python",
   "name": "python",
   "nbconvert_exporter": "python",
   "pygments_lexer": "ipython3",
   "version": "3.13.0"
  }
 },
 "nbformat": 4,
 "nbformat_minor": 2
}
